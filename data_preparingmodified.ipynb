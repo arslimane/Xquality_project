{
 "cells": [
  {
   "cell_type": "code",
   "execution_count": 1,
   "id": "2a4c4d58",
   "metadata": {
    "id": "2a4c4d58"
   },
   "outputs": [],
   "source": [
    "import numpy as np"
   ]
  },
  {
   "cell_type": "code",
   "execution_count": 2,
   "id": "1b644822",
   "metadata": {
    "id": "1b644822"
   },
   "outputs": [],
   "source": [
    "X1=np.load(\"X1_25.npy\")\n",
    "X2=np.load(\"X2_25.npy\")"
   ]
  },
  {
   "cell_type": "code",
   "execution_count": 3,
   "id": "0655e9db",
   "metadata": {
    "id": "0655e9db",
    "outputId": "749486aa-abcc-4d6c-90c1-9402b5a7ff0a",
    "scrolled": true
   },
   "outputs": [
    {
     "data": {
      "text/plain": [
       "(27672, 25, 6, 848)"
      ]
     },
     "execution_count": 3,
     "metadata": {},
     "output_type": "execute_result"
    }
   ],
   "source": [
    "X1.shape"
   ]
  },
  {
   "cell_type": "code",
   "execution_count": 4,
   "id": "3402d472",
   "metadata": {
    "colab": {
     "base_uri": "https://localhost:8080/"
    },
    "id": "3402d472",
    "outputId": "28005772-178a-4d01-8f0b-e9c16ca75ea7"
   },
   "outputs": [
    {
     "data": {
      "text/plain": [
       "(20929, 25, 6, 848)"
      ]
     },
     "execution_count": 4,
     "metadata": {},
     "output_type": "execute_result"
    }
   ],
   "source": [
    "X2.shape"
   ]
  },
  {
   "cell_type": "code",
   "execution_count": 5,
   "id": "f5b241e9",
   "metadata": {
    "id": "f5b241e9"
   },
   "outputs": [],
   "source": [
    "X1=np.float32(X1)\n",
    "X2=np.float32(X2)\n"
   ]
  },
  {
   "cell_type": "code",
   "execution_count": 6,
   "id": "759cfbf6",
   "metadata": {
    "id": "759cfbf6",
    "outputId": "3dcc018a-9b59-4fac-a51d-54f5645a112b"
   },
   "outputs": [
    {
     "name": "stdout",
     "output_type": "stream",
     "text": [
      "Epoch 1/10\n",
      "433/433 [==============================] - 72s 166ms/step - loss: 0.0104 - val_loss: 0.0115\n",
      "Epoch 2/10\n",
      "433/433 [==============================] - 71s 165ms/step - loss: 0.0032 - val_loss: 0.0118\n",
      "Epoch 3/10\n",
      "433/433 [==============================] - 72s 167ms/step - loss: 0.0027 - val_loss: 0.0104\n",
      "Epoch 4/10\n",
      "433/433 [==============================] - 72s 167ms/step - loss: 0.0026 - val_loss: 0.0105\n",
      "Epoch 5/10\n",
      "433/433 [==============================] - 73s 168ms/step - loss: 0.0023 - val_loss: 0.0112\n",
      "Epoch 6/10\n",
      "433/433 [==============================] - 73s 169ms/step - loss: 0.0023 - val_loss: 0.0105\n",
      "Epoch 7/10\n",
      "433/433 [==============================] - 72s 166ms/step - loss: 0.0023 - val_loss: 0.0101\n",
      "Epoch 8/10\n",
      "433/433 [==============================] - 72s 165ms/step - loss: 0.0023 - val_loss: 0.0101\n",
      "Epoch 9/10\n",
      "433/433 [==============================] - 72s 167ms/step - loss: 0.0021 - val_loss: 0.0107\n",
      "Epoch 10/10\n",
      "433/433 [==============================] - 71s 165ms/step - loss: 0.0021 - val_loss: 0.0101\n"
     ]
    },
    {
     "data": {
      "text/plain": [
       "<keras.callbacks.History at 0x226f7928340>"
      ]
     },
     "execution_count": 6,
     "metadata": {},
     "output_type": "execute_result"
    }
   ],
   "source": [
    "from keras.layers import Input, Dense, Reshape, Flatten,Dropout\n",
    "from keras.models import Model\n",
    "from keras.optimizers import Adam\n",
    "from tensorflow.keras.callbacks import EarlyStopping\n",
    "\n",
    "input_shape = (25,6,848)\n",
    "hidden_size1 = 256\n",
    "hidden_size2 = 128\n",
    "hidden_size3 = 100\n",
    "code_size = 64\n",
    "\n",
    "input_layer = Input(shape=(input_shape))\n",
    "hidden_layer_0=Flatten()(input_layer)\n",
    "hidden_layer_1 = Dense(hidden_size1, activation='relu')(hidden_layer_0)\n",
    "hidden_layer_2 = Dense(hidden_size2, activation='relu')(hidden_layer_1)\n",
    "hidden_layer_3 = Dense(hidden_size3, activation='relu')(hidden_layer_2)\n",
    "bottleneck_layer = Dense(code_size*25, activation='linear')(hidden_layer_3)\n",
    "\n",
    "# Define the decoder network\n",
    "hidden_layer_5 = Dense(hidden_size1, activation='relu')(bottleneck_layer)\n",
    "hidden_layer_6 = Dense(hidden_size2, activation='relu')(hidden_layer_5)\n",
    "hidden_layer_7 = Dense(hidden_size1, activation='relu')(hidden_layer_6)\n",
    "hidden_layer_8 = Dense(6*848*25, activation='linear')(hidden_layer_7)\n",
    "output_layer=Reshape((25,6,848))(hidden_layer_8)\n",
    "\n",
    "autoencoder = Model(input_layer, output_layer)\n",
    "opt = Adam(learning_rate=0.001)\n",
    "autoencoder.compile(optimizer=opt, loss='mse')\n",
    "early_stopping = EarlyStopping(monitor='val_loss', patience=5, mode='min')\n",
    "autoencoder.fit(X1, X1, epochs=10,batch_size=64,\n",
    "                validation_data=(X2, X2),callbacks=[early_stopping]\n",
    "              )"
   ]
  },
  {
   "cell_type": "code",
   "execution_count": 7,
   "id": "a3cb8e3d",
   "metadata": {
    "id": "a3cb8e3d"
   },
   "outputs": [],
   "source": [
    "encoder = Model(input_layer, bottleneck_layer)\n",
    "encoder.compile(optimizer='adam', loss='mse')"
   ]
  },
  {
   "cell_type": "code",
   "execution_count": 8,
   "id": "74201088",
   "metadata": {
    "id": "74201088",
    "outputId": "0cfb7f27-2da9-4a27-b445-d8472c454ffe"
   },
   "outputs": [
    {
     "name": "stdout",
     "output_type": "stream",
     "text": [
      "865/865 [==============================] - 11s 12ms/step\n",
      "655/655 [==============================] - 8s 12ms/step\n"
     ]
    }
   ],
   "source": [
    "X11=encoder.predict(X1)\n",
    "X22=encoder.predict(X2)"
   ]
  },
  {
   "cell_type": "code",
   "execution_count": 9,
   "id": "657e251a",
   "metadata": {},
   "outputs": [],
   "source": [
    "decoder = Model(bottleneck_layer, output_layer)\n",
    "decoder.compile(optimizer='adam', loss='mse')"
   ]
  },
  {
   "cell_type": "code",
   "execution_count": 10,
   "id": "d2cdec57",
   "metadata": {},
   "outputs": [
    {
     "name": "stdout",
     "output_type": "stream",
     "text": [
      "913/913 [==============================] - 4s 4ms/step\n",
      "689/689 [==============================] - 3s 4ms/step\n"
     ]
    }
   ],
   "source": [
    "Y1=decoder.predict(X11)\n",
    "Y2=decoder.predict(X22)"
   ]
  },
  {
   "cell_type": "code",
   "execution_count": 18,
   "id": "24558ad1",
   "metadata": {
    "id": "24558ad1"
   },
   "outputs": [],
   "source": [
    "np.save(\"X11_25\",X11)\n",
    "np.save(\"X22_25\",X22)"
   ]
  },
  {
   "cell_type": "code",
   "execution_count": 9,
   "id": "dfbed698",
   "metadata": {
    "id": "dfbed698"
   },
   "outputs": [],
   "source": [
    "encoder.save(\"encoder-simple_25.h5\")"
   ]
  },
  {
   "cell_type": "markdown",
   "id": "917775ff",
   "metadata": {},
   "source": [
    "# Cnn encoder"
   ]
  },
  {
   "cell_type": "code",
   "execution_count": 10,
   "id": "f06b9808",
   "metadata": {},
   "outputs": [
    {
     "name": "stdout",
     "output_type": "stream",
     "text": [
      "Model: \"model_2\"\n",
      "_________________________________________________________________\n",
      " Layer (type)                Output Shape              Param #   \n",
      "=================================================================\n",
      " input_2 (InputLayer)        [(None, 25, 6, 848)]      0         \n",
      "                                                                 \n",
      " conv2d (Conv2D)             (None, 25, 6, 128)        977024    \n",
      "                                                                 \n",
      " max_pooling2d (MaxPooling2D  (None, 25, 3, 128)       0         \n",
      " )                                                               \n",
      "                                                                 \n",
      " conv2d_1 (Conv2D)           (None, 25, 3, 64)         73792     \n",
      "                                                                 \n",
      " max_pooling2d_1 (MaxPooling  (None, 25, 2, 64)        0         \n",
      " 2D)                                                             \n",
      "                                                                 \n",
      " conv2d_2 (Conv2D)           (None, 25, 2, 64)         36928     \n",
      "                                                                 \n",
      " max_pooling2d_2 (MaxPooling  (None, 25, 1, 64)        0         \n",
      " 2D)                                                             \n",
      "                                                                 \n",
      " reshape_2 (Reshape)         (None, 25, 1, 64)         0         \n",
      "                                                                 \n",
      " conv2d_3 (Conv2D)           (None, 25, 1, 64)         36928     \n",
      "                                                                 \n",
      " up_sampling2d (UpSampling2D  (None, 25, 2, 64)        0         \n",
      " )                                                               \n",
      "                                                                 \n",
      " conv2d_4 (Conv2D)           (None, 25, 2, 64)         36928     \n",
      "                                                                 \n",
      " up_sampling2d_1 (UpSampling  (None, 25, 4, 64)        0         \n",
      " 2D)                                                             \n",
      "                                                                 \n",
      " conv2d_5 (Conv2D)           (None, 25, 4, 128)        73856     \n",
      "                                                                 \n",
      " up_sampling2d_2 (UpSampling  (None, 25, 8, 128)       0         \n",
      " 2D)                                                             \n",
      "                                                                 \n",
      " conv2d_6 (Conv2D)           (None, 25, 8, 216)        249048    \n",
      "                                                                 \n",
      " reshape_3 (Reshape)         (None, 25, 6, 288)        0         \n",
      "                                                                 \n",
      " conv2d_7 (Conv2D)           (None, 25, 6, 848)        2198864   \n",
      "                                                                 \n",
      "=================================================================\n",
      "Total params: 3,683,368\n",
      "Trainable params: 3,683,368\n",
      "Non-trainable params: 0\n",
      "_________________________________________________________________\n",
      "None\n"
     ]
    }
   ],
   "source": [
    "from keras.layers import Input, Conv2D, MaxPooling2D, Flatten, Dense, Reshape, UpSampling2D,Dropout\n",
    "from keras.models import Model\n",
    "\n",
    "# Define input shape\n",
    "input_shape = (25,6, 848)\n",
    "\n",
    "# Define encoder architecture\n",
    "inputs = Input(shape=input_shape)\n",
    "x = Conv2D(128, 3, activation='relu', padding='same' )(inputs)\n",
    "x = MaxPooling2D((1,2), padding='same')(x)\n",
    "x = Conv2D(64, 3, activation='relu', padding='same')(x)\n",
    "x = MaxPooling2D((1,2), padding='same')(x)\n",
    "x = Conv2D(64, 3, activation='relu', padding='same')(x)\n",
    "x = MaxPooling2D((1,2), padding='same')(x)\n",
    "\n",
    "encoded2 = Reshape((25,64))(x)\n",
    "\n",
    "\n",
    "\n",
    "# Define decoder architecture\n",
    "x = Reshape((25,1,64))(x)\n",
    "x = Conv2D(64, 3, activation='relu', padding='same')(x)\n",
    "x = UpSampling2D((1,2))(x)\n",
    "x = Conv2D(64, 3, activation='relu', padding='same')(x)\n",
    "x = UpSampling2D((1,2))(x)\n",
    "x = Conv2D(128, 3, activation='relu', padding='same')(x)\n",
    "x = UpSampling2D((1,2))(x)\n",
    "x=Conv2D(216, 3, activation='sigmoid', padding='same')(x)\n",
    "x=Reshape((25,6,288))(x)\n",
    "\n",
    "decoded2 = Conv2D(848, 3, activation='sigmoid', padding='same')(x)\n",
    "\n",
    "# Define autoencoder model\n",
    "autoencoder2 = Model(inputs=inputs, outputs=decoded2)\n",
    "\n",
    "# Compile model\n",
    "autoencoder2.compile(optimizer='adam', loss='mse')\n",
    "\n",
    "# Print model summary\n",
    "print(autoencoder2.summary())\n"
   ]
  },
  {
   "cell_type": "code",
   "execution_count": 11,
   "id": "ccc956ef",
   "metadata": {},
   "outputs": [
    {
     "name": "stdout",
     "output_type": "stream",
     "text": [
      "Epoch 1/10\n",
      "433/433 [==============================] - 237s 546ms/step - loss: 0.0450 - val_loss: 0.0518\n",
      "Epoch 2/10\n",
      "433/433 [==============================] - 234s 541ms/step - loss: 0.0425 - val_loss: 0.0518\n",
      "Epoch 3/10\n",
      "433/433 [==============================] - 236s 546ms/step - loss: 0.0425 - val_loss: 0.0520\n",
      "Epoch 4/10\n",
      "433/433 [==============================] - 235s 544ms/step - loss: 0.0426 - val_loss: 0.0516\n",
      "Epoch 5/10\n",
      "433/433 [==============================] - 238s 549ms/step - loss: 0.0425 - val_loss: 0.0518\n",
      "Epoch 6/10\n",
      "433/433 [==============================] - 236s 546ms/step - loss: 0.0426 - val_loss: 0.0523\n",
      "Epoch 7/10\n",
      "433/433 [==============================] - 240s 554ms/step - loss: 0.0425 - val_loss: 0.0517\n",
      "Epoch 8/10\n",
      "433/433 [==============================] - 235s 544ms/step - loss: 0.0426 - val_loss: 0.0519\n",
      "Epoch 9/10\n",
      "433/433 [==============================] - 235s 543ms/step - loss: 0.0426 - val_loss: 0.0518\n",
      "Epoch 10/10\n",
      "433/433 [==============================] - 236s 544ms/step - loss: 0.0425 - val_loss: 0.0520\n"
     ]
    },
    {
     "data": {
      "text/plain": [
       "<keras.callbacks.History at 0x226f7c15340>"
      ]
     },
     "execution_count": 11,
     "metadata": {},
     "output_type": "execute_result"
    }
   ],
   "source": [
    "# Train the model\n",
    "autoencoder2.fit(X1, X1,\n",
    "                epochs=10,\n",
    "                batch_size=64,\n",
    "                shuffle=True,\n",
    "                validation_data=(X2, X2)\n",
    "               )"
   ]
  },
  {
   "cell_type": "code",
   "execution_count": 12,
   "id": "a59812f1",
   "metadata": {},
   "outputs": [],
   "source": [
    "encoder_2 = Model(inputs, encoded2)\n",
    "encoder_2.compile(optimizer='adam', loss='mse')"
   ]
  },
  {
   "cell_type": "code",
   "execution_count": 13,
   "id": "85f75f9d",
   "metadata": {},
   "outputs": [],
   "source": [
    "encoder_2.save(\"encoder_cnn_25.h5\")"
   ]
  },
  {
   "cell_type": "code",
   "execution_count": null,
   "id": "4f724aab",
   "metadata": {},
   "outputs": [],
   "source": []
  }
 ],
 "metadata": {
  "colab": {
   "provenance": []
  },
  "kernelspec": {
   "display_name": "Python 3 (ipykernel)",
   "language": "python",
   "name": "python3"
  },
  "language_info": {
   "codemirror_mode": {
    "name": "ipython",
    "version": 3
   },
   "file_extension": ".py",
   "mimetype": "text/x-python",
   "name": "python",
   "nbconvert_exporter": "python",
   "pygments_lexer": "ipython3",
   "version": "3.9.13"
  }
 },
 "nbformat": 4,
 "nbformat_minor": 5
}
