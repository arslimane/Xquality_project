{
 "cells": [
  {
   "cell_type": "code",
   "execution_count": 1,
   "id": "0cd52ba8",
   "metadata": {},
   "outputs": [
    {
     "name": "stdout",
     "output_type": "stream",
     "text": [
      "Requirement already satisfied: tensorflow in c:\\users\\sarbaoui01\\anaconda3\\lib\\site-packages (2.11.1)\n",
      "Requirement already satisfied: tensorflow-intel==2.11.1 in c:\\users\\sarbaoui01\\anaconda3\\lib\\site-packages (from tensorflow) (2.11.1)\n",
      "Requirement already satisfied: setuptools in c:\\users\\sarbaoui01\\anaconda3\\lib\\site-packages (from tensorflow-intel==2.11.1->tensorflow) (63.4.1)\n",
      "Requirement already satisfied: google-pasta>=0.1.1 in c:\\users\\sarbaoui01\\anaconda3\\lib\\site-packages (from tensorflow-intel==2.11.1->tensorflow) (0.2.0)\n",
      "Requirement already satisfied: tensorboard<2.12,>=2.11 in c:\\users\\sarbaoui01\\anaconda3\\lib\\site-packages (from tensorflow-intel==2.11.1->tensorflow) (2.11.2)\n",
      "Requirement already satisfied: typing-extensions>=3.6.6 in c:\\users\\sarbaoui01\\anaconda3\\lib\\site-packages (from tensorflow-intel==2.11.1->tensorflow) (4.3.0)\n",
      "Requirement already satisfied: tensorflow-io-gcs-filesystem>=0.23.1 in c:\\users\\sarbaoui01\\anaconda3\\lib\\site-packages (from tensorflow-intel==2.11.1->tensorflow) (0.31.0)\n",
      "Requirement already satisfied: flatbuffers>=2.0 in c:\\users\\sarbaoui01\\anaconda3\\lib\\site-packages (from tensorflow-intel==2.11.1->tensorflow) (23.3.3)\n",
      "Requirement already satisfied: wrapt>=1.11.0 in c:\\users\\sarbaoui01\\anaconda3\\lib\\site-packages (from tensorflow-intel==2.11.1->tensorflow) (1.12.1)\n",
      "Requirement already satisfied: opt-einsum>=2.3.2 in c:\\users\\sarbaoui01\\anaconda3\\lib\\site-packages (from tensorflow-intel==2.11.1->tensorflow) (3.3.0)\n",
      "Requirement already satisfied: termcolor>=1.1.0 in c:\\users\\sarbaoui01\\anaconda3\\lib\\site-packages (from tensorflow-intel==2.11.1->tensorflow) (2.2.0)\n",
      "Requirement already satisfied: keras<2.12,>=2.11.0 in c:\\users\\sarbaoui01\\anaconda3\\lib\\site-packages (from tensorflow-intel==2.11.1->tensorflow) (2.11.0)\n",
      "Requirement already satisfied: six>=1.12.0 in c:\\users\\sarbaoui01\\anaconda3\\lib\\site-packages (from tensorflow-intel==2.11.1->tensorflow) (1.16.0)\n",
      "Requirement already satisfied: grpcio<2.0,>=1.24.3 in c:\\users\\sarbaoui01\\anaconda3\\lib\\site-packages (from tensorflow-intel==2.11.1->tensorflow) (1.51.3)\n",
      "Requirement already satisfied: libclang>=13.0.0 in c:\\users\\sarbaoui01\\anaconda3\\lib\\site-packages (from tensorflow-intel==2.11.1->tensorflow) (15.0.6.1)\n",
      "Requirement already satisfied: protobuf<3.20,>=3.9.2 in c:\\users\\sarbaoui01\\anaconda3\\lib\\site-packages (from tensorflow-intel==2.11.1->tensorflow) (3.19.6)\n",
      "Requirement already satisfied: numpy>=1.20 in c:\\users\\sarbaoui01\\anaconda3\\lib\\site-packages (from tensorflow-intel==2.11.1->tensorflow) (1.21.5)\n",
      "Requirement already satisfied: packaging in c:\\users\\sarbaoui01\\anaconda3\\lib\\site-packages (from tensorflow-intel==2.11.1->tensorflow) (21.3)\n",
      "Requirement already satisfied: tensorflow-estimator<2.12,>=2.11.0 in c:\\users\\sarbaoui01\\anaconda3\\lib\\site-packages (from tensorflow-intel==2.11.1->tensorflow) (2.11.0)\n",
      "Requirement already satisfied: gast<=0.4.0,>=0.2.1 in c:\\users\\sarbaoui01\\anaconda3\\lib\\site-packages (from tensorflow-intel==2.11.1->tensorflow) (0.4.0)\n",
      "Requirement already satisfied: h5py>=2.9.0 in c:\\users\\sarbaoui01\\anaconda3\\lib\\site-packages (from tensorflow-intel==2.11.1->tensorflow) (3.7.0)\n",
      "Requirement already satisfied: absl-py>=1.0.0 in c:\\users\\sarbaoui01\\anaconda3\\lib\\site-packages (from tensorflow-intel==2.11.1->tensorflow) (1.4.0)\n",
      "Requirement already satisfied: astunparse>=1.6.0 in c:\\users\\sarbaoui01\\anaconda3\\lib\\site-packages (from tensorflow-intel==2.11.1->tensorflow) (1.6.3)\n",
      "Requirement already satisfied: wheel<1.0,>=0.23.0 in c:\\users\\sarbaoui01\\anaconda3\\lib\\site-packages (from astunparse>=1.6.0->tensorflow-intel==2.11.1->tensorflow) (0.37.1)\n",
      "Requirement already satisfied: requests<3,>=2.21.0 in c:\\users\\sarbaoui01\\anaconda3\\lib\\site-packages (from tensorboard<2.12,>=2.11->tensorflow-intel==2.11.1->tensorflow) (2.28.1)\n",
      "Requirement already satisfied: tensorboard-plugin-wit>=1.6.0 in c:\\users\\sarbaoui01\\anaconda3\\lib\\site-packages (from tensorboard<2.12,>=2.11->tensorflow-intel==2.11.1->tensorflow) (1.8.1)\n",
      "Requirement already satisfied: tensorboard-data-server<0.7.0,>=0.6.0 in c:\\users\\sarbaoui01\\anaconda3\\lib\\site-packages (from tensorboard<2.12,>=2.11->tensorflow-intel==2.11.1->tensorflow) (0.6.1)\n",
      "Requirement already satisfied: google-auth-oauthlib<0.5,>=0.4.1 in c:\\users\\sarbaoui01\\anaconda3\\lib\\site-packages (from tensorboard<2.12,>=2.11->tensorflow-intel==2.11.1->tensorflow) (0.4.6)\n",
      "Requirement already satisfied: werkzeug>=1.0.1 in c:\\users\\sarbaoui01\\anaconda3\\lib\\site-packages (from tensorboard<2.12,>=2.11->tensorflow-intel==2.11.1->tensorflow) (2.2.3)\n",
      "Requirement already satisfied: google-auth<3,>=1.6.3 in c:\\users\\sarbaoui01\\anaconda3\\lib\\site-packages (from tensorboard<2.12,>=2.11->tensorflow-intel==2.11.1->tensorflow) (2.16.2)\n",
      "Requirement already satisfied: markdown>=2.6.8 in c:\\users\\sarbaoui01\\anaconda3\\lib\\site-packages (from tensorboard<2.12,>=2.11->tensorflow-intel==2.11.1->tensorflow) (3.3.4)\n",
      "Requirement already satisfied: pyparsing!=3.0.5,>=2.0.2 in c:\\users\\sarbaoui01\\anaconda3\\lib\\site-packages (from packaging->tensorflow-intel==2.11.1->tensorflow) (3.0.9)\n",
      "Requirement already satisfied: cachetools<6.0,>=2.0.0 in c:\\users\\sarbaoui01\\anaconda3\\lib\\site-packages (from google-auth<3,>=1.6.3->tensorboard<2.12,>=2.11->tensorflow-intel==2.11.1->tensorflow) (5.3.0)\n",
      "Requirement already satisfied: rsa<5,>=3.1.4 in c:\\users\\sarbaoui01\\anaconda3\\lib\\site-packages (from google-auth<3,>=1.6.3->tensorboard<2.12,>=2.11->tensorflow-intel==2.11.1->tensorflow) (4.9)\n",
      "Requirement already satisfied: pyasn1-modules>=0.2.1 in c:\\users\\sarbaoui01\\anaconda3\\lib\\site-packages (from google-auth<3,>=1.6.3->tensorboard<2.12,>=2.11->tensorflow-intel==2.11.1->tensorflow) (0.2.8)\n",
      "Requirement already satisfied: requests-oauthlib>=0.7.0 in c:\\users\\sarbaoui01\\anaconda3\\lib\\site-packages (from google-auth-oauthlib<0.5,>=0.4.1->tensorboard<2.12,>=2.11->tensorflow-intel==2.11.1->tensorflow) (1.3.1)\n",
      "Requirement already satisfied: urllib3<1.27,>=1.21.1 in c:\\users\\sarbaoui01\\anaconda3\\lib\\site-packages (from requests<3,>=2.21.0->tensorboard<2.12,>=2.11->tensorflow-intel==2.11.1->tensorflow) (1.26.11)\n",
      "Requirement already satisfied: certifi>=2017.4.17 in c:\\users\\sarbaoui01\\anaconda3\\lib\\site-packages (from requests<3,>=2.21.0->tensorboard<2.12,>=2.11->tensorflow-intel==2.11.1->tensorflow) (2022.9.14)\n",
      "Requirement already satisfied: idna<4,>=2.5 in c:\\users\\sarbaoui01\\anaconda3\\lib\\site-packages (from requests<3,>=2.21.0->tensorboard<2.12,>=2.11->tensorflow-intel==2.11.1->tensorflow) (3.3)\n",
      "Requirement already satisfied: charset-normalizer<3,>=2 in c:\\users\\sarbaoui01\\anaconda3\\lib\\site-packages (from requests<3,>=2.21.0->tensorboard<2.12,>=2.11->tensorflow-intel==2.11.1->tensorflow) (2.0.4)\n",
      "Requirement already satisfied: MarkupSafe>=2.1.1 in c:\\users\\sarbaoui01\\anaconda3\\lib\\site-packages (from werkzeug>=1.0.1->tensorboard<2.12,>=2.11->tensorflow-intel==2.11.1->tensorflow) (2.1.2)\n",
      "Requirement already satisfied: pyasn1<0.5.0,>=0.4.6 in c:\\users\\sarbaoui01\\anaconda3\\lib\\site-packages (from pyasn1-modules>=0.2.1->google-auth<3,>=1.6.3->tensorboard<2.12,>=2.11->tensorflow-intel==2.11.1->tensorflow) (0.4.8)\n",
      "Requirement already satisfied: oauthlib>=3.0.0 in c:\\users\\sarbaoui01\\anaconda3\\lib\\site-packages (from requests-oauthlib>=0.7.0->google-auth-oauthlib<0.5,>=0.4.1->tensorboard<2.12,>=2.11->tensorflow-intel==2.11.1->tensorflow) (3.2.2)\n"
     ]
    }
   ],
   "source": [
    "!pip install tensorflow\n",
    "import pandas as pd\n",
    "import tensorflow as tf\n",
    "import numpy as np\n",
    "import tensorflow as tf\n",
    "from tensorflow import keras\n",
    "from tensorflow.keras.layers import Dense, LSTM,BatchNormalization,Dropout\n",
    "from tensorflow.keras.models import Sequential\n",
    "from tensorflow.keras.optimizers import Adam\n",
    "import tensorflow.keras.backend as K\n",
    "import pickle\n",
    "import matplotlib.pyplot as plt\n",
    "from tensorflow.keras.regularizers import l2"
   ]
  },
  {
   "cell_type": "markdown",
   "id": "7f64d883",
   "metadata": {},
   "source": [
    "# Lstm model after using encoder"
   ]
  },
  {
   "cell_type": "code",
   "execution_count": 2,
   "id": "93d8538e",
   "metadata": {},
   "outputs": [],
   "source": [
    "X1=np.load(\"X11_25.npy\")\n",
    "X2=np.load(\"X22_25.npy\")\n"
   ]
  },
  {
   "cell_type": "code",
   "execution_count": 3,
   "id": "47f83364",
   "metadata": {},
   "outputs": [
    {
     "data": {
      "text/plain": [
       "(27672, 1600)"
      ]
     },
     "execution_count": 3,
     "metadata": {},
     "output_type": "execute_result"
    }
   ],
   "source": [
    "X1.shape"
   ]
  },
  {
   "cell_type": "code",
   "execution_count": 4,
   "id": "a0dfa2b9",
   "metadata": {},
   "outputs": [],
   "source": [
    "Y1=np.load(\"Y1_25.npy\",allow_pickle=True)\n",
    "Y2=np.load(\"Y2_25.npy\",allow_pickle=True)"
   ]
  },
  {
   "cell_type": "code",
   "execution_count": 5,
   "id": "a52d0dc7",
   "metadata": {},
   "outputs": [],
   "source": [
    "X1=np.float32(X1)\n",
    "X2=np.float32(X2)\n",
    "Y1=np.float32(Y1)\n",
    "Y2=np.float32(Y2)"
   ]
  },
  {
   "cell_type": "code",
   "execution_count": 8,
   "id": "d9670ed8",
   "metadata": {},
   "outputs": [],
   "source": [
    "X1=np.reshape(X1,(X1.shape[0],25,64))\n",
    "X2=np.reshape(X2,(X2.shape[0],25,64))"
   ]
  },
  {
   "cell_type": "code",
   "execution_count": 9,
   "id": "a05633f4",
   "metadata": {},
   "outputs": [],
   "source": [
    "XT=np.concatenate((X1, X2), axis=0)"
   ]
  },
  {
   "cell_type": "code",
   "execution_count": 10,
   "id": "c1e728c0",
   "metadata": {},
   "outputs": [],
   "source": [
    "YT=np.concatenate((Y1, Y2), axis=0)"
   ]
  },
  {
   "cell_type": "code",
   "execution_count": 11,
   "id": "6d27a703",
   "metadata": {},
   "outputs": [],
   "source": [
    "def createModel(inputShape,output):\n",
    "# define model\n",
    "    model = Sequential()\n",
    "    model.add(LSTM(100, activation='relu',input_shape=inputShape,return_sequences=True))\n",
    "    model.add(LSTM(100,activation='relu', return_sequences=False))\n",
    "#     model.add(LSTM(64,activation='relu', return_sequences=False))\n",
    "#     model.add(Dense(16, activation='linear'))\n",
    "#     model.add(Dropout(0.3))\n",
    "    model.add(Dense(output))\n",
    "\n",
    "    opt = keras.optimizers.Adam(learning_rate=0.0001)\n",
    "    model.compile(loss='mae',metrics=['mae'],optimizer=\"adam\")\n",
    "    # model.compile(optimizer='adam', loss='mean_squared_error',metrics=['mse'])\n",
    "    return model"
   ]
  },
  {
   "cell_type": "code",
   "execution_count": 12,
   "id": "b2789834",
   "metadata": {},
   "outputs": [],
   "source": [
    "time_steps = 25  # Number of time steps\n",
    "feature_length = 64  # Length of each feature vector\n",
    "input_shape = (time_steps, feature_length)\n",
    "\n",
    "model=createModel(input_shape,50)"
   ]
  },
  {
   "cell_type": "code",
   "execution_count": 13,
   "id": "c2d55aa1",
   "metadata": {},
   "outputs": [
    {
     "name": "stdout",
     "output_type": "stream",
     "text": [
      "Model: \"sequential\"\n",
      "_________________________________________________________________\n",
      " Layer (type)                Output Shape              Param #   \n",
      "=================================================================\n",
      " lstm (LSTM)                 (None, 25, 100)           66000     \n",
      "                                                                 \n",
      " lstm_1 (LSTM)               (None, 100)               80400     \n",
      "                                                                 \n",
      " dense (Dense)               (None, 50)                5050      \n",
      "                                                                 \n",
      "=================================================================\n",
      "Total params: 151,450\n",
      "Trainable params: 151,450\n",
      "Non-trainable params: 0\n",
      "_________________________________________________________________\n"
     ]
    }
   ],
   "source": [
    "model.summary()"
   ]
  },
  {
   "cell_type": "code",
   "execution_count": 14,
   "id": "d2a4aae4",
   "metadata": {},
   "outputs": [],
   "source": [
    "def MAPE(Y_actual,Y_Predicted):\n",
    "    mape = np.mean(np.abs((Y_actual - Y_Predicted)/Y_actual))*100\n",
    "    return mape"
   ]
  },
  {
   "cell_type": "code",
   "execution_count": 15,
   "id": "60a92db8",
   "metadata": {},
   "outputs": [
    {
     "name": "stdout",
     "output_type": "stream",
     "text": [
      "1215/1215 [==============================] - 17s 13ms/step - loss: 3.8186 - mae: 3.8186\n",
      "304/304 [==============================] - 1s 4ms/step\n",
      "1216/1216 [==============================] - 19s 15ms/step - loss: 1.3318 - mae: 1.3318\n",
      "304/304 [==============================] - 1s 4ms/step\n",
      "1216/1216 [==============================] - 18s 15ms/step - loss: 1.4310 - mae: 1.4310\n",
      "304/304 [==============================] - 1s 4ms/step\n",
      "1216/1216 [==============================] - 18s 15ms/step - loss: 0.8923 - mae: 0.8923\n",
      "304/304 [==============================] - 1s 4ms/step\n",
      "1216/1216 [==============================] - 19s 16ms/step - loss: 0.8211 - mae: 0.8211\n",
      "304/304 [==============================] - 1s 4ms/step\n",
      "Validation mae: 1.004 ± 0.334\n",
      "Validation mse: 1.674 ± 0.990\n",
      "Validation mape: 1.044 ± 0.345\n"
     ]
    }
   ],
   "source": [
    "from sklearn.model_selection import KFold\n",
    "from sklearn.metrics import mean_absolute_error,mean_squared_error\n",
    "# load your data\n",
    "X = XT  # your features\n",
    "y = YT  # your target variable\n",
    "\n",
    "# set up the k-fold cross-validation object\n",
    "k =5   # number of folds\n",
    "kf = KFold(n_splits=k, shuffle=True, random_state=42)\n",
    "\n",
    "# initialize a list to store the validation accuracies\n",
    "val_mae = []\n",
    "val_mse = []\n",
    "val_mape=[]\n",
    "\n",
    "# loop over the k folds\n",
    "for train_index, val_index in kf.split(X):\n",
    "    # split the data into training and validation sets\n",
    "    X_train, y_train = X[train_index], y[train_index]\n",
    "    X_val, y_val = X[val_index], y[val_index]\n",
    "\n",
    "    # train your model on the training set\n",
    "    model.fit(X_train, y_train)\n",
    "\n",
    "    # evaluate the model on the validation set and store the mse\n",
    "    y_pred = model.predict(X_val)\n",
    "    val_acc = mean_absolute_error(y_val, y_pred)\n",
    "    val_mae.append(val_acc)\n",
    "    val_acc = mean_squared_error(y_val, y_pred)\n",
    "    val_mse.append(val_acc)\n",
    "    val_acc = MAPE(y_val, y_pred)\n",
    "    val_mape.append(val_acc)\n",
    "    \n",
    "\n",
    "# print the mean and standard deviation of the validation mse\n",
    "print(f'Validation mae: {np.mean(val_mae):.3f} ± {np.std(val_mae):.3f}')\n",
    "print(f'Validation mse: {np.mean(val_mse):.3f} ± {np.std(val_mse):.3f}')\n",
    "print(f'Validation mape: {np.mean(val_mape):.3f} ± {np.std(val_mape):.3f}')"
   ]
  },
  {
   "cell_type": "code",
   "execution_count": 16,
   "id": "9afe6217",
   "metadata": {},
   "outputs": [
    {
     "name": "stdout",
     "output_type": "stream",
     "text": [
      "655/655 [==============================] - 4s 5ms/step - loss: 0.9274 - mae: 0.9274\n",
      "Test loss: 0.9274227023124695\n",
      "Test MAE: 0.9274227023124695\n"
     ]
    }
   ],
   "source": [
    "loss, mae = model.evaluate(X2, Y2)\n",
    "print('Test loss:', loss)\n",
    "print('Test MAE:', mae)"
   ]
  },
  {
   "cell_type": "code",
   "execution_count": 17,
   "id": "daa927f1",
   "metadata": {},
   "outputs": [],
   "source": [
    "model.save(\"lstm_model_withencoder_25.h5\")"
   ]
  },
  {
   "cell_type": "markdown",
   "id": "f61e353e",
   "metadata": {},
   "source": [
    "# CNN-LSTM model"
   ]
  },
  {
   "cell_type": "code",
   "execution_count": 19,
   "id": "2dc5c69b",
   "metadata": {},
   "outputs": [
    {
     "name": "stdout",
     "output_type": "stream",
     "text": [
      "Model: \"sequential_2\"\n",
      "_________________________________________________________________\n",
      " Layer (type)                Output Shape              Param #   \n",
      "=================================================================\n",
      " conv2d_1 (Conv2D)           (None, 23, 4, 32)         244256    \n",
      "                                                                 \n",
      " max_pooling2d_1 (MaxPooling  (None, 11, 2, 32)        0         \n",
      " 2D)                                                             \n",
      "                                                                 \n",
      " flatten_1 (Flatten)         (None, 704)               0         \n",
      "                                                                 \n",
      " reshape_1 (Reshape)         (None, 4, 176)            0         \n",
      "                                                                 \n",
      " lstm_2 (LSTM)               (None, 176)               248512    \n",
      "                                                                 \n",
      " dense_1 (Dense)             (None, 50)                8850      \n",
      "                                                                 \n",
      "=================================================================\n",
      "Total params: 501,618\n",
      "Trainable params: 501,618\n",
      "Non-trainable params: 0\n",
      "_________________________________________________________________\n"
     ]
    }
   ],
   "source": [
    "# from keras.models import Sequential\n",
    "from keras.layers import Conv2D, MaxPooling2D, LSTM, Dense, Flatten,Reshape\n",
    "\n",
    "# Define CNN-LSTM model architecture\n",
    "model2 = Sequential()\n",
    "model2.add(Conv2D(32, (3,3), activation='relu', input_shape=(25,6,848)))\n",
    "model2.add(MaxPooling2D(pool_size=(2,2)))\n",
    "model2.add(Flatten())\n",
    "model2.add(Reshape((4,176)))\n",
    "model2.add(LSTM(176, return_sequences=False))\n",
    "model2.add(Dense(50, activation='linear'))\n",
    "\n",
    "# Compile model\n",
    "model2.compile(loss='mean_absolute_error', optimizer='adam', metrics=['mae'])\n",
    "\n",
    "# Print model summary\n",
    "model2.summary()"
   ]
  },
  {
   "cell_type": "code",
   "execution_count": 20,
   "id": "ad00a44b",
   "metadata": {},
   "outputs": [],
   "source": [
    "X11=np.load(\"X1_25.npy\")\n",
    "X22=np.load(\"X2_25.npy\")"
   ]
  },
  {
   "cell_type": "code",
   "execution_count": 21,
   "id": "8a932401",
   "metadata": {},
   "outputs": [
    {
     "data": {
      "text/plain": [
       "((27672, 25, 6, 848), (20929, 25, 6, 848))"
      ]
     },
     "execution_count": 21,
     "metadata": {},
     "output_type": "execute_result"
    }
   ],
   "source": [
    "X11.shape,X22.shape"
   ]
  },
  {
   "cell_type": "code",
   "execution_count": 22,
   "id": "fd6e35c5",
   "metadata": {},
   "outputs": [],
   "source": [
    "X11=np.float32(X11)\n",
    "X22=np.float32(X22)"
   ]
  },
  {
   "cell_type": "code",
   "execution_count": 23,
   "id": "d4df63d0",
   "metadata": {},
   "outputs": [],
   "source": [
    "Y1=np.float32(Y1)\n",
    "Y2=np.float32(Y2)"
   ]
  },
  {
   "cell_type": "code",
   "execution_count": 24,
   "id": "ed29a16b",
   "metadata": {},
   "outputs": [
    {
     "data": {
      "text/plain": [
       "((27672, 50), (20929, 50))"
      ]
     },
     "execution_count": 24,
     "metadata": {},
     "output_type": "execute_result"
    }
   ],
   "source": [
    "Y1.shape,Y2.shape"
   ]
  },
  {
   "cell_type": "code",
   "execution_count": 25,
   "id": "aa92f864",
   "metadata": {},
   "outputs": [
    {
     "data": {
      "text/plain": [
       "(27672, 25, 6, 848)"
      ]
     },
     "execution_count": 25,
     "metadata": {},
     "output_type": "execute_result"
    }
   ],
   "source": [
    "X11.shape"
   ]
  },
  {
   "cell_type": "code",
   "execution_count": 26,
   "id": "d0de7a21",
   "metadata": {},
   "outputs": [
    {
     "name": "stdout",
     "output_type": "stream",
     "text": [
      "Epoch 1/10\n",
      "692/692 [==============================] - 26s 36ms/step - loss: 46.3423 - mae: 46.3423 - val_loss: 2.5797 - val_mae: 2.5797\n",
      "Epoch 2/10\n",
      "692/692 [==============================] - 24s 35ms/step - loss: 2.6389 - mae: 2.6389 - val_loss: 2.4330 - val_mae: 2.4330\n",
      "Epoch 3/10\n",
      "692/692 [==============================] - 24s 35ms/step - loss: 1.4896 - mae: 1.4896 - val_loss: 1.1576 - val_mae: 1.1576\n",
      "Epoch 4/10\n",
      "692/692 [==============================] - 25s 37ms/step - loss: 0.7737 - mae: 0.7737 - val_loss: 0.9191 - val_mae: 0.9191\n",
      "Epoch 5/10\n",
      "692/692 [==============================] - 24s 34ms/step - loss: 0.5959 - mae: 0.5959 - val_loss: 0.8986 - val_mae: 0.8986\n",
      "Epoch 6/10\n",
      "692/692 [==============================] - 24s 35ms/step - loss: 0.4821 - mae: 0.4821 - val_loss: 0.6808 - val_mae: 0.6808\n",
      "Epoch 7/10\n",
      "692/692 [==============================] - 24s 35ms/step - loss: 0.3992 - mae: 0.3992 - val_loss: 0.6822 - val_mae: 0.6822\n",
      "Epoch 8/10\n",
      "692/692 [==============================] - 24s 35ms/step - loss: 0.3409 - mae: 0.3409 - val_loss: 0.5934 - val_mae: 0.5934\n",
      "Epoch 9/10\n",
      "692/692 [==============================] - 25s 35ms/step - loss: 0.2944 - mae: 0.2944 - val_loss: 0.6041 - val_mae: 0.6041\n",
      "Epoch 10/10\n",
      "692/692 [==============================] - 24s 35ms/step - loss: 0.2690 - mae: 0.2690 - val_loss: 0.6317 - val_mae: 0.6317\n"
     ]
    },
    {
     "data": {
      "text/plain": [
       "<keras.callbacks.History at 0x151283c9c10>"
      ]
     },
     "execution_count": 26,
     "metadata": {},
     "output_type": "execute_result"
    }
   ],
   "source": [
    "model2.fit(X11, Y1, epochs=10, verbose=1,batch_size=32, validation_split=0.2)"
   ]
  },
  {
   "cell_type": "code",
   "execution_count": null,
   "id": "03c7930f",
   "metadata": {},
   "outputs": [
    {
     "name": "stdout",
     "output_type": "stream",
     "text": [
      "375/655 [================>.............] - ETA: 2s - loss: 0.8507 - mae: 0.8507"
     ]
    }
   ],
   "source": [
    "loss, mae = model2.evaluate(X22, Y2)\n",
    "print('Test loss:', loss)\n",
    "print('Test MAE:', mae)"
   ]
  },
  {
   "cell_type": "code",
   "execution_count": 24,
   "id": "1f556815",
   "metadata": {},
   "outputs": [],
   "source": [
    "model2.save(\"Cnn_lstm_model.h5\")"
   ]
  },
  {
   "cell_type": "code",
   "execution_count": null,
   "id": "608b3de8",
   "metadata": {},
   "outputs": [],
   "source": []
  }
 ],
 "metadata": {
  "kernelspec": {
   "display_name": "Python 3 (ipykernel)",
   "language": "python",
   "name": "python3"
  },
  "language_info": {
   "codemirror_mode": {
    "name": "ipython",
    "version": 3
   },
   "file_extension": ".py",
   "mimetype": "text/x-python",
   "name": "python",
   "nbconvert_exporter": "python",
   "pygments_lexer": "ipython3",
   "version": "3.9.13"
  }
 },
 "nbformat": 4,
 "nbformat_minor": 5
}
