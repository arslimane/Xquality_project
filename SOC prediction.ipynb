{
 "cells": [
  {
   "cell_type": "code",
   "execution_count": 1,
   "metadata": {
    "colab": {
     "base_uri": "https://localhost:8080/"
    },
    "executionInfo": {
     "elapsed": 40754,
     "status": "ok",
     "timestamp": 1679206984139,
     "user": {
      "displayName": "SLIMANE ARBAOUI",
      "userId": "09417227485984572260"
     },
     "user_tz": -60
    },
    "id": "zIV102oSgLlX",
    "outputId": "3a3bdbfb-e293-44de-a3dc-ec18a1a6e0d1"
   },
   "outputs": [
    {
     "name": "stdout",
     "output_type": "stream",
     "text": [
      "Requirement already satisfied: tensorflow in c:\\users\\sarbaoui01\\anaconda3\\lib\\site-packages (2.11.1)\n",
      "Requirement already satisfied: tensorflow-intel==2.11.1 in c:\\users\\sarbaoui01\\anaconda3\\lib\\site-packages (from tensorflow) (2.11.1)\n",
      "Requirement already satisfied: absl-py>=1.0.0 in c:\\users\\sarbaoui01\\anaconda3\\lib\\site-packages (from tensorflow-intel==2.11.1->tensorflow) (1.4.0)\n",
      "Requirement already satisfied: gast<=0.4.0,>=0.2.1 in c:\\users\\sarbaoui01\\anaconda3\\lib\\site-packages (from tensorflow-intel==2.11.1->tensorflow) (0.4.0)\n",
      "Requirement already satisfied: tensorflow-io-gcs-filesystem>=0.23.1 in c:\\users\\sarbaoui01\\anaconda3\\lib\\site-packages (from tensorflow-intel==2.11.1->tensorflow) (0.31.0)\n",
      "Requirement already satisfied: tensorflow-estimator<2.12,>=2.11.0 in c:\\users\\sarbaoui01\\anaconda3\\lib\\site-packages (from tensorflow-intel==2.11.1->tensorflow) (2.11.0)\n",
      "Requirement already satisfied: astunparse>=1.6.0 in c:\\users\\sarbaoui01\\anaconda3\\lib\\site-packages (from tensorflow-intel==2.11.1->tensorflow) (1.6.3)\n",
      "Requirement already satisfied: flatbuffers>=2.0 in c:\\users\\sarbaoui01\\anaconda3\\lib\\site-packages (from tensorflow-intel==2.11.1->tensorflow) (23.3.3)\n",
      "Requirement already satisfied: numpy>=1.20 in c:\\users\\sarbaoui01\\anaconda3\\lib\\site-packages (from tensorflow-intel==2.11.1->tensorflow) (1.21.5)\n",
      "Requirement already satisfied: google-pasta>=0.1.1 in c:\\users\\sarbaoui01\\anaconda3\\lib\\site-packages (from tensorflow-intel==2.11.1->tensorflow) (0.2.0)\n",
      "Requirement already satisfied: six>=1.12.0 in c:\\users\\sarbaoui01\\anaconda3\\lib\\site-packages (from tensorflow-intel==2.11.1->tensorflow) (1.16.0)\n",
      "Requirement already satisfied: keras<2.12,>=2.11.0 in c:\\users\\sarbaoui01\\anaconda3\\lib\\site-packages (from tensorflow-intel==2.11.1->tensorflow) (2.11.0)\n",
      "Requirement already satisfied: grpcio<2.0,>=1.24.3 in c:\\users\\sarbaoui01\\anaconda3\\lib\\site-packages (from tensorflow-intel==2.11.1->tensorflow) (1.51.3)\n",
      "Requirement already satisfied: termcolor>=1.1.0 in c:\\users\\sarbaoui01\\anaconda3\\lib\\site-packages (from tensorflow-intel==2.11.1->tensorflow) (2.2.0)\n",
      "Requirement already satisfied: setuptools in c:\\users\\sarbaoui01\\anaconda3\\lib\\site-packages (from tensorflow-intel==2.11.1->tensorflow) (63.4.1)\n",
      "Requirement already satisfied: tensorboard<2.12,>=2.11 in c:\\users\\sarbaoui01\\anaconda3\\lib\\site-packages (from tensorflow-intel==2.11.1->tensorflow) (2.11.2)\n",
      "Requirement already satisfied: opt-einsum>=2.3.2 in c:\\users\\sarbaoui01\\anaconda3\\lib\\site-packages (from tensorflow-intel==2.11.1->tensorflow) (3.3.0)\n",
      "Requirement already satisfied: h5py>=2.9.0 in c:\\users\\sarbaoui01\\anaconda3\\lib\\site-packages (from tensorflow-intel==2.11.1->tensorflow) (3.7.0)\n",
      "Requirement already satisfied: libclang>=13.0.0 in c:\\users\\sarbaoui01\\anaconda3\\lib\\site-packages (from tensorflow-intel==2.11.1->tensorflow) (15.0.6.1)\n",
      "Requirement already satisfied: packaging in c:\\users\\sarbaoui01\\anaconda3\\lib\\site-packages (from tensorflow-intel==2.11.1->tensorflow) (21.3)\n",
      "Requirement already satisfied: typing-extensions>=3.6.6 in c:\\users\\sarbaoui01\\anaconda3\\lib\\site-packages (from tensorflow-intel==2.11.1->tensorflow) (4.3.0)\n",
      "Requirement already satisfied: protobuf<3.20,>=3.9.2 in c:\\users\\sarbaoui01\\anaconda3\\lib\\site-packages (from tensorflow-intel==2.11.1->tensorflow) (3.19.6)\n",
      "Requirement already satisfied: wrapt>=1.11.0 in c:\\users\\sarbaoui01\\anaconda3\\lib\\site-packages (from tensorflow-intel==2.11.1->tensorflow) (1.12.1)\n",
      "Requirement already satisfied: wheel<1.0,>=0.23.0 in c:\\users\\sarbaoui01\\anaconda3\\lib\\site-packages (from astunparse>=1.6.0->tensorflow-intel==2.11.1->tensorflow) (0.37.1)\n",
      "Requirement already satisfied: markdown>=2.6.8 in c:\\users\\sarbaoui01\\anaconda3\\lib\\site-packages (from tensorboard<2.12,>=2.11->tensorflow-intel==2.11.1->tensorflow) (3.3.4)\n",
      "Requirement already satisfied: requests<3,>=2.21.0 in c:\\users\\sarbaoui01\\anaconda3\\lib\\site-packages (from tensorboard<2.12,>=2.11->tensorflow-intel==2.11.1->tensorflow) (2.28.1)\n",
      "Requirement already satisfied: google-auth<3,>=1.6.3 in c:\\users\\sarbaoui01\\anaconda3\\lib\\site-packages (from tensorboard<2.12,>=2.11->tensorflow-intel==2.11.1->tensorflow) (2.16.2)\n",
      "Requirement already satisfied: werkzeug>=1.0.1 in c:\\users\\sarbaoui01\\anaconda3\\lib\\site-packages (from tensorboard<2.12,>=2.11->tensorflow-intel==2.11.1->tensorflow) (2.2.3)\n",
      "Requirement already satisfied: google-auth-oauthlib<0.5,>=0.4.1 in c:\\users\\sarbaoui01\\anaconda3\\lib\\site-packages (from tensorboard<2.12,>=2.11->tensorflow-intel==2.11.1->tensorflow) (0.4.6)\n",
      "Requirement already satisfied: tensorboard-plugin-wit>=1.6.0 in c:\\users\\sarbaoui01\\anaconda3\\lib\\site-packages (from tensorboard<2.12,>=2.11->tensorflow-intel==2.11.1->tensorflow) (1.8.1)\n",
      "Requirement already satisfied: tensorboard-data-server<0.7.0,>=0.6.0 in c:\\users\\sarbaoui01\\anaconda3\\lib\\site-packages (from tensorboard<2.12,>=2.11->tensorflow-intel==2.11.1->tensorflow) (0.6.1)\n",
      "Requirement already satisfied: pyparsing!=3.0.5,>=2.0.2 in c:\\users\\sarbaoui01\\anaconda3\\lib\\site-packages (from packaging->tensorflow-intel==2.11.1->tensorflow) (3.0.9)\n",
      "Requirement already satisfied: cachetools<6.0,>=2.0.0 in c:\\users\\sarbaoui01\\anaconda3\\lib\\site-packages (from google-auth<3,>=1.6.3->tensorboard<2.12,>=2.11->tensorflow-intel==2.11.1->tensorflow) (5.3.0)\n",
      "Requirement already satisfied: rsa<5,>=3.1.4 in c:\\users\\sarbaoui01\\anaconda3\\lib\\site-packages (from google-auth<3,>=1.6.3->tensorboard<2.12,>=2.11->tensorflow-intel==2.11.1->tensorflow) (4.9)\n",
      "Requirement already satisfied: pyasn1-modules>=0.2.1 in c:\\users\\sarbaoui01\\anaconda3\\lib\\site-packages (from google-auth<3,>=1.6.3->tensorboard<2.12,>=2.11->tensorflow-intel==2.11.1->tensorflow) (0.2.8)\n",
      "Requirement already satisfied: requests-oauthlib>=0.7.0 in c:\\users\\sarbaoui01\\anaconda3\\lib\\site-packages (from google-auth-oauthlib<0.5,>=0.4.1->tensorboard<2.12,>=2.11->tensorflow-intel==2.11.1->tensorflow) (1.3.1)\n",
      "Requirement already satisfied: charset-normalizer<3,>=2 in c:\\users\\sarbaoui01\\anaconda3\\lib\\site-packages (from requests<3,>=2.21.0->tensorboard<2.12,>=2.11->tensorflow-intel==2.11.1->tensorflow) (2.0.4)\n",
      "Requirement already satisfied: certifi>=2017.4.17 in c:\\users\\sarbaoui01\\anaconda3\\lib\\site-packages (from requests<3,>=2.21.0->tensorboard<2.12,>=2.11->tensorflow-intel==2.11.1->tensorflow) (2022.9.14)\n",
      "Requirement already satisfied: urllib3<1.27,>=1.21.1 in c:\\users\\sarbaoui01\\anaconda3\\lib\\site-packages (from requests<3,>=2.21.0->tensorboard<2.12,>=2.11->tensorflow-intel==2.11.1->tensorflow) (1.26.11)\n",
      "Requirement already satisfied: idna<4,>=2.5 in c:\\users\\sarbaoui01\\anaconda3\\lib\\site-packages (from requests<3,>=2.21.0->tensorboard<2.12,>=2.11->tensorflow-intel==2.11.1->tensorflow) (3.3)\n",
      "Requirement already satisfied: MarkupSafe>=2.1.1 in c:\\users\\sarbaoui01\\anaconda3\\lib\\site-packages (from werkzeug>=1.0.1->tensorboard<2.12,>=2.11->tensorflow-intel==2.11.1->tensorflow) (2.1.2)\n",
      "Requirement already satisfied: pyasn1<0.5.0,>=0.4.6 in c:\\users\\sarbaoui01\\anaconda3\\lib\\site-packages (from pyasn1-modules>=0.2.1->google-auth<3,>=1.6.3->tensorboard<2.12,>=2.11->tensorflow-intel==2.11.1->tensorflow) (0.4.8)\n",
      "Requirement already satisfied: oauthlib>=3.0.0 in c:\\users\\sarbaoui01\\anaconda3\\lib\\site-packages (from requests-oauthlib>=0.7.0->google-auth-oauthlib<0.5,>=0.4.1->tensorboard<2.12,>=2.11->tensorflow-intel==2.11.1->tensorflow) (3.2.2)\n"
     ]
    }
   ],
   "source": [
    "!pip install tensorflow \n",
    "import tensorflow as tf\n",
    "from tensorflow import keras\n",
    "from tensorflow.keras.models import Sequential\n",
    "from tensorflow.keras.optimizers import Adam\n",
    "import tensorflow.keras.backend as K\n",
    "from tensorflow.keras.layers import LSTM,Dense\n",
    "from tensorflow.keras.regularizers import l2\n",
    "from keras.models import load_model\n",
    "from sklearn.ensemble import RandomForestClassifier\n",
    "from sklearn.datasets import make_classification\n",
    "from sklearn.model_selection import train_test_split\n",
    "\n",
    "import pandas as pd\n",
    "import numpy as np\n",
    "import os\n",
    "import scipy.io\n",
    "import h5py\n",
    "import pickle\n",
    "import matplotlib.pyplot as plt\n",
    "from scipy.interpolate import interp1d\n",
    "from sklearn.model_selection import train_test_split\n"
   ]
  },
  {
   "cell_type": "code",
   "execution_count": 2,
   "metadata": {
    "id": "dCHsJxdmoF7E"
   },
   "outputs": [],
   "source": [
    "\n",
    "# def _shap_div_no_nan(op, grad):\n",
    "#     x, y = op.inputs\n",
    "#     not_zero = tf.greater(tf.abs(y), 1e-12)\n",
    "#     not_inf = tf.logical_not(tf.logical_or(tf.is_inf(y), tf.is_inf(grad)))\n",
    "#     valid = tf.logical_and(not_zero, not_inf)\n",
    "#     return tf.where(valid, grad / y, tf.zeros_like(grad))\n",
    "\n",
    "# # Register the gradient function with Keras\n",
    "# K.__dict__[\"gradients\"] = _shap_div_no_nan"
   ]
  },
  {
   "cell_type": "markdown",
   "metadata": {
    "id": "knvFucQ6Y_1y"
   },
   "source": [
    "**Loading the data and creating pickle file using only one batch**\n"
   ]
  },
  {
   "cell_type": "code",
   "execution_count": 2,
   "metadata": {
    "id": "oPgwXTZ2HSv5"
   },
   "outputs": [],
   "source": [
    "def load_data(matFilename,pickle_name):\n",
    "    cycle_scalar_dataset_dict = {}\n",
    "# 'data/2017-05-12_batchdata_updated_struct_errorcorrect.mat'\n",
    "    f = h5py.File(matFilename, 'r')\n",
    "    batch = f['batch']\n",
    "    #Récupèration de toutes les données dans un dictionnaire général, toutes ne sont pas utiles\n",
    "    num_cells = batch['summary'].shape[0]\n",
    "    bat_dict = {}\n",
    "    for i in range(num_cells):\n",
    "        cl = f[batch['cycle_life'][i,0]][()] #ici on a remplacé \".value\" par \"[()]\", et dans toutes les lignes suivantes\n",
    "        policy = f[batch['policy_readable'][i,0]][()].tobytes()[::2].decode()\n",
    "        summary_IR = np.hstack(f[batch['summary'][i,0]]['IR'][0,:].tolist())\n",
    "        summary_QC = np.hstack(f[batch['summary'][i,0]]['QCharge'][0,:].tolist())\n",
    "        summary_QD = np.hstack(f[batch['summary'][i,0]]['QDischarge'][0,:].tolist())\n",
    "        summary_TA = np.hstack(f[batch['summary'][i,0]]['Tavg'][0,:].tolist())\n",
    "        summary_TM = np.hstack(f[batch['summary'][i,0]]['Tmin'][0,:].tolist())\n",
    "        summary_TX = np.hstack(f[batch['summary'][i,0]]['Tmax'][0,:].tolist())\n",
    "        summary_CT = np.hstack(f[batch['summary'][i,0]]['chargetime'][0,:].tolist())\n",
    "        summary_CY = np.hstack(f[batch['summary'][i,0]]['cycle'][0,:].tolist())\n",
    "        summary = ({'IR': summary_IR, #création d'un 1er dict avec les données \"résumées\", càd 1 donnée par cycle\n",
    "                   'QC': summary_QC, \n",
    "                   'QD': summary_QD, \n",
    "                   'Tavg': summary_TA, \n",
    "                   'Tmin': summary_TM, \n",
    "                   'Tmax': summary_TX, \n",
    "                   'chargetime': summary_CT,\n",
    "                   'cycle': summary_CY}) \n",
    "        cycles = f[batch['cycles'][i,0]]\n",
    "        cycle_dict = {}\n",
    "        for j in range(cycles['I'].shape[0]):\n",
    "            I = np.hstack((f[cycles['I'][j,0]][()]))\n",
    "            Qc = np.hstack((f[cycles['Qc'][j,0]][()]))\n",
    "            Qd = np.hstack((f[cycles['Qd'][j,0]][()]))\n",
    "            Qdlin = np.hstack((f[cycles['Qdlin'][j,0]][()]))\n",
    "            T = np.hstack((f[cycles['T'][j,0]][()]))\n",
    "            Tdlin = np.hstack((f[cycles['Tdlin'][j,0]][()]))\n",
    "            V = np.hstack((f[cycles['V'][j,0]][()]))\n",
    "            dQdV = np.hstack((f[cycles['discharge_dQdV'][j,0]][()]))\n",
    "            t = np.hstack((f[cycles['t'][j,0]][()]))\n",
    "            SOC = np.hstack((f[cycles['Qc'][j,0]][()]-f[cycles['Qd'][j,0]][()])/summary_QC[j])\n",
    "            cd = ({'I': I,   #création d'un 2è dictionnnaire pour les données temporelles\n",
    "                   'Qc': Qc, \n",
    "                   'Qd': Qd, \n",
    "                   'Qdlin': Qdlin, \n",
    "                   'T': T, \n",
    "                   'Tdlin': Tdlin, \n",
    "                   'V':V, \n",
    "                   'dQdV': dQdV, \n",
    "                   't':t,\n",
    "                   'SOC' : SOC})\n",
    "            cycle_dict[str(j)] = cd\n",
    "            scalar_sample_dict = ({'I': I , \n",
    "                                   'T': T , \n",
    "                                   'V' : V , \n",
    "                                   'SOC':SOC}\n",
    "                             )\n",
    "            key = 'b1c' + str(i)+'_cycle_'+str(j)\n",
    "            bat_dict[key]=   scalar_sample_dict\n",
    "        \n",
    "#         cell_dict = ({'cycle_life': cl,  #Compilation des deux dictionnaires dans un seul et même dictionnaire général\n",
    "#                  'charge_policy':policy, \n",
    "#                   'summary': summary, \n",
    "#                   'cycles': cycle_dict})\n",
    "        \n",
    "#         key = 'b1c' + str(i)\n",
    "#         bat_dict[key]=   cell_dict\n",
    "#     with open(pickle_name,'wb') as fp:\n",
    "#         pickle.dump(bat_dict,fp)\n",
    "\n",
    "    df =pd.DataFrame(bat_dict)\n",
    "    return df\n",
    "  "
   ]
  },
  {
   "cell_type": "code",
   "execution_count": 3,
   "metadata": {
    "colab": {
     "base_uri": "https://localhost:8080/"
    },
    "executionInfo": {
     "elapsed": 305000,
     "status": "ok",
     "timestamp": 1679207458475,
     "user": {
      "displayName": "SLIMANE ARBAOUI",
      "userId": "09417227485984572260"
     },
     "user_tz": -60
    },
    "id": "j50eVmGgJ5Ui",
    "outputId": "6b4ffde5-c766-44c1-e18e-61444c3e1c02"
   },
   "outputs": [
    {
     "name": "stderr",
     "output_type": "stream",
     "text": [
      "C:\\Users\\sarbaoui01\\AppData\\Local\\Temp\\ipykernel_14272\\3769932157.py:40: RuntimeWarning: invalid value encountered in true_divide\n",
      "  SOC = np.hstack((f[cycles['Qc'][j,0]][()]-f[cycles['Qd'][j,0]][()])/summary_QC[j])\n"
     ]
    }
   ],
   "source": [
    "df1=load_data(\"C:\\\\Users\\sarbaoui01\\\\Downloads\\\\2017-05-12_batchdata_updated_struct_errorcorrect.mat\",\"batch1.pkl\")\n"
   ]
  },
  {
   "cell_type": "code",
   "execution_count": 4,
   "metadata": {},
   "outputs": [],
   "source": [
    "df2=load_data(\"C:\\\\Users\\\\sarbaoui01\\\\Downloads\\\\2017-06-30_batchdata_updated_struct_errorcorrect.mat\",\"batch2.pkl\")\n"
   ]
  },
  {
   "cell_type": "code",
   "execution_count": 5,
   "metadata": {},
   "outputs": [],
   "source": [
    "df3=load_data(\"C:\\\\Users\\\\sarbaoui01\\\\Downloads\\\\2018-04-12_batchdata_updated_struct_errorcorrect.mat\",\"batch3.pkl\")\n"
   ]
  },
  {
   "cell_type": "code",
   "execution_count": 6,
   "metadata": {},
   "outputs": [
    {
     "name": "stderr",
     "output_type": "stream",
     "text": [
      "C:\\Users\\sarbaoui01\\AppData\\Local\\Temp\\ipykernel_14272\\3124233174.py:1: FutureWarning: The frame.append method is deprecated and will be removed from pandas in a future version. Use pandas.concat instead.\n",
      "  df2.append(df1)\n",
      "C:\\Users\\sarbaoui01\\AppData\\Local\\Temp\\ipykernel_14272\\3124233174.py:2: FutureWarning: The frame.append method is deprecated and will be removed from pandas in a future version. Use pandas.concat instead.\n",
      "  df3.append(df2)\n"
     ]
    },
    {
     "data": {
      "text/html": [
       "<div>\n",
       "<style scoped>\n",
       "    .dataframe tbody tr th:only-of-type {\n",
       "        vertical-align: middle;\n",
       "    }\n",
       "\n",
       "    .dataframe tbody tr th {\n",
       "        vertical-align: top;\n",
       "    }\n",
       "\n",
       "    .dataframe thead th {\n",
       "        text-align: right;\n",
       "    }\n",
       "</style>\n",
       "<table border=\"1\" class=\"dataframe\">\n",
       "  <thead>\n",
       "    <tr style=\"text-align: right;\">\n",
       "      <th></th>\n",
       "      <th>b1c0_cycle_0</th>\n",
       "      <th>b1c0_cycle_1</th>\n",
       "      <th>b1c0_cycle_2</th>\n",
       "      <th>b1c0_cycle_3</th>\n",
       "      <th>b1c0_cycle_4</th>\n",
       "      <th>b1c0_cycle_5</th>\n",
       "      <th>b1c0_cycle_6</th>\n",
       "      <th>b1c0_cycle_7</th>\n",
       "      <th>b1c0_cycle_8</th>\n",
       "      <th>b1c0_cycle_9</th>\n",
       "      <th>...</th>\n",
       "      <th>b1c47_cycle_735</th>\n",
       "      <th>b1c47_cycle_736</th>\n",
       "      <th>b1c47_cycle_737</th>\n",
       "      <th>b1c47_cycle_738</th>\n",
       "      <th>b1c47_cycle_739</th>\n",
       "      <th>b1c47_cycle_740</th>\n",
       "      <th>b1c47_cycle_741</th>\n",
       "      <th>b1c47_cycle_742</th>\n",
       "      <th>b1c47_cycle_743</th>\n",
       "      <th>b1c47_cycle_744</th>\n",
       "    </tr>\n",
       "  </thead>\n",
       "  <tbody>\n",
       "    <tr>\n",
       "      <th>I</th>\n",
       "      <td>[0.5427585909090908, 0.8486348909090908, 1.200...</td>\n",
       "      <td>[0.39175900909090905, 0.7491510545454545, 1.04...</td>\n",
       "      <td>[0.5479257727272726, 0.7937517999999999, 1.098...</td>\n",
       "      <td>[0.39319471818181817, 0.648456918181818, 0.948...</td>\n",
       "      <td>[0.4450329909090909, 0.6991507818181818, 1.101...</td>\n",
       "      <td>[0.5985780181818181, 0.8996131181818181, 1.149...</td>\n",
       "      <td>[0.38626930909090906, 0.6996605636363636, 0.99...</td>\n",
       "      <td>[0.39174513636363634, 0.6990814181818181, 0.99...</td>\n",
       "      <td>[0.3926606636363636, 0.6980618545454544, 0.948...</td>\n",
       "      <td>[0.5982936545454545, 0.8970815454545453, 1.200...</td>\n",
       "      <td>...</td>\n",
       "      <td>NaN</td>\n",
       "      <td>NaN</td>\n",
       "      <td>NaN</td>\n",
       "      <td>NaN</td>\n",
       "      <td>NaN</td>\n",
       "      <td>NaN</td>\n",
       "      <td>NaN</td>\n",
       "      <td>NaN</td>\n",
       "      <td>NaN</td>\n",
       "      <td>NaN</td>\n",
       "    </tr>\n",
       "    <tr>\n",
       "      <th>T</th>\n",
       "      <td>[32.08330214381175, 32.08285388769033, 32.0824...</td>\n",
       "      <td>[32.095115420451435, 32.09553350772601, 32.095...</td>\n",
       "      <td>[32.100925, 32.100489412344736, 32.10002811787...</td>\n",
       "      <td>[32.213660487082265, 32.21347621404638, 32.213...</td>\n",
       "      <td>[32.13458411412274, 32.134207367490596, 32.133...</td>\n",
       "      <td>[32.0781864326378, 32.07801845032766, 32.07785...</td>\n",
       "      <td>[32.16671265551257, 32.166497023404254, 32.166...</td>\n",
       "      <td>[32.2562792769949, 32.25600961148094, 32.25579...</td>\n",
       "      <td>[32.22666074610109, 32.22783662607169, 32.2290...</td>\n",
       "      <td>[32.18690692183239, 32.186304016406105, 32.186...</td>\n",
       "      <td>...</td>\n",
       "      <td>NaN</td>\n",
       "      <td>NaN</td>\n",
       "      <td>NaN</td>\n",
       "      <td>NaN</td>\n",
       "      <td>NaN</td>\n",
       "      <td>NaN</td>\n",
       "      <td>NaN</td>\n",
       "      <td>NaN</td>\n",
       "      <td>NaN</td>\n",
       "      <td>NaN</td>\n",
       "    </tr>\n",
       "    <tr>\n",
       "      <th>V</th>\n",
       "      <td>[2.1232638, 2.151546, 2.1923985, 2.2395129, 2....</td>\n",
       "      <td>[2.1120076, 2.1413512, 2.1740165, 2.2118678, 2...</td>\n",
       "      <td>[2.1213861, 2.1444716, 2.1782861, 2.2177253, 2...</td>\n",
       "      <td>[2.1124139, 2.1327176, 2.1629434, 2.1995873, 2...</td>\n",
       "      <td>[2.1151195, 2.1360803, 2.1796918, 2.2119021, 2...</td>\n",
       "      <td>[2.1280026, 2.1573977, 2.1868119, 2.2334542, 2...</td>\n",
       "      <td>[2.1117635, 2.1368032, 2.1684728, 2.2126164, 2...</td>\n",
       "      <td>[2.1137776, 2.1386704, 2.1700406, 2.2142739, 2...</td>\n",
       "      <td>[2.1115088, 2.1361632, 2.1619964, 2.1988816, 2...</td>\n",
       "      <td>[2.1297498, 2.1589379, 2.1943831, 2.2281985, 2...</td>\n",
       "      <td>...</td>\n",
       "      <td>NaN</td>\n",
       "      <td>NaN</td>\n",
       "      <td>NaN</td>\n",
       "      <td>NaN</td>\n",
       "      <td>NaN</td>\n",
       "      <td>NaN</td>\n",
       "      <td>NaN</td>\n",
       "      <td>NaN</td>\n",
       "      <td>NaN</td>\n",
       "      <td>NaN</td>\n",
       "    </tr>\n",
       "    <tr>\n",
       "      <th>SOC</th>\n",
       "      <td>[3.6425423343594824e-06, 3.6425423343594824e-0...</td>\n",
       "      <td>[1.8190609559574564e-06, 1.8190609559574564e-0...</td>\n",
       "      <td>[4.268502521750656e-06, 8.262785835484163e-06,...</td>\n",
       "      <td>[1.2052784522219678e-06, 1.2052784522219678e-0...</td>\n",
       "      <td>[3.5404418809443404e-06, 3.5404418809443404e-0...</td>\n",
       "      <td>[4.339302223894485e-06, 4.339302223894485e-06,...</td>\n",
       "      <td>[-8.179416391580217e-10, -8.179416391580217e-1...</td>\n",
       "      <td>[-1.2263398445432887e-07, -1.2263398445432887e...</td>\n",
       "      <td>[1.5835705166070975e-06, 1.5835705166070975e-0...</td>\n",
       "      <td>[3.6003640957259887e-06, 3.6003640957259887e-0...</td>\n",
       "      <td>...</td>\n",
       "      <td>NaN</td>\n",
       "      <td>NaN</td>\n",
       "      <td>NaN</td>\n",
       "      <td>NaN</td>\n",
       "      <td>NaN</td>\n",
       "      <td>NaN</td>\n",
       "      <td>NaN</td>\n",
       "      <td>NaN</td>\n",
       "      <td>NaN</td>\n",
       "      <td>NaN</td>\n",
       "    </tr>\n",
       "    <tr>\n",
       "      <th>I</th>\n",
       "      <td>[0.0, 0.15983060909090907, 0.2496493909090909,...</td>\n",
       "      <td>[0.0, 0.18980286363636362, 0.3098921363636364,...</td>\n",
       "      <td>[0.0, 0.18965460909090906, 0.2997892545454545,...</td>\n",
       "      <td>[0.0, 0.15969536363636364, 0.2898398272727272,...</td>\n",
       "      <td>[0.0, 0.18972483636363635, 0.2797915727272727,...</td>\n",
       "      <td>[0.0, 0.16006036363636364, 0.2796762636363636,...</td>\n",
       "      <td>[0.0, 0.1797554727272727, 0.26958985454545453,...</td>\n",
       "      <td>[0.0, 0.1697705, 0.28992132727272724, 0.389606...</td>\n",
       "      <td>[0.0, 0.17988725454545454, 0.26993664545454543...</td>\n",
       "      <td>[0.0, 0.16986759999999998, 0.26981267272727266...</td>\n",
       "      <td>...</td>\n",
       "      <td>[0.0, 0.2996583454545454, 0.4787826545454545, ...</td>\n",
       "      <td>[0.0, 0.3628436, 0.5398247454545454, 0.7181549...</td>\n",
       "      <td>[0.0, 0.2951604636363636, 0.47273462727272725,...</td>\n",
       "      <td>[0.3585919454545454, 0.5399981454545455, 0.718...</td>\n",
       "      <td>[0.0, 0.3595421545454545, 0.5395889272727272, ...</td>\n",
       "      <td>[0.0, 0.2995092181818182, 0.4784115909090909, ...</td>\n",
       "      <td>[0.0, 0.2390670818181818, 0.478279809090909, 0...</td>\n",
       "      <td>[0.0, 0.29942946363636364, 0.5394571454545454,...</td>\n",
       "      <td>[0.0, 0.29693949999999997, 0.5387843727272726,...</td>\n",
       "      <td>[0.0, 0.3006675, 0.4756545999999999, 0.6583265...</td>\n",
       "    </tr>\n",
       "    <tr>\n",
       "      <th>T</th>\n",
       "      <td>[30.076599, 30.076599, 30.076599, 30.076599, 3...</td>\n",
       "      <td>[29.833899, 29.833899, 29.833899, 29.833899, 2...</td>\n",
       "      <td>[28.419994, 28.419994, 28.419994, 28.419994, 2...</td>\n",
       "      <td>[30.129168, 30.129168, 30.129168, 30.129168, 3...</td>\n",
       "      <td>[30.298557, 30.298557, 30.298557, 30.298557, 3...</td>\n",
       "      <td>[28.807995, 28.807995, 28.807995, 28.807995, 2...</td>\n",
       "      <td>[29.946743, 29.946743, 29.946743, 29.946743, 2...</td>\n",
       "      <td>[30.683035, 30.683035, 30.683035, 30.683035, 3...</td>\n",
       "      <td>[28.893948, 28.893948, 28.893948, 28.893948, 2...</td>\n",
       "      <td>[30.043512, 30.043512, 30.043512, 30.043512, 3...</td>\n",
       "      <td>...</td>\n",
       "      <td>[30.820396, 30.820396, 30.820396, 30.820396, 3...</td>\n",
       "      <td>[30.906128, 30.906128, 30.906128, 30.906128, 3...</td>\n",
       "      <td>[31.090843, 31.090843, 31.090843, 31.090843, 3...</td>\n",
       "      <td>[31.08473, 31.08473, 31.08473, 31.08473, 31.08...</td>\n",
       "      <td>[31.14735, 31.14735, 31.14735, 31.14735, 31.14...</td>\n",
       "      <td>[30.858965, 30.858965, 30.858965, 30.858965, 3...</td>\n",
       "      <td>[30.924057, 30.924057, 30.924057, 30.924057, 3...</td>\n",
       "      <td>[31.010826, 31.010826, 31.010826, 31.010826, 3...</td>\n",
       "      <td>[31.052486, 31.052486, 31.052486, 31.052486, 3...</td>\n",
       "      <td>[31.028942, 31.028942, 31.028942, 31.028942, 3...</td>\n",
       "    </tr>\n",
       "    <tr>\n",
       "      <th>V</th>\n",
       "      <td>[2.401875, 2.412272, 2.4226775, 2.4348855, 2.4...</td>\n",
       "      <td>[2.456265, 2.4685102, 2.4815564, 2.4922719, 2....</td>\n",
       "      <td>[2.4562345, 2.4684415, 2.480763, 2.4917989, 2....</td>\n",
       "      <td>[2.4514318, 2.4614244, 2.4746346, 2.4877658, 2...</td>\n",
       "      <td>[2.445663, 2.4584661, 2.4684825, 2.482142, 2.4...</td>\n",
       "      <td>[2.4329333, 2.4432902, 2.4569001, 2.4675374, 2...</td>\n",
       "      <td>[2.4262204, 2.438354, 2.4488111, 2.4621854, 2....</td>\n",
       "      <td>[2.4334989, 2.4445014, 2.4580808, 2.4711099, 2...</td>\n",
       "      <td>[2.4222856, 2.4346538, 2.4455304, 2.4579101, 2...</td>\n",
       "      <td>[2.4238496, 2.4352813, 2.4466033, 2.4585814, 2...</td>\n",
       "      <td>...</td>\n",
       "      <td>[2.4112144, 2.4238153, 2.4350972, 2.4484458, 2...</td>\n",
       "      <td>[2.4125342, 2.4289632, 2.4412465, 2.4545608, 2...</td>\n",
       "      <td>[2.4203725, 2.4331603, 2.4441943, 2.4573407, 2...</td>\n",
       "      <td>[2.4422917, 2.45402, 2.4675279, 2.4825578, 2.4...</td>\n",
       "      <td>[2.4308658, 2.4468093, 2.4585271, 2.4720521, 2...</td>\n",
       "      <td>[2.4366145, 2.4486165, 2.4607921, 2.4731212, 2...</td>\n",
       "      <td>[2.4453759, 2.4552312, 2.4685254, 2.4812427, 2...</td>\n",
       "      <td>[2.452889, 2.4650865, 2.47963, 2.4921498, 2.50...</td>\n",
       "      <td>[2.4562917, 2.4697738, 2.4833999, 2.4961963, 2...</td>\n",
       "      <td>[2.4642749, 2.4767127, 2.4872279, 2.4993186, 2...</td>\n",
       "    </tr>\n",
       "    <tr>\n",
       "      <th>SOC</th>\n",
       "      <td>[0.0, 1.9942885164958742e-06, 4.44093675923312...</td>\n",
       "      <td>[0.0, 3.3265690817737426e-06, 8.72426310306947...</td>\n",
       "      <td>[0.0, 1.4835832874477144e-06, 1.48358328744771...</td>\n",
       "      <td>[0.0, 1.7504234625467348e-06, 1.75042346254673...</td>\n",
       "      <td>[0.0, 3.3287746940478477e-06, 3.32877469404784...</td>\n",
       "      <td>[0.0, 1.309421277848201e-06, 1.309421277848201...</td>\n",
       "      <td>[0.0, 0.0, 0.0, 0.0, 0.0, 0.0, 0.0, 0.0, 0.0, ...</td>\n",
       "      <td>[0.0, 1.4192690398451262e-06, 1.41926903984512...</td>\n",
       "      <td>[0.0, 1.6347043449515023e-06, 1.63470434495150...</td>\n",
       "      <td>[0.0, 3.0399427671592046e-06, 3.03994276715920...</td>\n",
       "      <td>...</td>\n",
       "      <td>[0.0, 1.8508701333054118e-06, 1.85087013330541...</td>\n",
       "      <td>[0.0, 1.9559229850024408e-06, 1.95592298500244...</td>\n",
       "      <td>[0.0, 1.6328842365736775e-06, 1.63288423657367...</td>\n",
       "      <td>[1.9679877079904916e-06, 1.9679877079904916e-0...</td>\n",
       "      <td>[0.0, 2.000738339206106e-06, 2.000738339206106...</td>\n",
       "      <td>[0.0, 1.7490406911740555e-06, 1.74904069117405...</td>\n",
       "      <td>[0.0, 9.78684860218499e-07, 9.78684860218499e-...</td>\n",
       "      <td>[0.0, 1.7398696423510505e-06, 1.73986964235105...</td>\n",
       "      <td>[0.0, 1.6997645228705994e-06, 1.69976452287059...</td>\n",
       "      <td>[0.0, 1.6945485072911019e-06, 1.69454850729110...</td>\n",
       "    </tr>\n",
       "  </tbody>\n",
       "</table>\n",
       "<p>8 rows × 52378 columns</p>\n",
       "</div>"
      ],
      "text/plain": [
       "                                          b1c0_cycle_0  \\\n",
       "I    [0.5427585909090908, 0.8486348909090908, 1.200...   \n",
       "T    [32.08330214381175, 32.08285388769033, 32.0824...   \n",
       "V    [2.1232638, 2.151546, 2.1923985, 2.2395129, 2....   \n",
       "SOC  [3.6425423343594824e-06, 3.6425423343594824e-0...   \n",
       "I    [0.0, 0.15983060909090907, 0.2496493909090909,...   \n",
       "T    [30.076599, 30.076599, 30.076599, 30.076599, 3...   \n",
       "V    [2.401875, 2.412272, 2.4226775, 2.4348855, 2.4...   \n",
       "SOC  [0.0, 1.9942885164958742e-06, 4.44093675923312...   \n",
       "\n",
       "                                          b1c0_cycle_1  \\\n",
       "I    [0.39175900909090905, 0.7491510545454545, 1.04...   \n",
       "T    [32.095115420451435, 32.09553350772601, 32.095...   \n",
       "V    [2.1120076, 2.1413512, 2.1740165, 2.2118678, 2...   \n",
       "SOC  [1.8190609559574564e-06, 1.8190609559574564e-0...   \n",
       "I    [0.0, 0.18980286363636362, 0.3098921363636364,...   \n",
       "T    [29.833899, 29.833899, 29.833899, 29.833899, 2...   \n",
       "V    [2.456265, 2.4685102, 2.4815564, 2.4922719, 2....   \n",
       "SOC  [0.0, 3.3265690817737426e-06, 8.72426310306947...   \n",
       "\n",
       "                                          b1c0_cycle_2  \\\n",
       "I    [0.5479257727272726, 0.7937517999999999, 1.098...   \n",
       "T    [32.100925, 32.100489412344736, 32.10002811787...   \n",
       "V    [2.1213861, 2.1444716, 2.1782861, 2.2177253, 2...   \n",
       "SOC  [4.268502521750656e-06, 8.262785835484163e-06,...   \n",
       "I    [0.0, 0.18965460909090906, 0.2997892545454545,...   \n",
       "T    [28.419994, 28.419994, 28.419994, 28.419994, 2...   \n",
       "V    [2.4562345, 2.4684415, 2.480763, 2.4917989, 2....   \n",
       "SOC  [0.0, 1.4835832874477144e-06, 1.48358328744771...   \n",
       "\n",
       "                                          b1c0_cycle_3  \\\n",
       "I    [0.39319471818181817, 0.648456918181818, 0.948...   \n",
       "T    [32.213660487082265, 32.21347621404638, 32.213...   \n",
       "V    [2.1124139, 2.1327176, 2.1629434, 2.1995873, 2...   \n",
       "SOC  [1.2052784522219678e-06, 1.2052784522219678e-0...   \n",
       "I    [0.0, 0.15969536363636364, 0.2898398272727272,...   \n",
       "T    [30.129168, 30.129168, 30.129168, 30.129168, 3...   \n",
       "V    [2.4514318, 2.4614244, 2.4746346, 2.4877658, 2...   \n",
       "SOC  [0.0, 1.7504234625467348e-06, 1.75042346254673...   \n",
       "\n",
       "                                          b1c0_cycle_4  \\\n",
       "I    [0.4450329909090909, 0.6991507818181818, 1.101...   \n",
       "T    [32.13458411412274, 32.134207367490596, 32.133...   \n",
       "V    [2.1151195, 2.1360803, 2.1796918, 2.2119021, 2...   \n",
       "SOC  [3.5404418809443404e-06, 3.5404418809443404e-0...   \n",
       "I    [0.0, 0.18972483636363635, 0.2797915727272727,...   \n",
       "T    [30.298557, 30.298557, 30.298557, 30.298557, 3...   \n",
       "V    [2.445663, 2.4584661, 2.4684825, 2.482142, 2.4...   \n",
       "SOC  [0.0, 3.3287746940478477e-06, 3.32877469404784...   \n",
       "\n",
       "                                          b1c0_cycle_5  \\\n",
       "I    [0.5985780181818181, 0.8996131181818181, 1.149...   \n",
       "T    [32.0781864326378, 32.07801845032766, 32.07785...   \n",
       "V    [2.1280026, 2.1573977, 2.1868119, 2.2334542, 2...   \n",
       "SOC  [4.339302223894485e-06, 4.339302223894485e-06,...   \n",
       "I    [0.0, 0.16006036363636364, 0.2796762636363636,...   \n",
       "T    [28.807995, 28.807995, 28.807995, 28.807995, 2...   \n",
       "V    [2.4329333, 2.4432902, 2.4569001, 2.4675374, 2...   \n",
       "SOC  [0.0, 1.309421277848201e-06, 1.309421277848201...   \n",
       "\n",
       "                                          b1c0_cycle_6  \\\n",
       "I    [0.38626930909090906, 0.6996605636363636, 0.99...   \n",
       "T    [32.16671265551257, 32.166497023404254, 32.166...   \n",
       "V    [2.1117635, 2.1368032, 2.1684728, 2.2126164, 2...   \n",
       "SOC  [-8.179416391580217e-10, -8.179416391580217e-1...   \n",
       "I    [0.0, 0.1797554727272727, 0.26958985454545453,...   \n",
       "T    [29.946743, 29.946743, 29.946743, 29.946743, 2...   \n",
       "V    [2.4262204, 2.438354, 2.4488111, 2.4621854, 2....   \n",
       "SOC  [0.0, 0.0, 0.0, 0.0, 0.0, 0.0, 0.0, 0.0, 0.0, ...   \n",
       "\n",
       "                                          b1c0_cycle_7  \\\n",
       "I    [0.39174513636363634, 0.6990814181818181, 0.99...   \n",
       "T    [32.2562792769949, 32.25600961148094, 32.25579...   \n",
       "V    [2.1137776, 2.1386704, 2.1700406, 2.2142739, 2...   \n",
       "SOC  [-1.2263398445432887e-07, -1.2263398445432887e...   \n",
       "I    [0.0, 0.1697705, 0.28992132727272724, 0.389606...   \n",
       "T    [30.683035, 30.683035, 30.683035, 30.683035, 3...   \n",
       "V    [2.4334989, 2.4445014, 2.4580808, 2.4711099, 2...   \n",
       "SOC  [0.0, 1.4192690398451262e-06, 1.41926903984512...   \n",
       "\n",
       "                                          b1c0_cycle_8  \\\n",
       "I    [0.3926606636363636, 0.6980618545454544, 0.948...   \n",
       "T    [32.22666074610109, 32.22783662607169, 32.2290...   \n",
       "V    [2.1115088, 2.1361632, 2.1619964, 2.1988816, 2...   \n",
       "SOC  [1.5835705166070975e-06, 1.5835705166070975e-0...   \n",
       "I    [0.0, 0.17988725454545454, 0.26993664545454543...   \n",
       "T    [28.893948, 28.893948, 28.893948, 28.893948, 2...   \n",
       "V    [2.4222856, 2.4346538, 2.4455304, 2.4579101, 2...   \n",
       "SOC  [0.0, 1.6347043449515023e-06, 1.63470434495150...   \n",
       "\n",
       "                                          b1c0_cycle_9  ...  \\\n",
       "I    [0.5982936545454545, 0.8970815454545453, 1.200...  ...   \n",
       "T    [32.18690692183239, 32.186304016406105, 32.186...  ...   \n",
       "V    [2.1297498, 2.1589379, 2.1943831, 2.2281985, 2...  ...   \n",
       "SOC  [3.6003640957259887e-06, 3.6003640957259887e-0...  ...   \n",
       "I    [0.0, 0.16986759999999998, 0.26981267272727266...  ...   \n",
       "T    [30.043512, 30.043512, 30.043512, 30.043512, 3...  ...   \n",
       "V    [2.4238496, 2.4352813, 2.4466033, 2.4585814, 2...  ...   \n",
       "SOC  [0.0, 3.0399427671592046e-06, 3.03994276715920...  ...   \n",
       "\n",
       "                                       b1c47_cycle_735  \\\n",
       "I                                                  NaN   \n",
       "T                                                  NaN   \n",
       "V                                                  NaN   \n",
       "SOC                                                NaN   \n",
       "I    [0.0, 0.2996583454545454, 0.4787826545454545, ...   \n",
       "T    [30.820396, 30.820396, 30.820396, 30.820396, 3...   \n",
       "V    [2.4112144, 2.4238153, 2.4350972, 2.4484458, 2...   \n",
       "SOC  [0.0, 1.8508701333054118e-06, 1.85087013330541...   \n",
       "\n",
       "                                       b1c47_cycle_736  \\\n",
       "I                                                  NaN   \n",
       "T                                                  NaN   \n",
       "V                                                  NaN   \n",
       "SOC                                                NaN   \n",
       "I    [0.0, 0.3628436, 0.5398247454545454, 0.7181549...   \n",
       "T    [30.906128, 30.906128, 30.906128, 30.906128, 3...   \n",
       "V    [2.4125342, 2.4289632, 2.4412465, 2.4545608, 2...   \n",
       "SOC  [0.0, 1.9559229850024408e-06, 1.95592298500244...   \n",
       "\n",
       "                                       b1c47_cycle_737  \\\n",
       "I                                                  NaN   \n",
       "T                                                  NaN   \n",
       "V                                                  NaN   \n",
       "SOC                                                NaN   \n",
       "I    [0.0, 0.2951604636363636, 0.47273462727272725,...   \n",
       "T    [31.090843, 31.090843, 31.090843, 31.090843, 3...   \n",
       "V    [2.4203725, 2.4331603, 2.4441943, 2.4573407, 2...   \n",
       "SOC  [0.0, 1.6328842365736775e-06, 1.63288423657367...   \n",
       "\n",
       "                                       b1c47_cycle_738  \\\n",
       "I                                                  NaN   \n",
       "T                                                  NaN   \n",
       "V                                                  NaN   \n",
       "SOC                                                NaN   \n",
       "I    [0.3585919454545454, 0.5399981454545455, 0.718...   \n",
       "T    [31.08473, 31.08473, 31.08473, 31.08473, 31.08...   \n",
       "V    [2.4422917, 2.45402, 2.4675279, 2.4825578, 2.4...   \n",
       "SOC  [1.9679877079904916e-06, 1.9679877079904916e-0...   \n",
       "\n",
       "                                       b1c47_cycle_739  \\\n",
       "I                                                  NaN   \n",
       "T                                                  NaN   \n",
       "V                                                  NaN   \n",
       "SOC                                                NaN   \n",
       "I    [0.0, 0.3595421545454545, 0.5395889272727272, ...   \n",
       "T    [31.14735, 31.14735, 31.14735, 31.14735, 31.14...   \n",
       "V    [2.4308658, 2.4468093, 2.4585271, 2.4720521, 2...   \n",
       "SOC  [0.0, 2.000738339206106e-06, 2.000738339206106...   \n",
       "\n",
       "                                       b1c47_cycle_740  \\\n",
       "I                                                  NaN   \n",
       "T                                                  NaN   \n",
       "V                                                  NaN   \n",
       "SOC                                                NaN   \n",
       "I    [0.0, 0.2995092181818182, 0.4784115909090909, ...   \n",
       "T    [30.858965, 30.858965, 30.858965, 30.858965, 3...   \n",
       "V    [2.4366145, 2.4486165, 2.4607921, 2.4731212, 2...   \n",
       "SOC  [0.0, 1.7490406911740555e-06, 1.74904069117405...   \n",
       "\n",
       "                                       b1c47_cycle_741  \\\n",
       "I                                                  NaN   \n",
       "T                                                  NaN   \n",
       "V                                                  NaN   \n",
       "SOC                                                NaN   \n",
       "I    [0.0, 0.2390670818181818, 0.478279809090909, 0...   \n",
       "T    [30.924057, 30.924057, 30.924057, 30.924057, 3...   \n",
       "V    [2.4453759, 2.4552312, 2.4685254, 2.4812427, 2...   \n",
       "SOC  [0.0, 9.78684860218499e-07, 9.78684860218499e-...   \n",
       "\n",
       "                                       b1c47_cycle_742  \\\n",
       "I                                                  NaN   \n",
       "T                                                  NaN   \n",
       "V                                                  NaN   \n",
       "SOC                                                NaN   \n",
       "I    [0.0, 0.29942946363636364, 0.5394571454545454,...   \n",
       "T    [31.010826, 31.010826, 31.010826, 31.010826, 3...   \n",
       "V    [2.452889, 2.4650865, 2.47963, 2.4921498, 2.50...   \n",
       "SOC  [0.0, 1.7398696423510505e-06, 1.73986964235105...   \n",
       "\n",
       "                                       b1c47_cycle_743  \\\n",
       "I                                                  NaN   \n",
       "T                                                  NaN   \n",
       "V                                                  NaN   \n",
       "SOC                                                NaN   \n",
       "I    [0.0, 0.29693949999999997, 0.5387843727272726,...   \n",
       "T    [31.052486, 31.052486, 31.052486, 31.052486, 3...   \n",
       "V    [2.4562917, 2.4697738, 2.4833999, 2.4961963, 2...   \n",
       "SOC  [0.0, 1.6997645228705994e-06, 1.69976452287059...   \n",
       "\n",
       "                                       b1c47_cycle_744  \n",
       "I                                                  NaN  \n",
       "T                                                  NaN  \n",
       "V                                                  NaN  \n",
       "SOC                                                NaN  \n",
       "I    [0.0, 0.3006675, 0.4756545999999999, 0.6583265...  \n",
       "T    [31.028942, 31.028942, 31.028942, 31.028942, 3...  \n",
       "V    [2.4642749, 2.4767127, 2.4872279, 2.4993186, 2...  \n",
       "SOC  [0.0, 1.6945485072911019e-06, 1.69454850729110...  \n",
       "\n",
       "[8 rows x 52378 columns]"
      ]
     },
     "execution_count": 6,
     "metadata": {},
     "output_type": "execute_result"
    }
   ],
   "source": [
    "df2.append(df1)\n",
    "df3.append(df2)\n",
    "# df = pd.concat([df1.T, df2.T, df3.T])"
   ]
  },
  {
   "cell_type": "code",
   "execution_count": 7,
   "metadata": {},
   "outputs": [
    {
     "data": {
      "text/html": [
       "<div>\n",
       "<style scoped>\n",
       "    .dataframe tbody tr th:only-of-type {\n",
       "        vertical-align: middle;\n",
       "    }\n",
       "\n",
       "    .dataframe tbody tr th {\n",
       "        vertical-align: top;\n",
       "    }\n",
       "\n",
       "    .dataframe thead th {\n",
       "        text-align: right;\n",
       "    }\n",
       "</style>\n",
       "<table border=\"1\" class=\"dataframe\">\n",
       "  <thead>\n",
       "    <tr style=\"text-align: right;\">\n",
       "      <th></th>\n",
       "      <th>I</th>\n",
       "      <th>T</th>\n",
       "      <th>V</th>\n",
       "      <th>SOC</th>\n",
       "    </tr>\n",
       "  </thead>\n",
       "  <tbody>\n",
       "    <tr>\n",
       "      <th>b1c0_cycle_0</th>\n",
       "      <td>[0.5427585909090908, 0.8486348909090908, 1.200...</td>\n",
       "      <td>[32.08330214381175, 32.08285388769033, 32.0824...</td>\n",
       "      <td>[2.1232638, 2.151546, 2.1923985, 2.2395129, 2....</td>\n",
       "      <td>[3.6425423343594824e-06, 3.6425423343594824e-0...</td>\n",
       "    </tr>\n",
       "    <tr>\n",
       "      <th>b1c0_cycle_1</th>\n",
       "      <td>[0.39175900909090905, 0.7491510545454545, 1.04...</td>\n",
       "      <td>[32.095115420451435, 32.09553350772601, 32.095...</td>\n",
       "      <td>[2.1120076, 2.1413512, 2.1740165, 2.2118678, 2...</td>\n",
       "      <td>[1.8190609559574564e-06, 1.8190609559574564e-0...</td>\n",
       "    </tr>\n",
       "    <tr>\n",
       "      <th>b1c0_cycle_2</th>\n",
       "      <td>[0.5479257727272726, 0.7937517999999999, 1.098...</td>\n",
       "      <td>[32.100925, 32.100489412344736, 32.10002811787...</td>\n",
       "      <td>[2.1213861, 2.1444716, 2.1782861, 2.2177253, 2...</td>\n",
       "      <td>[4.268502521750656e-06, 8.262785835484163e-06,...</td>\n",
       "    </tr>\n",
       "    <tr>\n",
       "      <th>b1c0_cycle_3</th>\n",
       "      <td>[0.39319471818181817, 0.648456918181818, 0.948...</td>\n",
       "      <td>[32.213660487082265, 32.21347621404638, 32.213...</td>\n",
       "      <td>[2.1124139, 2.1327176, 2.1629434, 2.1995873, 2...</td>\n",
       "      <td>[1.2052784522219678e-06, 1.2052784522219678e-0...</td>\n",
       "    </tr>\n",
       "    <tr>\n",
       "      <th>b1c0_cycle_4</th>\n",
       "      <td>[0.4450329909090909, 0.6991507818181818, 1.101...</td>\n",
       "      <td>[32.13458411412274, 32.134207367490596, 32.133...</td>\n",
       "      <td>[2.1151195, 2.1360803, 2.1796918, 2.2119021, 2...</td>\n",
       "      <td>[3.5404418809443404e-06, 3.5404418809443404e-0...</td>\n",
       "    </tr>\n",
       "    <tr>\n",
       "      <th>...</th>\n",
       "      <td>...</td>\n",
       "      <td>...</td>\n",
       "      <td>...</td>\n",
       "      <td>...</td>\n",
       "    </tr>\n",
       "    <tr>\n",
       "      <th>b1c45_cycle_1795</th>\n",
       "      <td>[0.2578388545454545, 0.4775515454545454, 0.610...</td>\n",
       "      <td>[34.555432606726335, 34.55582969907784, 34.556...</td>\n",
       "      <td>[2.0948563, 2.1100092, 2.1218052, 2.1350965, 2...</td>\n",
       "      <td>[1.7464025659894467e-06, 1.7464025659894467e-0...</td>\n",
       "    </tr>\n",
       "    <tr>\n",
       "      <th>b1c45_cycle_1796</th>\n",
       "      <td>[0.2599854909090909, 0.478637, 0.6105561727272...</td>\n",
       "      <td>[31.620354294561555, 31.619811574231527, 31.61...</td>\n",
       "      <td>[2.0842285, 2.0998735, 2.1117344, 2.1302576, 2...</td>\n",
       "      <td>[1.5868456535078806e-06, 1.5868456535078806e-0...</td>\n",
       "    </tr>\n",
       "    <tr>\n",
       "      <th>b1c45_cycle_1797</th>\n",
       "      <td>[0.2594687727272727, 0.47793648181818177, 0.61...</td>\n",
       "      <td>[33.99753668179203, 33.99755672046856, 33.9975...</td>\n",
       "      <td>[2.0886335, 2.1039343, 2.1157856, 2.1292858, 2...</td>\n",
       "      <td>[1.7258779262129827e-06, 1.7258779262129827e-0...</td>\n",
       "    </tr>\n",
       "    <tr>\n",
       "      <th>b1c45_cycle_1798</th>\n",
       "      <td>[0.2554217272727272, 0.4325623909090909, 0.609...</td>\n",
       "      <td>[32.40957192369549, 32.409422612986646, 32.409...</td>\n",
       "      <td>[2.0888691, 2.1011848, 2.1166267, 2.130477, 2....</td>\n",
       "      <td>[1.408731591259149e-06, 1.408731591259149e-06,...</td>\n",
       "    </tr>\n",
       "    <tr>\n",
       "      <th>b1c45_cycle_1799</th>\n",
       "      <td>[0.30231129090909087, 0.4792230818181818, 0.61...</td>\n",
       "      <td>[33.73802749650025, 33.73738159286902, 33.7369...</td>\n",
       "      <td>[2.0901213, 2.1028252, 2.1146011, 2.1327438, 2...</td>\n",
       "      <td>[1.6482469584539502e-06, 1.6482469584539502e-0...</td>\n",
       "    </tr>\n",
       "  </tbody>\n",
       "</table>\n",
       "<p>51007 rows × 4 columns</p>\n",
       "</div>"
      ],
      "text/plain": [
       "                                                                  I  \\\n",
       "b1c0_cycle_0      [0.5427585909090908, 0.8486348909090908, 1.200...   \n",
       "b1c0_cycle_1      [0.39175900909090905, 0.7491510545454545, 1.04...   \n",
       "b1c0_cycle_2      [0.5479257727272726, 0.7937517999999999, 1.098...   \n",
       "b1c0_cycle_3      [0.39319471818181817, 0.648456918181818, 0.948...   \n",
       "b1c0_cycle_4      [0.4450329909090909, 0.6991507818181818, 1.101...   \n",
       "...                                                             ...   \n",
       "b1c45_cycle_1795  [0.2578388545454545, 0.4775515454545454, 0.610...   \n",
       "b1c45_cycle_1796  [0.2599854909090909, 0.478637, 0.6105561727272...   \n",
       "b1c45_cycle_1797  [0.2594687727272727, 0.47793648181818177, 0.61...   \n",
       "b1c45_cycle_1798  [0.2554217272727272, 0.4325623909090909, 0.609...   \n",
       "b1c45_cycle_1799  [0.30231129090909087, 0.4792230818181818, 0.61...   \n",
       "\n",
       "                                                                  T  \\\n",
       "b1c0_cycle_0      [32.08330214381175, 32.08285388769033, 32.0824...   \n",
       "b1c0_cycle_1      [32.095115420451435, 32.09553350772601, 32.095...   \n",
       "b1c0_cycle_2      [32.100925, 32.100489412344736, 32.10002811787...   \n",
       "b1c0_cycle_3      [32.213660487082265, 32.21347621404638, 32.213...   \n",
       "b1c0_cycle_4      [32.13458411412274, 32.134207367490596, 32.133...   \n",
       "...                                                             ...   \n",
       "b1c45_cycle_1795  [34.555432606726335, 34.55582969907784, 34.556...   \n",
       "b1c45_cycle_1796  [31.620354294561555, 31.619811574231527, 31.61...   \n",
       "b1c45_cycle_1797  [33.99753668179203, 33.99755672046856, 33.9975...   \n",
       "b1c45_cycle_1798  [32.40957192369549, 32.409422612986646, 32.409...   \n",
       "b1c45_cycle_1799  [33.73802749650025, 33.73738159286902, 33.7369...   \n",
       "\n",
       "                                                                  V  \\\n",
       "b1c0_cycle_0      [2.1232638, 2.151546, 2.1923985, 2.2395129, 2....   \n",
       "b1c0_cycle_1      [2.1120076, 2.1413512, 2.1740165, 2.2118678, 2...   \n",
       "b1c0_cycle_2      [2.1213861, 2.1444716, 2.1782861, 2.2177253, 2...   \n",
       "b1c0_cycle_3      [2.1124139, 2.1327176, 2.1629434, 2.1995873, 2...   \n",
       "b1c0_cycle_4      [2.1151195, 2.1360803, 2.1796918, 2.2119021, 2...   \n",
       "...                                                             ...   \n",
       "b1c45_cycle_1795  [2.0948563, 2.1100092, 2.1218052, 2.1350965, 2...   \n",
       "b1c45_cycle_1796  [2.0842285, 2.0998735, 2.1117344, 2.1302576, 2...   \n",
       "b1c45_cycle_1797  [2.0886335, 2.1039343, 2.1157856, 2.1292858, 2...   \n",
       "b1c45_cycle_1798  [2.0888691, 2.1011848, 2.1166267, 2.130477, 2....   \n",
       "b1c45_cycle_1799  [2.0901213, 2.1028252, 2.1146011, 2.1327438, 2...   \n",
       "\n",
       "                                                                SOC  \n",
       "b1c0_cycle_0      [3.6425423343594824e-06, 3.6425423343594824e-0...  \n",
       "b1c0_cycle_1      [1.8190609559574564e-06, 1.8190609559574564e-0...  \n",
       "b1c0_cycle_2      [4.268502521750656e-06, 8.262785835484163e-06,...  \n",
       "b1c0_cycle_3      [1.2052784522219678e-06, 1.2052784522219678e-0...  \n",
       "b1c0_cycle_4      [3.5404418809443404e-06, 3.5404418809443404e-0...  \n",
       "...                                                             ...  \n",
       "b1c45_cycle_1795  [1.7464025659894467e-06, 1.7464025659894467e-0...  \n",
       "b1c45_cycle_1796  [1.5868456535078806e-06, 1.5868456535078806e-0...  \n",
       "b1c45_cycle_1797  [1.7258779262129827e-06, 1.7258779262129827e-0...  \n",
       "b1c45_cycle_1798  [1.408731591259149e-06, 1.408731591259149e-06,...  \n",
       "b1c45_cycle_1799  [1.6482469584539502e-06, 1.6482469584539502e-0...  \n",
       "\n",
       "[51007 rows x 4 columns]"
      ]
     },
     "execution_count": 7,
     "metadata": {},
     "output_type": "execute_result"
    }
   ],
   "source": [
    "df=df3.T\n",
    "df"
   ]
  },
  {
   "cell_type": "code",
   "execution_count": 28,
   "metadata": {},
   "outputs": [],
   "source": [
    "# df.to_csv('df1.csv', index=False)"
   ]
  },
  {
   "cell_type": "code",
   "execution_count": 29,
   "metadata": {},
   "outputs": [],
   "source": [
    "# df1=pd.read_csv(\"df1.csv\")"
   ]
  },
  {
   "cell_type": "code",
   "execution_count": 27,
   "metadata": {},
   "outputs": [],
   "source": [
    "# df1"
   ]
  },
  {
   "cell_type": "code",
   "execution_count": 30,
   "metadata": {},
   "outputs": [],
   "source": [
    "# df1['SOC'][1]"
   ]
  },
  {
   "cell_type": "code",
   "execution_count": 8,
   "metadata": {},
   "outputs": [
    {
     "data": {
      "text/plain": [
       "[<matplotlib.lines.Line2D at 0x1c428260ad0>]"
      ]
     },
     "execution_count": 8,
     "metadata": {},
     "output_type": "execute_result"
    },
    {
     "data": {
      "image/png": "[encoded data removed]",
      "text/plain": [
       "<Figure size 640x480 with 1 Axes>"
      ]
     },
     "metadata": {},
     "output_type": "display_data"
    }
   ],
   "source": [
    "soc=df['SOC']['b1c5_cycle_10']\n",
    "plt.plot(soc)\n",
    "I= df['I']['b1c0_cycle_4']\n",
    "plt.plot(I)"
   ]
  },
  {
   "cell_type": "code",
   "execution_count": 189,
   "metadata": {},
   "outputs": [],
   "source": [
    "# X_train, X_test, y_train, y_test = train_test_split(\n",
    "# X, y, test_size=0.2, random_state=0)\n"
   ]
  },
  {
   "cell_type": "code",
   "execution_count": 188,
   "metadata": {},
   "outputs": [],
   "source": [
    "# model = tf.keras.models.Sequential([\n",
    "#     tf.keras.layers.Dense(3000, activation='relu', input_shape=(3,1000)),\n",
    "#     tf.keras.layers.Flatten(),\n",
    "#     tf.keras.layers.Dense(512, activation='relu'),\n",
    "#     tf.keras.layers.Dense(1000, activation='relu')\n",
    "    \n",
    "# ])\n",
    "# model.compile(loss='mse', optimizer='adam', metrics=['mse'])"
   ]
  },
  {
   "cell_type": "code",
   "execution_count": 33,
   "metadata": {},
   "outputs": [],
   "source": [
    "# model.fit(X_train, y_train, epochs=10, validation_data=(X_test,y_test))"
   ]
  },
  {
   "cell_type": "code",
   "execution_count": 31,
   "metadata": {},
   "outputs": [],
   "source": [
    "# model.predict(X_test[0:1])"
   ]
  },
  {
   "cell_type": "code",
   "execution_count": 32,
   "metadata": {},
   "outputs": [],
   "source": [
    "# y_test[0]\n",
    "\n",
    "\n",
    "# SIMPLE MODEL ENDS"
   ]
  },
  {
   "cell_type": "code",
   "execution_count": 104,
   "metadata": {},
   "outputs": [
    {
     "data": {
      "text/html": [
       "<div>\n",
       "<style scoped>\n",
       "    .dataframe tbody tr th:only-of-type {\n",
       "        vertical-align: middle;\n",
       "    }\n",
       "\n",
       "    .dataframe tbody tr th {\n",
       "        vertical-align: top;\n",
       "    }\n",
       "\n",
       "    .dataframe thead th {\n",
       "        text-align: right;\n",
       "    }\n",
       "</style>\n",
       "<table border=\"1\" class=\"dataframe\">\n",
       "  <thead>\n",
       "    <tr style=\"text-align: right;\">\n",
       "      <th></th>\n",
       "      <th>I</th>\n",
       "      <th>T</th>\n",
       "      <th>V</th>\n",
       "      <th>SOC</th>\n",
       "    </tr>\n",
       "  </thead>\n",
       "  <tbody>\n",
       "    <tr>\n",
       "      <th>b1c0_cycle_0</th>\n",
       "      <td>[0.5427585909090908, 0.8486348909090908, 1.200...</td>\n",
       "      <td>[32.08330214381175, 32.08285388769033, 32.0824...</td>\n",
       "      <td>[2.1232638, 2.151546, 2.1923985, 2.2395129, 2....</td>\n",
       "      <td>[3.6425423343594824e-06, 3.6425423343594824e-0...</td>\n",
       "    </tr>\n",
       "    <tr>\n",
       "      <th>b1c0_cycle_1</th>\n",
       "      <td>[0.39175900909090905, 0.7491510545454545, 1.04...</td>\n",
       "      <td>[32.095115420451435, 32.09553350772601, 32.095...</td>\n",
       "      <td>[2.1120076, 2.1413512, 2.1740165, 2.2118678, 2...</td>\n",
       "      <td>[1.8190609559574564e-06, 1.8190609559574564e-0...</td>\n",
       "    </tr>\n",
       "    <tr>\n",
       "      <th>b1c0_cycle_2</th>\n",
       "      <td>[0.5479257727272726, 0.7937517999999999, 1.098...</td>\n",
       "      <td>[32.100925, 32.100489412344736, 32.10002811787...</td>\n",
       "      <td>[2.1213861, 2.1444716, 2.1782861, 2.2177253, 2...</td>\n",
       "      <td>[4.268502521750656e-06, 8.262785835484163e-06,...</td>\n",
       "    </tr>\n",
       "    <tr>\n",
       "      <th>b1c0_cycle_3</th>\n",
       "      <td>[0.39319471818181817, 0.648456918181818, 0.948...</td>\n",
       "      <td>[32.213660487082265, 32.21347621404638, 32.213...</td>\n",
       "      <td>[2.1124139, 2.1327176, 2.1629434, 2.1995873, 2...</td>\n",
       "      <td>[1.2052784522219678e-06, 1.2052784522219678e-0...</td>\n",
       "    </tr>\n",
       "    <tr>\n",
       "      <th>b1c0_cycle_4</th>\n",
       "      <td>[0.4450329909090909, 0.6991507818181818, 1.101...</td>\n",
       "      <td>[32.13458411412274, 32.134207367490596, 32.133...</td>\n",
       "      <td>[2.1151195, 2.1360803, 2.1796918, 2.2119021, 2...</td>\n",
       "      <td>[3.5404418809443404e-06, 3.5404418809443404e-0...</td>\n",
       "    </tr>\n",
       "    <tr>\n",
       "      <th>...</th>\n",
       "      <td>...</td>\n",
       "      <td>...</td>\n",
       "      <td>...</td>\n",
       "      <td>...</td>\n",
       "    </tr>\n",
       "    <tr>\n",
       "      <th>b1c45_cycle_1795</th>\n",
       "      <td>[0.2578388545454545, 0.4775515454545454, 0.610...</td>\n",
       "      <td>[34.555432606726335, 34.55582969907784, 34.556...</td>\n",
       "      <td>[2.0948563, 2.1100092, 2.1218052, 2.1350965, 2...</td>\n",
       "      <td>[1.7464025659894467e-06, 1.7464025659894467e-0...</td>\n",
       "    </tr>\n",
       "    <tr>\n",
       "      <th>b1c45_cycle_1796</th>\n",
       "      <td>[0.2599854909090909, 0.478637, 0.6105561727272...</td>\n",
       "      <td>[31.620354294561555, 31.619811574231527, 31.61...</td>\n",
       "      <td>[2.0842285, 2.0998735, 2.1117344, 2.1302576, 2...</td>\n",
       "      <td>[1.5868456535078806e-06, 1.5868456535078806e-0...</td>\n",
       "    </tr>\n",
       "    <tr>\n",
       "      <th>b1c45_cycle_1797</th>\n",
       "      <td>[0.2594687727272727, 0.47793648181818177, 0.61...</td>\n",
       "      <td>[33.99753668179203, 33.99755672046856, 33.9975...</td>\n",
       "      <td>[2.0886335, 2.1039343, 2.1157856, 2.1292858, 2...</td>\n",
       "      <td>[1.7258779262129827e-06, 1.7258779262129827e-0...</td>\n",
       "    </tr>\n",
       "    <tr>\n",
       "      <th>b1c45_cycle_1798</th>\n",
       "      <td>[0.2554217272727272, 0.4325623909090909, 0.609...</td>\n",
       "      <td>[32.40957192369549, 32.409422612986646, 32.409...</td>\n",
       "      <td>[2.0888691, 2.1011848, 2.1166267, 2.130477, 2....</td>\n",
       "      <td>[1.408731591259149e-06, 1.408731591259149e-06,...</td>\n",
       "    </tr>\n",
       "    <tr>\n",
       "      <th>b1c45_cycle_1799</th>\n",
       "      <td>[0.30231129090909087, 0.4792230818181818, 0.61...</td>\n",
       "      <td>[33.73802749650025, 33.73738159286902, 33.7369...</td>\n",
       "      <td>[2.0901213, 2.1028252, 2.1146011, 2.1327438, 2...</td>\n",
       "      <td>[1.6482469584539502e-06, 1.6482469584539502e-0...</td>\n",
       "    </tr>\n",
       "  </tbody>\n",
       "</table>\n",
       "<p>51007 rows × 4 columns</p>\n",
       "</div>"
      ],
      "text/plain": [
       "                                                                  I  \\\n",
       "b1c0_cycle_0      [0.5427585909090908, 0.8486348909090908, 1.200...   \n",
       "b1c0_cycle_1      [0.39175900909090905, 0.7491510545454545, 1.04...   \n",
       "b1c0_cycle_2      [0.5479257727272726, 0.7937517999999999, 1.098...   \n",
       "b1c0_cycle_3      [0.39319471818181817, 0.648456918181818, 0.948...   \n",
       "b1c0_cycle_4      [0.4450329909090909, 0.6991507818181818, 1.101...   \n",
       "...                                                             ...   \n",
       "b1c45_cycle_1795  [0.2578388545454545, 0.4775515454545454, 0.610...   \n",
       "b1c45_cycle_1796  [0.2599854909090909, 0.478637, 0.6105561727272...   \n",
       "b1c45_cycle_1797  [0.2594687727272727, 0.47793648181818177, 0.61...   \n",
       "b1c45_cycle_1798  [0.2554217272727272, 0.4325623909090909, 0.609...   \n",
       "b1c45_cycle_1799  [0.30231129090909087, 0.4792230818181818, 0.61...   \n",
       "\n",
       "                                                                  T  \\\n",
       "b1c0_cycle_0      [32.08330214381175, 32.08285388769033, 32.0824...   \n",
       "b1c0_cycle_1      [32.095115420451435, 32.09553350772601, 32.095...   \n",
       "b1c0_cycle_2      [32.100925, 32.100489412344736, 32.10002811787...   \n",
       "b1c0_cycle_3      [32.213660487082265, 32.21347621404638, 32.213...   \n",
       "b1c0_cycle_4      [32.13458411412274, 32.134207367490596, 32.133...   \n",
       "...                                                             ...   \n",
       "b1c45_cycle_1795  [34.555432606726335, 34.55582969907784, 34.556...   \n",
       "b1c45_cycle_1796  [31.620354294561555, 31.619811574231527, 31.61...   \n",
       "b1c45_cycle_1797  [33.99753668179203, 33.99755672046856, 33.9975...   \n",
       "b1c45_cycle_1798  [32.40957192369549, 32.409422612986646, 32.409...   \n",
       "b1c45_cycle_1799  [33.73802749650025, 33.73738159286902, 33.7369...   \n",
       "\n",
       "                                                                  V  \\\n",
       "b1c0_cycle_0      [2.1232638, 2.151546, 2.1923985, 2.2395129, 2....   \n",
       "b1c0_cycle_1      [2.1120076, 2.1413512, 2.1740165, 2.2118678, 2...   \n",
       "b1c0_cycle_2      [2.1213861, 2.1444716, 2.1782861, 2.2177253, 2...   \n",
       "b1c0_cycle_3      [2.1124139, 2.1327176, 2.1629434, 2.1995873, 2...   \n",
       "b1c0_cycle_4      [2.1151195, 2.1360803, 2.1796918, 2.2119021, 2...   \n",
       "...                                                             ...   \n",
       "b1c45_cycle_1795  [2.0948563, 2.1100092, 2.1218052, 2.1350965, 2...   \n",
       "b1c45_cycle_1796  [2.0842285, 2.0998735, 2.1117344, 2.1302576, 2...   \n",
       "b1c45_cycle_1797  [2.0886335, 2.1039343, 2.1157856, 2.1292858, 2...   \n",
       "b1c45_cycle_1798  [2.0888691, 2.1011848, 2.1166267, 2.130477, 2....   \n",
       "b1c45_cycle_1799  [2.0901213, 2.1028252, 2.1146011, 2.1327438, 2...   \n",
       "\n",
       "                                                                SOC  \n",
       "b1c0_cycle_0      [3.6425423343594824e-06, 3.6425423343594824e-0...  \n",
       "b1c0_cycle_1      [1.8190609559574564e-06, 1.8190609559574564e-0...  \n",
       "b1c0_cycle_2      [4.268502521750656e-06, 8.262785835484163e-06,...  \n",
       "b1c0_cycle_3      [1.2052784522219678e-06, 1.2052784522219678e-0...  \n",
       "b1c0_cycle_4      [3.5404418809443404e-06, 3.5404418809443404e-0...  \n",
       "...                                                             ...  \n",
       "b1c45_cycle_1795  [1.7464025659894467e-06, 1.7464025659894467e-0...  \n",
       "b1c45_cycle_1796  [1.5868456535078806e-06, 1.5868456535078806e-0...  \n",
       "b1c45_cycle_1797  [1.7258779262129827e-06, 1.7258779262129827e-0...  \n",
       "b1c45_cycle_1798  [1.408731591259149e-06, 1.408731591259149e-06,...  \n",
       "b1c45_cycle_1799  [1.6482469584539502e-06, 1.6482469584539502e-0...  \n",
       "\n",
       "[51007 rows x 4 columns]"
      ]
     },
     "execution_count": 104,
     "metadata": {},
     "output_type": "execute_result"
    }
   ],
   "source": [
    "df"
   ]
  },
  {
   "cell_type": "code",
   "execution_count": 105,
   "metadata": {},
   "outputs": [],
   "source": [
    "# LSTM MODEL STARTS\n",
    "\n",
    "train_size=int(0.6*len(df))\n",
    "train_data=df[0:train_size]\n",
    "test_data=df[train_size:len(df)]\n",
    "\n",
    "# spliting data for training 0.6 and test 0.4"
   ]
  },
  {
   "cell_type": "code",
   "execution_count": 106,
   "metadata": {},
   "outputs": [
    {
     "data": {
      "text/plain": [
       "30604"
      ]
     },
     "execution_count": 106,
     "metadata": {},
     "output_type": "execute_result"
    }
   ],
   "source": [
    "train_size"
   ]
  },
  {
   "cell_type": "code",
   "execution_count": 108,
   "metadata": {},
   "outputs": [],
   "source": [
    "def split_sequence(sequence, n_steps_in, n_steps_out):\n",
    "    X=[]\n",
    "    y=[]\n",
    "    for i in range(len(sequence)):\n",
    "        end_ix = i + n_steps_in\n",
    "        out_end_ix = end_ix + n_steps_out\n",
    "        if out_end_ix > len(sequence):\n",
    "            break\n",
    "        seq_x, seq_y = sequence[i:end_ix], sequence[end_ix:out_end_ix]\n",
    "        X.append(seq_x.drop([\"SOC\"],axis=1))\n",
    "        y.append(seq_y[\"SOC\"])\n",
    "    return X,y\n",
    "\n",
    "# preparing data for lstm input 5 output 5"
   ]
  },
  {
   "cell_type": "code",
   "execution_count": 109,
   "metadata": {},
   "outputs": [],
   "source": [
    "X_train,Y_train = split_sequence(train_data,5,5)\n",
    "X_test,Y_test = split_sequence(test_data,5,5)\n",
    "# application\n"
   ]
  },
  {
   "cell_type": "code",
   "execution_count": 110,
   "metadata": {},
   "outputs": [],
   "source": [
    "X1=np.array(X_train)\n",
    "Y1=np.array(Y_train)\n",
    "X2=np.array(X_test)\n",
    "Y2=np.array(Y_test)\n",
    "\n",
    "# from list to array (list cant be indexed with numbers)"
   ]
  },
  {
   "cell_type": "code",
   "execution_count": 111,
   "metadata": {},
   "outputs": [],
   "source": [
    "def createModel(inputShape,output):\n",
    "    model = Sequential()\n",
    "    model.add(LSTM(64,input_shape=inputShape))\n",
    "    model.add(Dense(output, activation='linear'))\n",
    "    \n",
    "    model.compile(loss='mean_squared_error',metrics=['mse'],optimizer=\"adam\")\n",
    "    return model\n",
    "# lstm model"
   ]
  },
  {
   "cell_type": "code",
   "execution_count": 112,
   "metadata": {},
   "outputs": [],
   "source": [
    "time_steps= 5\n",
    "# lstm model 5\n",
    "feature_length = 1000\n",
    "# 3 features\n",
    "input_shape = (time_steps, feature_length*3)\n",
    "\n",
    "model= createModel(input_shape, 5000)"
   ]
  },
  {
   "cell_type": "code",
   "execution_count": 113,
   "metadata": {},
   "outputs": [
    {
     "name": "stdout",
     "output_type": "stream",
     "text": [
      "Model: \"sequential_4\"\n",
      "_________________________________________________________________\n",
      " Layer (type)                Output Shape              Param #   \n",
      "=================================================================\n",
      " lstm_4 (LSTM)               (None, 64)                784640    \n",
      "                                                                 \n",
      " dense_4 (Dense)             (None, 5000)              325000    \n",
      "                                                                 \n",
      "=================================================================\n",
      "Total params: 1,109,640\n",
      "Trainable params: 1,109,640\n",
      "Non-trainable params: 0\n",
      "_________________________________________________________________\n"
     ]
    }
   ],
   "source": [
    "model.summary()"
   ]
  },
  {
   "cell_type": "code",
   "execution_count": 114,
   "metadata": {},
   "outputs": [],
   "source": [
    "t=np.zeros((len(X1),5,3,1000))\n",
    "for k in range(len(X1)):\n",
    "    for i in range(5):\n",
    "        for x in range(3):\n",
    "            for j in range(len(X1[k][i][x])):\n",
    "                if(j>=1000):\n",
    "                    break\n",
    "                else:\n",
    "                    t[k][i][x][j]=X1[k][i][x][j]\n",
    "# making it with the same length X1                 "
   ]
  },
  {
   "cell_type": "code",
   "execution_count": 115,
   "metadata": {},
   "outputs": [],
   "source": [
    "X1=t"
   ]
  },
  {
   "cell_type": "code",
   "execution_count": 116,
   "metadata": {},
   "outputs": [],
   "source": [
    "t=np.zeros((len(X2),5,3,1000))\n",
    "for k in range(len(X2)):\n",
    "    for i in range(5):\n",
    "        for x in range(3):\n",
    "            for j in range(len(X2[k][i][x])):\n",
    "                if(j>=1000):\n",
    "                    break\n",
    "                else:\n",
    "                    t[k][i][x][j]=X2[k][i][x][j]\n",
    " # making it with the same length      X2                               "
   ]
  },
  {
   "cell_type": "code",
   "execution_count": 117,
   "metadata": {},
   "outputs": [],
   "source": [
    "X2=t"
   ]
  },
  {
   "cell_type": "code",
   "execution_count": 118,
   "metadata": {},
   "outputs": [],
   "source": [
    "t=np.zeros((len(Y2),5,1000))\n",
    "for k in range(len(Y2)):\n",
    "    for i in range(5):\n",
    "            for j in range(len(Y2[k][i])):\n",
    "                if(j>=1000):\n",
    "                    break\n",
    "                else:\n",
    "                    t[k][i][j]=Y2[k][i][j]\n",
    "                    \n",
    "                    \n",
    "# making it with the same length  Y2                                   "
   ]
  },
  {
   "cell_type": "code",
   "execution_count": 119,
   "metadata": {},
   "outputs": [],
   "source": [
    "Y2=t"
   ]
  },
  {
   "cell_type": "code",
   "execution_count": 120,
   "metadata": {},
   "outputs": [],
   "source": [
    "t=np.zeros((len(Y1),5,1000))\n",
    "for k in range(len(Y1)):\n",
    "    for i in range(5):\n",
    "            for j in range(len(Y1[k][i])):\n",
    "                if(j>=1000):\n",
    "                    break\n",
    "                else:\n",
    "                    t[k][i][j]=Y1[k][i][j]\n",
    " \n",
    "\n",
    " # making it with the same length  Y1               "
   ]
  },
  {
   "cell_type": "code",
   "execution_count": 121,
   "metadata": {},
   "outputs": [],
   "source": [
    "Y1=t"
   ]
  },
  {
   "cell_type": "code",
   "execution_count": 122,
   "metadata": {},
   "outputs": [
    {
     "data": {
      "text/plain": [
       "(20394, 5, 1000)"
      ]
     },
     "execution_count": 122,
     "metadata": {},
     "output_type": "execute_result"
    }
   ],
   "source": [
    "np.shape(Y2)\n"
   ]
  },
  {
   "cell_type": "code",
   "execution_count": 123,
   "metadata": {},
   "outputs": [],
   "source": [
    "X1= np.reshape(X1,(len(X1),5,3000))\n",
    "X2= np.reshape(X2,(len(X2),5,3000))\n",
    "\n",
    "# reshaping for the model\n",
    "#"
   ]
  },
  {
   "cell_type": "code",
   "execution_count": 124,
   "metadata": {},
   "outputs": [],
   "source": [
    "Y2= np.reshape(Y2,(len(Y2),5000))\n",
    "Y1= np.reshape(Y1,(len(Y1),5000))\n",
    "# reshaping fOr the model                "
   ]
  },
  {
   "cell_type": "code",
   "execution_count": 125,
   "metadata": {},
   "outputs": [
    {
     "data": {
      "text/plain": [
       "(30595, 5000)"
      ]
     },
     "execution_count": 125,
     "metadata": {},
     "output_type": "execute_result"
    }
   ],
   "source": [
    "np.shape(Y1)"
   ]
  },
  {
   "cell_type": "code",
   "execution_count": 126,
   "metadata": {},
   "outputs": [],
   "source": [
    "X1=np.float32(X1)\n",
    "X2=np.float32(X2)\n",
    "Y2=np.float32(Y2)\n",
    "\n",
    "Y1=np.float32(Y1)\n",
    "\n",
    "# fiting problem solving, cuz the tensor flow couldnt solve it"
   ]
  },
  {
   "cell_type": "code",
   "execution_count": 127,
   "metadata": {
    "scrolled": false
   },
   "outputs": [
    {
     "name": "stdout",
     "output_type": "stream",
     "text": [
      "Epoch 1/10\n",
      "957/957 [==============================] - 23s 23ms/step - loss: 0.0218 - mse: 0.0218 - val_loss: 0.0115 - val_mse: 0.0115\n",
      "Epoch 2/10\n",
      "957/957 [==============================] - 23s 24ms/step - loss: 0.0128 - mse: 0.0128 - val_loss: 0.0116 - val_mse: 0.0116\n",
      "Epoch 3/10\n",
      "957/957 [==============================] - 23s 24ms/step - loss: 0.0128 - mse: 0.0128 - val_loss: 0.0116 - val_mse: 0.0116\n",
      "Epoch 4/10\n",
      "957/957 [==============================] - 22s 23ms/step - loss: 0.0128 - mse: 0.0128 - val_loss: 0.0117 - val_mse: 0.0117\n",
      "Epoch 5/10\n",
      "957/957 [==============================] - 23s 24ms/step - loss: 0.0128 - mse: 0.0128 - val_loss: 0.0118 - val_mse: 0.0118\n",
      "Epoch 6/10\n",
      "957/957 [==============================] - 23s 24ms/step - loss: 0.0128 - mse: 0.0128 - val_loss: 0.0119 - val_mse: 0.0119\n",
      "Epoch 7/10\n",
      "957/957 [==============================] - 23s 24ms/step - loss: 0.0128 - mse: 0.0128 - val_loss: 0.0111 - val_mse: 0.0111\n",
      "Epoch 8/10\n",
      "957/957 [==============================] - 25s 26ms/step - loss: 0.0128 - mse: 0.0128 - val_loss: 0.0114 - val_mse: 0.0114\n",
      "Epoch 9/10\n",
      "957/957 [==============================] - 23s 24ms/step - loss: 0.0128 - mse: 0.0128 - val_loss: 0.0118 - val_mse: 0.0118\n",
      "Epoch 10/10\n",
      "957/957 [==============================] - 25s 26ms/step - loss: 0.0128 - mse: 0.0128 - val_loss: 0.0114 - val_mse: 0.0114\n"
     ]
    },
    {
     "data": {
      "text/plain": [
       "<keras.callbacks.History at 0x1c56df56c10>"
      ]
     },
     "execution_count": 127,
     "metadata": {},
     "output_type": "execute_result"
    }
   ],
   "source": [
    "model.fit(X1,Y1,epochs=10,batch_size=32,validation_data=(X2,Y2))"
   ]
  },
  {
   "cell_type": "code",
   "execution_count": 38,
   "metadata": {},
   "outputs": [],
   "source": [
    "model.save(\"model1.h5\")"
   ]
  },
  {
   "cell_type": "code",
   "execution_count": 95,
   "metadata": {},
   "outputs": [],
   "source": [
    "model1=load_model(\"model1.h5\")"
   ]
  },
  {
   "cell_type": "code",
   "execution_count": 96,
   "metadata": {},
   "outputs": [
    {
     "name": "stdout",
     "output_type": "stream",
     "text": [
      "Model: \"sequential\"\n",
      "_________________________________________________________________\n",
      " Layer (type)                Output Shape              Param #   \n",
      "=================================================================\n",
      " lstm (LSTM)                 (None, 64)                784640    \n",
      "                                                                 \n",
      " dense (Dense)               (None, 5000)              325000    \n",
      "                                                                 \n",
      "=================================================================\n",
      "Total params: 1,109,640\n",
      "Trainable params: 1,109,640\n",
      "Non-trainable params: 0\n",
      "_________________________________________________________________\n"
     ]
    }
   ],
   "source": [
    "model1.summary()"
   ]
  },
  {
   "cell_type": "code",
   "execution_count": 128,
   "metadata": {},
   "outputs": [
    {
     "name": "stdout",
     "output_type": "stream",
     "text": [
      "1/1 [==============================] - 0s 277ms/step\n"
     ]
    },
    {
     "data": {
      "text/plain": [
       "[<matplotlib.lines.Line2D at 0x1c4e2ae5350>]"
      ]
     },
     "execution_count": 128,
     "metadata": {},
     "output_type": "execute_result"
    },
    {
     "data": {
      "image/png": "[encoded data removed]",
      "text/plain": [
       "<Figure size 640x480 with 1 Axes>"
      ]
     },
     "metadata": {},
     "output_type": "display_data"
    }
   ],
   "source": [
    "x=model1.predict(X1[1:2])\n",
    "xx=np.reshape(x,(5,1000))\n",
    "plt.plot(xx[2])\n",
    "\n",
    "x=Y1[1:2]\n",
    "xx=np.reshape(x,(5,1000))\n",
    "plt.plot(xx[2])\n"
   ]
  },
  {
   "cell_type": "code",
   "execution_count": 8,
   "metadata": {},
   "outputs": [],
   "source": [
    "XRF=df.drop([\"SOC\"],axis=1)\n",
    "XRF\n",
    "yRF=df[\"SOC\"]"
   ]
  },
  {
   "cell_type": "code",
   "execution_count": 9,
   "metadata": {},
   "outputs": [
    {
     "data": {
      "text/html": [
       "<div>\n",
       "<style scoped>\n",
       "    .dataframe tbody tr th:only-of-type {\n",
       "        vertical-align: middle;\n",
       "    }\n",
       "\n",
       "    .dataframe tbody tr th {\n",
       "        vertical-align: top;\n",
       "    }\n",
       "\n",
       "    .dataframe thead th {\n",
       "        text-align: right;\n",
       "    }\n",
       "</style>\n",
       "<table border=\"1\" class=\"dataframe\">\n",
       "  <thead>\n",
       "    <tr style=\"text-align: right;\">\n",
       "      <th></th>\n",
       "      <th>I</th>\n",
       "      <th>T</th>\n",
       "      <th>V</th>\n",
       "    </tr>\n",
       "  </thead>\n",
       "  <tbody>\n",
       "    <tr>\n",
       "      <th>b1c0_cycle_0</th>\n",
       "      <td>[0.5427585909090908, 0.8486348909090908, 1.200...</td>\n",
       "      <td>[32.08330214381175, 32.08285388769033, 32.0824...</td>\n",
       "      <td>[2.1232638, 2.151546, 2.1923985, 2.2395129, 2....</td>\n",
       "    </tr>\n",
       "    <tr>\n",
       "      <th>b1c0_cycle_1</th>\n",
       "      <td>[0.39175900909090905, 0.7491510545454545, 1.04...</td>\n",
       "      <td>[32.095115420451435, 32.09553350772601, 32.095...</td>\n",
       "      <td>[2.1120076, 2.1413512, 2.1740165, 2.2118678, 2...</td>\n",
       "    </tr>\n",
       "    <tr>\n",
       "      <th>b1c0_cycle_2</th>\n",
       "      <td>[0.5479257727272726, 0.7937517999999999, 1.098...</td>\n",
       "      <td>[32.100925, 32.100489412344736, 32.10002811787...</td>\n",
       "      <td>[2.1213861, 2.1444716, 2.1782861, 2.2177253, 2...</td>\n",
       "    </tr>\n",
       "    <tr>\n",
       "      <th>b1c0_cycle_3</th>\n",
       "      <td>[0.39319471818181817, 0.648456918181818, 0.948...</td>\n",
       "      <td>[32.213660487082265, 32.21347621404638, 32.213...</td>\n",
       "      <td>[2.1124139, 2.1327176, 2.1629434, 2.1995873, 2...</td>\n",
       "    </tr>\n",
       "    <tr>\n",
       "      <th>b1c0_cycle_4</th>\n",
       "      <td>[0.4450329909090909, 0.6991507818181818, 1.101...</td>\n",
       "      <td>[32.13458411412274, 32.134207367490596, 32.133...</td>\n",
       "      <td>[2.1151195, 2.1360803, 2.1796918, 2.2119021, 2...</td>\n",
       "    </tr>\n",
       "    <tr>\n",
       "      <th>...</th>\n",
       "      <td>...</td>\n",
       "      <td>...</td>\n",
       "      <td>...</td>\n",
       "    </tr>\n",
       "    <tr>\n",
       "      <th>b1c45_cycle_1795</th>\n",
       "      <td>[0.2578388545454545, 0.4775515454545454, 0.610...</td>\n",
       "      <td>[34.555432606726335, 34.55582969907784, 34.556...</td>\n",
       "      <td>[2.0948563, 2.1100092, 2.1218052, 2.1350965, 2...</td>\n",
       "    </tr>\n",
       "    <tr>\n",
       "      <th>b1c45_cycle_1796</th>\n",
       "      <td>[0.2599854909090909, 0.478637, 0.6105561727272...</td>\n",
       "      <td>[31.620354294561555, 31.619811574231527, 31.61...</td>\n",
       "      <td>[2.0842285, 2.0998735, 2.1117344, 2.1302576, 2...</td>\n",
       "    </tr>\n",
       "    <tr>\n",
       "      <th>b1c45_cycle_1797</th>\n",
       "      <td>[0.2594687727272727, 0.47793648181818177, 0.61...</td>\n",
       "      <td>[33.99753668179203, 33.99755672046856, 33.9975...</td>\n",
       "      <td>[2.0886335, 2.1039343, 2.1157856, 2.1292858, 2...</td>\n",
       "    </tr>\n",
       "    <tr>\n",
       "      <th>b1c45_cycle_1798</th>\n",
       "      <td>[0.2554217272727272, 0.4325623909090909, 0.609...</td>\n",
       "      <td>[32.40957192369549, 32.409422612986646, 32.409...</td>\n",
       "      <td>[2.0888691, 2.1011848, 2.1166267, 2.130477, 2....</td>\n",
       "    </tr>\n",
       "    <tr>\n",
       "      <th>b1c45_cycle_1799</th>\n",
       "      <td>[0.30231129090909087, 0.4792230818181818, 0.61...</td>\n",
       "      <td>[33.73802749650025, 33.73738159286902, 33.7369...</td>\n",
       "      <td>[2.0901213, 2.1028252, 2.1146011, 2.1327438, 2...</td>\n",
       "    </tr>\n",
       "  </tbody>\n",
       "</table>\n",
       "<p>51007 rows × 3 columns</p>\n",
       "</div>"
      ],
      "text/plain": [
       "                                                                  I  \\\n",
       "b1c0_cycle_0      [0.5427585909090908, 0.8486348909090908, 1.200...   \n",
       "b1c0_cycle_1      [0.39175900909090905, 0.7491510545454545, 1.04...   \n",
       "b1c0_cycle_2      [0.5479257727272726, 0.7937517999999999, 1.098...   \n",
       "b1c0_cycle_3      [0.39319471818181817, 0.648456918181818, 0.948...   \n",
       "b1c0_cycle_4      [0.4450329909090909, 0.6991507818181818, 1.101...   \n",
       "...                                                             ...   \n",
       "b1c45_cycle_1795  [0.2578388545454545, 0.4775515454545454, 0.610...   \n",
       "b1c45_cycle_1796  [0.2599854909090909, 0.478637, 0.6105561727272...   \n",
       "b1c45_cycle_1797  [0.2594687727272727, 0.47793648181818177, 0.61...   \n",
       "b1c45_cycle_1798  [0.2554217272727272, 0.4325623909090909, 0.609...   \n",
       "b1c45_cycle_1799  [0.30231129090909087, 0.4792230818181818, 0.61...   \n",
       "\n",
       "                                                                  T  \\\n",
       "b1c0_cycle_0      [32.08330214381175, 32.08285388769033, 32.0824...   \n",
       "b1c0_cycle_1      [32.095115420451435, 32.09553350772601, 32.095...   \n",
       "b1c0_cycle_2      [32.100925, 32.100489412344736, 32.10002811787...   \n",
       "b1c0_cycle_3      [32.213660487082265, 32.21347621404638, 32.213...   \n",
       "b1c0_cycle_4      [32.13458411412274, 32.134207367490596, 32.133...   \n",
       "...                                                             ...   \n",
       "b1c45_cycle_1795  [34.555432606726335, 34.55582969907784, 34.556...   \n",
       "b1c45_cycle_1796  [31.620354294561555, 31.619811574231527, 31.61...   \n",
       "b1c45_cycle_1797  [33.99753668179203, 33.99755672046856, 33.9975...   \n",
       "b1c45_cycle_1798  [32.40957192369549, 32.409422612986646, 32.409...   \n",
       "b1c45_cycle_1799  [33.73802749650025, 33.73738159286902, 33.7369...   \n",
       "\n",
       "                                                                  V  \n",
       "b1c0_cycle_0      [2.1232638, 2.151546, 2.1923985, 2.2395129, 2....  \n",
       "b1c0_cycle_1      [2.1120076, 2.1413512, 2.1740165, 2.2118678, 2...  \n",
       "b1c0_cycle_2      [2.1213861, 2.1444716, 2.1782861, 2.2177253, 2...  \n",
       "b1c0_cycle_3      [2.1124139, 2.1327176, 2.1629434, 2.1995873, 2...  \n",
       "b1c0_cycle_4      [2.1151195, 2.1360803, 2.1796918, 2.2119021, 2...  \n",
       "...                                                             ...  \n",
       "b1c45_cycle_1795  [2.0948563, 2.1100092, 2.1218052, 2.1350965, 2...  \n",
       "b1c45_cycle_1796  [2.0842285, 2.0998735, 2.1117344, 2.1302576, 2...  \n",
       "b1c45_cycle_1797  [2.0886335, 2.1039343, 2.1157856, 2.1292858, 2...  \n",
       "b1c45_cycle_1798  [2.0888691, 2.1011848, 2.1166267, 2.130477, 2....  \n",
       "b1c45_cycle_1799  [2.0901213, 2.1028252, 2.1146011, 2.1327438, 2...  \n",
       "\n",
       "[51007 rows x 3 columns]"
      ]
     },
     "execution_count": 9,
     "metadata": {},
     "output_type": "execute_result"
    }
   ],
   "source": [
    "XRF"
   ]
  },
  {
   "cell_type": "code",
   "execution_count": 10,
   "metadata": {},
   "outputs": [],
   "source": [
    "# Spliting data trainin, testing\n",
    "\n",
    "XRF_train, XRF_test, yRF_train, yRF_test = train_test_split(XRF, yRF, test_size = 0.2, shuffle=False)"
   ]
  },
  {
   "cell_type": "code",
   "execution_count": 11,
   "metadata": {},
   "outputs": [
    {
     "name": "stdout",
     "output_type": "stream",
     "text": [
      "(40805, 3) (10202, 3) (40805,) (10202,)\n"
     ]
    }
   ],
   "source": [
    "print(XRF_train.shape, XRF_test.shape, yRF_train.shape, yRF_test.shape)"
   ]
  },
  {
   "cell_type": "code",
   "execution_count": 12,
   "metadata": {},
   "outputs": [],
   "source": [
    "from sklearn.ensemble import RandomForestRegressor"
   ]
  },
  {
   "cell_type": "code",
   "execution_count": 13,
   "metadata": {},
   "outputs": [],
   "source": [
    "modelRF = RandomForestRegressor(n_estimators=100,random_state=42)"
   ]
  },
  {
   "cell_type": "code",
   "execution_count": 14,
   "metadata": {},
   "outputs": [],
   "source": [
    "XRF1=np.array(XRF_train)\n",
    "YRF1=np.array(yRF_train)\n",
    "XRF2=np.array(XRF_test)\n",
    "YRF2=np.array(yRF_test)\n"
   ]
  },
  {
   "cell_type": "code",
   "execution_count": 15,
   "metadata": {},
   "outputs": [
    {
     "data": {
      "text/plain": [
       "(40805,)"
      ]
     },
     "execution_count": 15,
     "metadata": {},
     "output_type": "execute_result"
    }
   ],
   "source": [
    "np.shape(YRF1)"
   ]
  },
  {
   "cell_type": "code",
   "execution_count": 16,
   "metadata": {},
   "outputs": [],
   "source": [
    "t=np.zeros((len(XRF1),3,1000))\n",
    "for k in range(len(XRF1)):\n",
    "        for x in range(3):\n",
    "            for j in range(len(XRF1[k][x])):\n",
    "                if(j>=1000):\n",
    "                    break\n",
    "                else:\n",
    "                    t[k][x][j]=XRF1[k][x][j]"
   ]
  },
  {
   "cell_type": "code",
   "execution_count": 17,
   "metadata": {},
   "outputs": [],
   "source": [
    "XRF1=t"
   ]
  },
  {
   "cell_type": "code",
   "execution_count": 18,
   "metadata": {},
   "outputs": [],
   "source": [
    "t=np.zeros((len(XRF2),3,1000))\n",
    "for k in range(len(XRF2)):\n",
    "        for x in range(3):\n",
    "            for j in range(len(XRF2[k][x])):\n",
    "                if(j>=1000):\n",
    "                    break\n",
    "                else:\n",
    "                    t[k][x][j]=XRF2[k][x][j]"
   ]
  },
  {
   "cell_type": "code",
   "execution_count": 19,
   "metadata": {},
   "outputs": [],
   "source": [
    "XRF2=t"
   ]
  },
  {
   "cell_type": "code",
   "execution_count": 20,
   "metadata": {},
   "outputs": [],
   "source": [
    "t=np.zeros((len(YRF1),1000))\n",
    "for k in range(len(YRF1)):\n",
    "            for j in range(len(YRF1[k])):\n",
    "                if(j>=1000):\n",
    "                    break\n",
    "                else:\n",
    "                    t[k][j]=YRF1[k][j]"
   ]
  },
  {
   "cell_type": "code",
   "execution_count": 21,
   "metadata": {},
   "outputs": [],
   "source": [
    "YRF1=t"
   ]
  },
  {
   "cell_type": "code",
   "execution_count": 22,
   "metadata": {},
   "outputs": [],
   "source": [
    "t=np.zeros((len(YRF2),1000))\n",
    "for k in range(len(YRF2)):\n",
    "            for j in range(len(YRF2[k])):\n",
    "                if(j>=1000):\n",
    "                    break\n",
    "                else:\n",
    "                    t[k][j]=YRF2[k][j]"
   ]
  },
  {
   "cell_type": "code",
   "execution_count": 23,
   "metadata": {},
   "outputs": [],
   "source": [
    "YRF2 = t"
   ]
  },
  {
   "cell_type": "code",
   "execution_count": 24,
   "metadata": {},
   "outputs": [
    {
     "data": {
      "text/plain": [
       "(10202, 3, 1000)"
      ]
     },
     "execution_count": 24,
     "metadata": {},
     "output_type": "execute_result"
    }
   ],
   "source": [
    "np.shape(XRF2)"
   ]
  },
  {
   "cell_type": "code",
   "execution_count": 25,
   "metadata": {},
   "outputs": [],
   "source": [
    "XRF1= np.reshape(XRF1,(len(XRF1),3*1000))\n",
    "XRF2= np.reshape(XRF2,(len(XRF2),3*1000))"
   ]
  },
  {
   "cell_type": "code",
   "execution_count": 26,
   "metadata": {},
   "outputs": [],
   "source": [
    "YRF2= np.reshape(YRF2,(len(YRF2),1000))\n",
    "YRF1= np.reshape(YRF1,(len(YRF1),1000))"
   ]
  },
  {
   "cell_type": "code",
   "execution_count": 27,
   "metadata": {},
   "outputs": [
    {
     "data": {
      "text/plain": [
       "(40805, 1000)"
      ]
     },
     "execution_count": 27,
     "metadata": {},
     "output_type": "execute_result"
    }
   ],
   "source": [
    "np.shape(YRF1)"
   ]
  },
  {
   "cell_type": "code",
   "execution_count": 28,
   "metadata": {},
   "outputs": [
    {
     "name": "stdout",
     "output_type": "stream",
     "text": [
      "Epoch 1/20\n",
      "1276/1276 [==============================] - 13s 10ms/step - loss: 38.6468 - val_loss: 22.2899\n",
      "Epoch 2/20\n",
      "1276/1276 [==============================] - 13s 10ms/step - loss: 22.1756 - val_loss: 18.9601\n",
      "Epoch 3/20\n",
      "1276/1276 [==============================] - 12s 9ms/step - loss: 19.5397 - val_loss: 17.5072\n",
      "Epoch 4/20\n",
      "1276/1276 [==============================] - 12s 10ms/step - loss: 18.0598 - val_loss: 16.2194\n",
      "Epoch 5/20\n",
      "1276/1276 [==============================] - 12s 10ms/step - loss: 16.5450 - val_loss: 14.6098\n",
      "Epoch 6/20\n",
      "1276/1276 [==============================] - 13s 10ms/step - loss: 15.4654 - val_loss: 14.2520\n",
      "Epoch 7/20\n",
      "1276/1276 [==============================] - 13s 10ms/step - loss: 14.9528 - val_loss: 13.4767\n",
      "Epoch 8/20\n",
      "1276/1276 [==============================] - 12s 10ms/step - loss: 14.0454 - val_loss: 12.5400\n",
      "Epoch 9/20\n",
      "1276/1276 [==============================] - 13s 10ms/step - loss: 13.2277 - val_loss: 11.7271\n",
      "Epoch 10/20\n",
      "1276/1276 [==============================] - 13s 10ms/step - loss: 12.3044 - val_loss: 10.9233\n",
      "Epoch 11/20\n",
      "1276/1276 [==============================] - 13s 10ms/step - loss: 11.8610 - val_loss: 10.9626\n",
      "Epoch 12/20\n",
      "1276/1276 [==============================] - 13s 10ms/step - loss: 11.8421 - val_loss: 11.0455\n",
      "Epoch 13/20\n",
      "1276/1276 [==============================] - 12s 9ms/step - loss: 11.7859 - val_loss: 10.5815\n",
      "Epoch 14/20\n",
      "1276/1276 [==============================] - 11s 9ms/step - loss: 11.3563 - val_loss: 10.4973\n",
      "Epoch 15/20\n",
      "1276/1276 [==============================] - 12s 9ms/step - loss: 11.0465 - val_loss: 9.9061\n",
      "Epoch 16/20\n",
      "1276/1276 [==============================] - 12s 9ms/step - loss: 10.5070 - val_loss: 9.5361\n",
      "Epoch 17/20\n",
      "1276/1276 [==============================] - 11s 9ms/step - loss: 10.1509 - val_loss: 8.9761\n",
      "Epoch 18/20\n",
      "1276/1276 [==============================] - 11s 9ms/step - loss: 9.8918 - val_loss: 8.9854\n",
      "Epoch 19/20\n",
      "1276/1276 [==============================] - 12s 9ms/step - loss: 9.8939 - val_loss: 8.9377\n",
      "Epoch 20/20\n",
      "1276/1276 [==============================] - 11s 9ms/step - loss: 9.8700 - val_loss: 8.9674\n"
     ]
    },
    {
     "data": {
      "text/plain": [
       "<keras.callbacks.History at 0x1e4b75d9dc0>"
      ]
     },
     "execution_count": 28,
     "metadata": {},
     "output_type": "execute_result"
    }
   ],
   "source": [
    "import tensorflow as tf\n",
    "from keras.layers import Input, Dense, Reshape, Flatten,Dropout\n",
    "from keras.models import Model\n",
    "from tensorflow.keras.callbacks import EarlyStopping\n",
    "\n",
    "input_shape = (3000,)\n",
    "hidden_size1 = 256\n",
    "hidden_size2 = 128\n",
    "hidden_size3 = 64\n",
    "code_size = 32\n",
    "\n",
    "input_layer = Input(shape=(input_shape))\n",
    "hidden_layer_1 = Dense(hidden_size1, activation='relu')(input_layer)\n",
    "hidden_layer_2 = Dense(hidden_size2, activation='relu')(hidden_layer_1)\n",
    "hidden_layer_3 = Dense(hidden_size3, activation='relu')(hidden_layer_2)\n",
    "bottleneck_layer = Dense(code_size, activation='linear')(hidden_layer_3)\n",
    "\n",
    "# Define the decoder network\n",
    "hidden_layer_5 = Dense(hidden_size3, activation='relu')(bottleneck_layer)\n",
    "hidden_layer_6 = Dense(hidden_size2, activation='relu')(hidden_layer_5)\n",
    "hidden_layer_7 = Dense(hidden_size1, activation='relu')(hidden_layer_6)\n",
    "output_layer = Dense(3000, activation='linear')(hidden_layer_7) #relu\n",
    "\n",
    "autoencoder = Model(input_layer, output_layer)\n",
    "opt = tf.keras.optimizers.Adam(learning_rate=0.01)\n",
    "autoencoder.compile(optimizer=\"adam\", loss='mse')\n",
    "\n",
    "early_stopping = EarlyStopping(monitor='val_loss', patience=5, mode='min')\n",
    "\n",
    "\n",
    "\n",
    "autoencoder.fit(XRF1, XRF1, epochs=20,batch_size=32,\n",
    "                validation_data=(XRF2, XRF2),\n",
    "                callbacks=[early_stopping]\n",
    "              )"
   ]
  },
  {
   "cell_type": "code",
   "execution_count": 29,
   "metadata": {},
   "outputs": [],
   "source": [
    "encoderx = Model(input_layer, bottleneck_layer)\n",
    "encoderx.compile(optimizer='adam', loss='mse')"
   ]
  },
  {
   "cell_type": "code",
   "execution_count": 30,
   "metadata": {},
   "outputs": [
    {
     "name": "stdout",
     "output_type": "stream",
     "text": [
      "1276/1276 [==============================] - 1s 1ms/step\n",
      "319/319 [==============================] - 0s 1ms/step\n"
     ]
    }
   ],
   "source": [
    "X11=encoderx.predict(XRF1)\n",
    "X22=encoderx.predict(XRF2)"
   ]
  },
  {
   "cell_type": "code",
   "execution_count": 31,
   "metadata": {},
   "outputs": [
    {
     "name": "stdout",
     "output_type": "stream",
     "text": [
      "(40805, 32) (10202, 32)\n"
     ]
    }
   ],
   "source": [
    "print(X11.shape,X22.shape)"
   ]
  },
  {
   "cell_type": "code",
   "execution_count": 33,
   "metadata": {},
   "outputs": [
    {
     "name": "stdout",
     "output_type": "stream",
     "text": [
      "Epoch 1/20\n",
      "1276/1276 [==============================] - 5s 4ms/step - loss: 0.0568 - val_loss: 0.0461\n",
      "Epoch 2/20\n",
      "1276/1276 [==============================] - 5s 4ms/step - loss: 0.0430 - val_loss: 0.0332\n",
      "Epoch 3/20\n",
      "1276/1276 [==============================] - 5s 4ms/step - loss: 0.0289 - val_loss: 0.0251\n",
      "Epoch 4/20\n",
      "1276/1276 [==============================] - 5s 4ms/step - loss: 0.0243 - val_loss: 0.0188\n",
      "Epoch 5/20\n",
      "1276/1276 [==============================] - 4s 3ms/step - loss: 0.0124 - val_loss: 0.0082\n",
      "Epoch 6/20\n",
      "1276/1276 [==============================] - 4s 3ms/step - loss: 0.0079 - val_loss: 0.0061\n",
      "Epoch 7/20\n",
      "1276/1276 [==============================] - 5s 4ms/step - loss: 0.0055 - val_loss: 0.0041\n",
      "Epoch 8/20\n",
      "1276/1276 [==============================] - 5s 4ms/step - loss: 0.0042 - val_loss: 0.0037\n",
      "Epoch 9/20\n",
      "1276/1276 [==============================] - 5s 4ms/step - loss: 0.0039 - val_loss: 0.0038\n",
      "Epoch 10/20\n",
      "1276/1276 [==============================] - 4s 3ms/step - loss: 0.0038 - val_loss: 0.0036\n",
      "Epoch 11/20\n",
      "1276/1276 [==============================] - 4s 4ms/step - loss: 0.0038 - val_loss: 0.0035\n",
      "Epoch 12/20\n",
      "1276/1276 [==============================] - 5s 4ms/step - loss: 0.0038 - val_loss: 0.0036\n",
      "Epoch 13/20\n",
      "1276/1276 [==============================] - 5s 4ms/step - loss: 0.0037 - val_loss: 0.0035\n",
      "Epoch 14/20\n",
      "1276/1276 [==============================] - 5s 4ms/step - loss: 0.0037 - val_loss: 0.0035\n",
      "Epoch 15/20\n",
      "1276/1276 [==============================] - 4s 4ms/step - loss: 0.0037 - val_loss: 0.0035\n",
      "Epoch 16/20\n",
      "1276/1276 [==============================] - 5s 4ms/step - loss: 0.0037 - val_loss: 0.0035\n",
      "Epoch 17/20\n",
      "1276/1276 [==============================] - 5s 4ms/step - loss: 0.0037 - val_loss: 0.0035\n",
      "Epoch 18/20\n",
      "1276/1276 [==============================] - 5s 4ms/step - loss: 0.0037 - val_loss: 0.0034\n",
      "Epoch 19/20\n",
      "1276/1276 [==============================] - 5s 4ms/step - loss: 0.0037 - val_loss: 0.0035\n",
      "Epoch 20/20\n",
      "1276/1276 [==============================] - 5s 4ms/step - loss: 0.0036 - val_loss: 0.0034\n"
     ]
    },
    {
     "data": {
      "text/plain": [
       "<keras.callbacks.History at 0x1e47a5ea340>"
      ]
     },
     "execution_count": 33,
     "metadata": {},
     "output_type": "execute_result"
    }
   ],
   "source": [
    "input_shape = (1000,)\n",
    "hidden_size1 = 256\n",
    "hidden_size2 = 128\n",
    "hidden_size3 = 64\n",
    "code_size = 32\n",
    "\n",
    "input_layer1 = Input(shape=(input_shape))\n",
    "hidden_layer_11 = Dense(hidden_size1, activation='relu')(input_layer1)\n",
    "hidden_layer_22 = Dense(hidden_size2, activation='relu')(hidden_layer_11)\n",
    "hidden_layer_33 = Dense(hidden_size3, activation='relu')(hidden_layer_22)\n",
    "bottleneck_layer1 = Dense(code_size, activation='linear')(hidden_layer_33)\n",
    "\n",
    "# Define the decoder network\n",
    "hidden_layer_55 = Dense(hidden_size3, activation='relu')(bottleneck_layer1)\n",
    "hidden_layer_66 = Dense(hidden_size2, activation='relu')(hidden_layer_55)\n",
    "hidden_layer_77 = Dense(hidden_size1, activation='relu')(hidden_layer_66)\n",
    "output_layer1 = Dense(1000, activation='relu')(hidden_layer_77)\n",
    "\n",
    "autoencoder = Model(input_layer1, output_layer1)\n",
    "opt = tf.keras.optimizers.Adam(learning_rate=0.01)\n",
    "autoencoder.compile(optimizer=\"adam\", loss='mse')\n",
    "\n",
    "early_stopping = EarlyStopping(monitor='val_loss', patience=5, mode='min')\n",
    "\n",
    "\n",
    "\n",
    "autoencoder.fit(YRF1, YRF1, epochs=20,batch_size=32,\n",
    "                validation_data=(YRF2, YRF2),\n",
    "                callbacks=[early_stopping]\n",
    "              )"
   ]
  },
  {
   "cell_type": "code",
   "execution_count": 41,
   "metadata": {},
   "outputs": [
    {
     "name": "stdout",
     "output_type": "stream",
     "text": [
      "1276/1276 [==============================] - 1s 883us/step\n",
      "319/319 [==============================] - 0s 878us/step\n"
     ]
    }
   ],
   "source": [
    "encodery = Model(input_layer1, bottleneck_layer1)\n",
    "encodery.compile(optimizer='adam', loss='mse')\n",
    "decoderY=Model(bottleneck_layer1,output_layer1)\n",
    "decoderY.compile(optimizer='adam', loss='mse')\n",
    "Y11=encodery.predict(YRF1)\n",
    "Y22=encodery.predict(YRF2)"
   ]
  },
  {
   "cell_type": "code",
   "execution_count": 36,
   "metadata": {},
   "outputs": [
    {
     "data": {
      "text/plain": [
       "RandomForestRegressor(random_state=42)"
      ]
     },
     "execution_count": 36,
     "metadata": {},
     "output_type": "execute_result"
    }
   ],
   "source": [
    "modelRF.fit(X11,Y11)"
   ]
  },
  {
   "cell_type": "code",
   "execution_count": 38,
   "metadata": {},
   "outputs": [
    {
     "data": {
      "text/plain": [
       "0.7896609699536525"
      ]
     },
     "execution_count": 38,
     "metadata": {},
     "output_type": "execute_result"
    }
   ],
   "source": [
    "from sklearn.metrics import r2_score\n",
    "ypred=modelRF.predict(X22)\n",
    "mse=r2_score(Y22,ypred)\n",
    "mse"
   ]
  },
  {
   "cell_type": "markdown",
   "metadata": {},
   "source": []
  },
  {
   "cell_type": "code",
   "execution_count": 43,
   "metadata": {},
   "outputs": [
    {
     "name": "stdout",
     "output_type": "stream",
     "text": [
      "319/319 [==============================] - 0s 931us/step\n"
     ]
    }
   ],
   "source": [
    "y=decoderY.predict(ypred)"
   ]
  },
  {
   "cell_type": "code",
   "execution_count": 44,
   "metadata": {},
   "outputs": [
    {
     "data": {
      "text/plain": [
       "(10202, 1000)"
      ]
     },
     "execution_count": 44,
     "metadata": {},
     "output_type": "execute_result"
    }
   ],
   "source": [
    "y.shape"
   ]
  },
  {
   "cell_type": "code",
   "execution_count": 46,
   "metadata": {},
   "outputs": [
    {
     "data": {
      "text/plain": [
       "[<matplotlib.lines.Line2D at 0x1e51e57c970>]"
      ]
     },
     "execution_count": 46,
     "metadata": {},
     "output_type": "execute_result"
    },
    {
     "data": {
      "image/png": "[encoded data removed]",
      "text/plain": [
       "<Figure size 640x480 with 1 Axes>"
      ]
     },
     "metadata": {},
     "output_type": "display_data"
    }
   ],
   "source": [
    "plt.plot(y[0])\n",
    "plt.plot(YRF2[0])"
   ]
  },
  {
   "cell_type": "code",
   "execution_count": null,
   "metadata": {},
   "outputs": [],
   "source": []
  }
 ],
 "metadata": {
  "accelerator": "GPU",
  "colab": {
   "provenance": [
    {
     "file_id": "1vJZN0_JcEJ_UHh0HU5Wz1vt6dLQqpRCJ",
     "timestamp": 1679811541251
    }
   ]
  },
  "gpuClass": "standard",
  "kernelspec": {
   "display_name": "Python 3 (ipykernel)",
   "language": "python",
   "name": "python3"
  },
  "language_info": {
   "codemirror_mode": {
    "name": "ipython",
    "version": 3
   },
   "file_extension": ".py",
   "mimetype": "text/x-python",
   "name": "python",
   "nbconvert_exporter": "python",
   "pygments_lexer": "ipython3",
   "version": "3.9.13"
  }
 },
 "nbformat": 4,
 "nbformat_minor": 1
}
