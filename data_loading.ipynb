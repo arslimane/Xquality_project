{
 "cells": [
  {
   "cell_type": "code",
   "execution_count": 1,
   "metadata": {
    "colab": {
     "base_uri": "https://localhost:8080/"
    },
    "id": "zIV102oSgLlX",
    "outputId": "1b23280a-9706-4ea1-e289-4bb736dd2d53"
   },
   "outputs": [
    {
     "name": "stdout",
     "output_type": "stream",
     "text": [
      "Requirement already satisfied: tensorflow in c:\\users\\sarbaoui01\\anaconda3\\lib\\site-packages (2.11.1)\n",
      "Requirement already satisfied: tensorflow-intel==2.11.1 in c:\\users\\sarbaoui01\\anaconda3\\lib\\site-packages (from tensorflow) (2.11.1)\n",
      "Requirement already satisfied: protobuf<3.20,>=3.9.2 in c:\\users\\sarbaoui01\\anaconda3\\lib\\site-packages (from tensorflow-intel==2.11.1->tensorflow) (3.19.6)\n",
      "Requirement already satisfied: flatbuffers>=2.0 in c:\\users\\sarbaoui01\\anaconda3\\lib\\site-packages (from tensorflow-intel==2.11.1->tensorflow) (23.3.3)\n",
      "Requirement already satisfied: tensorflow-estimator<2.12,>=2.11.0 in c:\\users\\sarbaoui01\\anaconda3\\lib\\site-packages (from tensorflow-intel==2.11.1->tensorflow) (2.11.0)\n",
      "Requirement already satisfied: packaging in c:\\users\\sarbaoui01\\anaconda3\\lib\\site-packages (from tensorflow-intel==2.11.1->tensorflow) (21.3)\n",
      "Requirement already satisfied: libclang>=13.0.0 in c:\\users\\sarbaoui01\\anaconda3\\lib\\site-packages (from tensorflow-intel==2.11.1->tensorflow) (15.0.6.1)\n",
      "Requirement already satisfied: h5py>=2.9.0 in c:\\users\\sarbaoui01\\anaconda3\\lib\\site-packages (from tensorflow-intel==2.11.1->tensorflow) (3.7.0)\n",
      "Requirement already satisfied: setuptools in c:\\users\\sarbaoui01\\anaconda3\\lib\\site-packages (from tensorflow-intel==2.11.1->tensorflow) (63.4.1)\n",
      "Requirement already satisfied: google-pasta>=0.1.1 in c:\\users\\sarbaoui01\\anaconda3\\lib\\site-packages (from tensorflow-intel==2.11.1->tensorflow) (0.2.0)\n",
      "Requirement already satisfied: wrapt>=1.11.0 in c:\\users\\sarbaoui01\\anaconda3\\lib\\site-packages (from tensorflow-intel==2.11.1->tensorflow) (1.12.1)\n",
      "Requirement already satisfied: keras<2.12,>=2.11.0 in c:\\users\\sarbaoui01\\anaconda3\\lib\\site-packages (from tensorflow-intel==2.11.1->tensorflow) (2.11.0)\n",
      "Requirement already satisfied: astunparse>=1.6.0 in c:\\users\\sarbaoui01\\anaconda3\\lib\\site-packages (from tensorflow-intel==2.11.1->tensorflow) (1.6.3)\n",
      "Requirement already satisfied: tensorboard<2.12,>=2.11 in c:\\users\\sarbaoui01\\anaconda3\\lib\\site-packages (from tensorflow-intel==2.11.1->tensorflow) (2.11.2)\n",
      "Requirement already satisfied: opt-einsum>=2.3.2 in c:\\users\\sarbaoui01\\anaconda3\\lib\\site-packages (from tensorflow-intel==2.11.1->tensorflow) (3.3.0)\n",
      "Requirement already satisfied: typing-extensions>=3.6.6 in c:\\users\\sarbaoui01\\anaconda3\\lib\\site-packages (from tensorflow-intel==2.11.1->tensorflow) (4.3.0)\n",
      "Requirement already satisfied: gast<=0.4.0,>=0.2.1 in c:\\users\\sarbaoui01\\anaconda3\\lib\\site-packages (from tensorflow-intel==2.11.1->tensorflow) (0.4.0)\n",
      "Requirement already satisfied: termcolor>=1.1.0 in c:\\users\\sarbaoui01\\anaconda3\\lib\\site-packages (from tensorflow-intel==2.11.1->tensorflow) (2.2.0)\n",
      "Requirement already satisfied: tensorflow-io-gcs-filesystem>=0.23.1 in c:\\users\\sarbaoui01\\anaconda3\\lib\\site-packages (from tensorflow-intel==2.11.1->tensorflow) (0.31.0)\n",
      "Requirement already satisfied: six>=1.12.0 in c:\\users\\sarbaoui01\\anaconda3\\lib\\site-packages (from tensorflow-intel==2.11.1->tensorflow) (1.16.0)\n",
      "Requirement already satisfied: numpy>=1.20 in c:\\users\\sarbaoui01\\anaconda3\\lib\\site-packages (from tensorflow-intel==2.11.1->tensorflow) (1.21.5)\n",
      "Requirement already satisfied: grpcio<2.0,>=1.24.3 in c:\\users\\sarbaoui01\\anaconda3\\lib\\site-packages (from tensorflow-intel==2.11.1->tensorflow) (1.51.3)\n",
      "Requirement already satisfied: absl-py>=1.0.0 in c:\\users\\sarbaoui01\\anaconda3\\lib\\site-packages (from tensorflow-intel==2.11.1->tensorflow) (1.4.0)\n",
      "Requirement already satisfied: wheel<1.0,>=0.23.0 in c:\\users\\sarbaoui01\\anaconda3\\lib\\site-packages (from astunparse>=1.6.0->tensorflow-intel==2.11.1->tensorflow) (0.37.1)\n",
      "Requirement already satisfied: tensorboard-plugin-wit>=1.6.0 in c:\\users\\sarbaoui01\\anaconda3\\lib\\site-packages (from tensorboard<2.12,>=2.11->tensorflow-intel==2.11.1->tensorflow) (1.8.1)\n",
      "Requirement already satisfied: google-auth-oauthlib<0.5,>=0.4.1 in c:\\users\\sarbaoui01\\anaconda3\\lib\\site-packages (from tensorboard<2.12,>=2.11->tensorflow-intel==2.11.1->tensorflow) (0.4.6)\n",
      "Requirement already satisfied: tensorboard-data-server<0.7.0,>=0.6.0 in c:\\users\\sarbaoui01\\anaconda3\\lib\\site-packages (from tensorboard<2.12,>=2.11->tensorflow-intel==2.11.1->tensorflow) (0.6.1)\n",
      "Requirement already satisfied: markdown>=2.6.8 in c:\\users\\sarbaoui01\\anaconda3\\lib\\site-packages (from tensorboard<2.12,>=2.11->tensorflow-intel==2.11.1->tensorflow) (3.3.4)\n",
      "Requirement already satisfied: werkzeug>=1.0.1 in c:\\users\\sarbaoui01\\anaconda3\\lib\\site-packages (from tensorboard<2.12,>=2.11->tensorflow-intel==2.11.1->tensorflow) (2.2.3)\n",
      "Requirement already satisfied: requests<3,>=2.21.0 in c:\\users\\sarbaoui01\\anaconda3\\lib\\site-packages (from tensorboard<2.12,>=2.11->tensorflow-intel==2.11.1->tensorflow) (2.28.1)\n",
      "Requirement already satisfied: google-auth<3,>=1.6.3 in c:\\users\\sarbaoui01\\anaconda3\\lib\\site-packages (from tensorboard<2.12,>=2.11->tensorflow-intel==2.11.1->tensorflow) (2.16.2)\n",
      "Requirement already satisfied: pyparsing!=3.0.5,>=2.0.2 in c:\\users\\sarbaoui01\\anaconda3\\lib\\site-packages (from packaging->tensorflow-intel==2.11.1->tensorflow) (3.0.9)\n",
      "Requirement already satisfied: rsa<5,>=3.1.4 in c:\\users\\sarbaoui01\\anaconda3\\lib\\site-packages (from google-auth<3,>=1.6.3->tensorboard<2.12,>=2.11->tensorflow-intel==2.11.1->tensorflow) (4.9)\n",
      "Requirement already satisfied: pyasn1-modules>=0.2.1 in c:\\users\\sarbaoui01\\anaconda3\\lib\\site-packages (from google-auth<3,>=1.6.3->tensorboard<2.12,>=2.11->tensorflow-intel==2.11.1->tensorflow) (0.2.8)\n",
      "Requirement already satisfied: cachetools<6.0,>=2.0.0 in c:\\users\\sarbaoui01\\anaconda3\\lib\\site-packages (from google-auth<3,>=1.6.3->tensorboard<2.12,>=2.11->tensorflow-intel==2.11.1->tensorflow) (5.3.0)\n",
      "Requirement already satisfied: requests-oauthlib>=0.7.0 in c:\\users\\sarbaoui01\\anaconda3\\lib\\site-packages (from google-auth-oauthlib<0.5,>=0.4.1->tensorboard<2.12,>=2.11->tensorflow-intel==2.11.1->tensorflow) (1.3.1)\n",
      "Requirement already satisfied: certifi>=2017.4.17 in c:\\users\\sarbaoui01\\anaconda3\\lib\\site-packages (from requests<3,>=2.21.0->tensorboard<2.12,>=2.11->tensorflow-intel==2.11.1->tensorflow) (2022.9.14)\n",
      "Requirement already satisfied: idna<4,>=2.5 in c:\\users\\sarbaoui01\\anaconda3\\lib\\site-packages (from requests<3,>=2.21.0->tensorboard<2.12,>=2.11->tensorflow-intel==2.11.1->tensorflow) (3.3)\n",
      "Requirement already satisfied: urllib3<1.27,>=1.21.1 in c:\\users\\sarbaoui01\\anaconda3\\lib\\site-packages (from requests<3,>=2.21.0->tensorboard<2.12,>=2.11->tensorflow-intel==2.11.1->tensorflow) (1.26.11)\n",
      "Requirement already satisfied: charset-normalizer<3,>=2 in c:\\users\\sarbaoui01\\anaconda3\\lib\\site-packages (from requests<3,>=2.21.0->tensorboard<2.12,>=2.11->tensorflow-intel==2.11.1->tensorflow) (2.0.4)\n",
      "Requirement already satisfied: MarkupSafe>=2.1.1 in c:\\users\\sarbaoui01\\anaconda3\\lib\\site-packages (from werkzeug>=1.0.1->tensorboard<2.12,>=2.11->tensorflow-intel==2.11.1->tensorflow) (2.1.2)\n",
      "Requirement already satisfied: pyasn1<0.5.0,>=0.4.6 in c:\\users\\sarbaoui01\\anaconda3\\lib\\site-packages (from pyasn1-modules>=0.2.1->google-auth<3,>=1.6.3->tensorboard<2.12,>=2.11->tensorflow-intel==2.11.1->tensorflow) (0.4.8)\n",
      "Requirement already satisfied: oauthlib>=3.0.0 in c:\\users\\sarbaoui01\\anaconda3\\lib\\site-packages (from requests-oauthlib>=0.7.0->google-auth-oauthlib<0.5,>=0.4.1->tensorboard<2.12,>=2.11->tensorflow-intel==2.11.1->tensorflow) (3.2.2)\n"
     ]
    }
   ],
   "source": [
    "!pip install tensorflow\n",
    "import pandas as pd\n",
    "import tensorflow as tf\n",
    "import numpy as np\n",
    "import os\n",
    "import scipy.io\n",
    "import h5py\n",
    "import tensorflow as tf\n",
    "from tensorflow import keras\n",
    "from tensorflow.keras.layers import Dense, LSTM\n",
    "from tensorflow.keras.models import Sequential\n",
    "from sklearn.model_selection import train_test_split\n",
    "from tensorflow.keras.preprocessing.sequence import TimeseriesGenerator\n",
    "from tensorflow.keras.layers import Flatten\n",
    "from tensorflow.keras.optimizers import Adam\n",
    "import tensorflow.keras.backend as K\n",
    "import pickle\n",
    "import matplotlib.pyplot as plt\n",
    "from scipy.interpolate import interp1d\n",
    "from IPython.display import clear_output\n"
   ]
  },
  {
   "cell_type": "markdown",
   "metadata": {
    "id": "knvFucQ6Y_1y"
   },
   "source": [
    "**Loading the data and creating pickle file using only one batch**\n"
   ]
  },
  {
   "cell_type": "code",
   "execution_count": 2,
   "metadata": {
    "id": "oPgwXTZ2HSv5"
   },
   "outputs": [],
   "source": [
    "def load_data(file_name,pickle_name):\n",
    "  f = h5py.File(file_name,\"r\")\n",
    "  print(list(f.keys()))\n",
    "  batch=f.get(\"batch\")\n",
    "  num_cells = batch['summary'].shape[0]\n",
    "  bat_dict = {}\n",
    "  for i in range(num_cells):\n",
    "    cl = f[batch['cycle_life'][i,0]][()] #ici on a remplacé \".value\" par \"[()]\", et dans toutes les lignes suivantes\n",
    "    policy = f[batch['policy_readable'][i,0]][()].tobytes()[::2].decode()\n",
    "    summary_IR = np.hstack(f[batch['summary'][i,0]]['IR'][0,:].tolist())\n",
    "    summary_QC = np.hstack(f[batch['summary'][i,0]]['QCharge'][0,:].tolist())\n",
    "    summary_QD = np.hstack(f[batch['summary'][i,0]]['QDischarge'][0,:].tolist())\n",
    "    summary_TA = np.hstack(f[batch['summary'][i,0]]['Tavg'][0,:].tolist())\n",
    "    summary_TM = np.hstack(f[batch['summary'][i,0]]['Tmin'][0,:].tolist())\n",
    "    summary_TX = np.hstack(f[batch['summary'][i,0]]['Tmax'][0,:].tolist())\n",
    "    summary_CT = np.hstack(f[batch['summary'][i,0]]['chargetime'][0,:].tolist())\n",
    "    summary_CY = np.hstack(f[batch['summary'][i,0]]['cycle'][0,:].tolist())\n",
    "    summary = ({'IR': summary_IR, #création d'un 1er dict avec les données \"résumées\", càd 1 donnée par cycle\n",
    "               'QC': summary_QC, \n",
    "               'QD': summary_QD, \n",
    "               'Tavg': summary_TA, \n",
    "               'Tmin': summary_TM, \n",
    "               'Tmax': summary_TX, \n",
    "               'chargetime': summary_CT,\n",
    "               'cycle': summary_CY}) \n",
    "    cycles = f[batch['cycles'][i,0]]\n",
    "    cycle_dict = {}\n",
    "    for j in range(cycles['I'].shape[0]):\n",
    "        I = np.hstack((f[cycles['I'][j,0]][()]))\n",
    "        Qc = np.hstack((f[cycles['Qc'][j,0]][()]))\n",
    "        Qd = np.hstack((f[cycles['Qd'][j,0]][()]))\n",
    "        Qdlin = np.hstack((f[cycles['Qdlin'][j,0]][()]))\n",
    "        T = np.hstack((f[cycles['T'][j,0]][()]))\n",
    "        Tdlin = np.hstack((f[cycles['Tdlin'][j,0]][()]))\n",
    "        V = np.hstack((f[cycles['V'][j,0]][()]))\n",
    "        dQdV = np.hstack((f[cycles['discharge_dQdV'][j,0]][()]))\n",
    "        t = np.hstack((f[cycles['t'][j,0]][()]))\n",
    "        cd = ({'I': I,  \n",
    "               'Qc': Qc, \n",
    "               'Qd': Qd, \n",
    "               'Qdlin': Qdlin, \n",
    "               'T': T, \n",
    "               'Tdlin': Tdlin, \n",
    "               'V':V, \n",
    "               'dQdV': dQdV, \n",
    "               't':t})\n",
    "        cycle_dict[str(j)] = cd\n",
    "        \n",
    "    cell_dict = ({'cycle_life': cl, \n",
    "                 'charge_policy':policy, \n",
    "                  'summary': summary, \n",
    "                  'cycles': cycle_dict})\n",
    "    key = 'b1c' + str(i)\n",
    "    bat_dict[key]=   cell_dict\n",
    "\n",
    "\n",
    "  df=pd.DataFrame(bat_dict)\n",
    "\n",
    "  with open(pickle_name,'wb') as fp:\n",
    "        pickle.dump(bat_dict,fp) \n",
    "  return df"
   ]
  },
  {
   "cell_type": "code",
   "execution_count": 3,
   "metadata": {
    "id": "6y7Vf9jIO5qA"
   },
   "outputs": [],
   "source": [
    "batch1 = pickle.load(open(r'C:\\Users\\sarbaoui01\\Desktop\\Batter_dataset\\batch1.pkl', 'rb'))\n",
    "#remove batteries that do not reach 80% capacity\n",
    "del batch1['b1c8']\n",
    "del batch1['b1c10']\n",
    "del batch1['b1c12']\n",
    "del batch1['b1c13']\n",
    "del batch1['b1c22']"
   ]
  },
  {
   "cell_type": "code",
   "execution_count": 4,
   "metadata": {
    "colab": {
     "base_uri": "https://localhost:8080/"
    },
    "id": "dTUpC6V7Pcmd",
    "outputId": "a6cc501a-26a4-4095-df49-7e7a3cd22cec"
   },
   "outputs": [
    {
     "data": {
      "text/plain": [
       "41"
      ]
     },
     "execution_count": 4,
     "metadata": {},
     "output_type": "execute_result"
    }
   ],
   "source": [
    "numBat1 = len(batch1.keys())\n",
    "numBat1"
   ]
  },
  {
   "cell_type": "code",
   "execution_count": 5,
   "metadata": {
    "id": "vVy3QUyILqeb"
   },
   "outputs": [],
   "source": [
    "batch2 = pickle.load(open(r'C:\\Users\\sarbaoui01\\Desktop\\Batter_dataset\\batch3.pkl','rb'))\n",
    "batch2_keys = ['b2c7', 'b2c8', 'b2c9', 'b2c15', 'b2c16']\n",
    "batch1_keys = ['b1c0', 'b1c1', 'b1c2', 'b1c3', 'b1c4']\n",
    "add_len = [662, 981, 1060, 208, 482];"
   ]
  },
  {
   "cell_type": "code",
   "execution_count": 6,
   "metadata": {
    "id": "bSUM3i_9L_5z"
   },
   "outputs": [
    {
     "data": {
      "text/plain": [
       "135"
      ]
     },
     "execution_count": 6,
     "metadata": {},
     "output_type": "execute_result"
    }
   ],
   "source": [
    "\n",
    "numBat2 = len(batch2.keys())\n",
    "numBat2\n",
    "batch3 = pickle.load(open(r'C:\\Users\\sarbaoui01\\Desktop\\Batter_dataset\\batch2.pkl','rb'))\n",
    "\n",
    "numBat3 = len(batch3.keys())\n",
    "numBat3\n",
    "numBat = numBat1 + numBat2 + numBat3\n",
    "numBat"
   ]
  },
  {
   "cell_type": "code",
   "execution_count": 7,
   "metadata": {
    "id": "vHqNGqK1QKoH"
   },
   "outputs": [],
   "source": [
    "bat_dict = {**batch1, **batch2, **batch3}"
   ]
  },
  {
   "cell_type": "code",
   "execution_count": 8,
   "metadata": {
    "id": "9Wp-J00RQOSB"
   },
   "outputs": [
    {
     "data": {
      "text/plain": [
       "Text(0, 0.5, 'Discharge Capacity (Ah)')"
      ]
     },
     "execution_count": 8,
     "metadata": {},
     "output_type": "execute_result"
    },
    {
     "data": {
      "image/png": "[encoded data removed]",
      "text/plain": [
       "<Figure size 640x480 with 1 Axes>"
      ]
     },
     "metadata": {},
     "output_type": "display_data"
    }
   ],
   "source": [
    "for i in bat_dict.keys():\n",
    "  plt.plot(bat_dict[i]['summary']['cycle'], bat_dict[i]['summary']['QD'])\n",
    "plt.xlabel('Cycle Number')\n",
    "plt.ylabel('Discharge Capacity (Ah)')"
   ]
  },
  {
   "cell_type": "code",
   "execution_count": 9,
   "metadata": {
    "id": "keYqrGoIQiI-"
   },
   "outputs": [],
   "source": [
    "bat_dict_keys = bat_dict.keys()"
   ]
  },
  {
   "cell_type": "code",
   "execution_count": 10,
   "metadata": {
    "id": "ZJcPCJzLUX2B"
   },
   "outputs": [
    {
     "data": {
      "text/plain": [
       "dict_keys(['b1c0', 'b1c1', 'b1c2', 'b1c3', 'b1c4', 'b1c5', 'b1c6', 'b1c7', 'b1c9', 'b1c11', 'b1c14', 'b1c15', 'b1c16', 'b1c17', 'b1c18', 'b1c19', 'b1c20', 'b1c21', 'b1c23', 'b1c24', 'b1c25', 'b1c26', 'b1c27', 'b1c28', 'b1c29', 'b1c30', 'b1c31', 'b1c32', 'b1c33', 'b1c34', 'b1c35', 'b1c36', 'b1c37', 'b1c38', 'b1c39', 'b1c40', 'b1c41', 'b1c42', 'b1c43', 'b1c44', 'b1c45', 'b1c8', 'b1c10', 'b1c12', 'b1c13', 'b1c22', 'b1c46', 'b1c47'])"
      ]
     },
     "execution_count": 10,
     "metadata": {},
     "output_type": "execute_result"
    }
   ],
   "source": [
    "bat_dict_keys"
   ]
  },
  {
   "cell_type": "code",
   "execution_count": 11,
   "metadata": {
    "id": "FoV9v0DtUetQ"
   },
   "outputs": [],
   "source": [
    "RUL = []\n",
    "\n",
    "for i in bat_dict_keys:\n",
    "  \n",
    "    cell = bat_dict[i]\n",
    "    cycle_life = int(cell['summary']['cycle'][-1])\n",
    "    for j in range(1,cycle_life):\n",
    "        RUL.append(cycle_life-j)"
   ]
  },
  {
   "cell_type": "code",
   "execution_count": 12,
   "metadata": {
    "id": "Ljepw2w_UhsL"
   },
   "outputs": [
    {
     "data": {
      "text/plain": [
       "52153"
      ]
     },
     "execution_count": 12,
     "metadata": {},
     "output_type": "execute_result"
    }
   ],
   "source": [
    "len(RUL)"
   ]
  },
  {
   "cell_type": "code",
   "execution_count": 13,
   "metadata": {
    "id": "QowyJQfAUnjd"
   },
   "outputs": [],
   "source": [
    "def linear_interpolation(x, y, start, end, x_lin):\n",
    "    x = x[start:end]\n",
    "    y = y[start:end]\n",
    "    f = interp1d(x,y)\n",
    "    datalin = f(x_lin)\n",
    "    datalin = smooth_curve(datalin)\n",
    "    \n",
    "    return(datalin)"
   ]
  },
  {
   "cell_type": "code",
   "execution_count": 14,
   "metadata": {
    "id": "EXz6RmnkUp8_"
   },
   "outputs": [],
   "source": [
    "def smooth_curve(points, factor=0.6):\n",
    "  smoothed_points = []\n",
    "  for point in points:\n",
    "    if smoothed_points:\n",
    "      previous = smoothed_points[-1]\n",
    "      smoothed_points.append(previous * factor + point * (1 - factor))\n",
    "    else:\n",
    "      smoothed_points.append(point)\n",
    "  return smoothed_points"
   ]
  },
  {
   "cell_type": "code",
   "execution_count": 15,
   "metadata": {
    "colab": {
     "base_uri": "https://localhost:8080/"
    },
    "id": "Q_FXZ-S0VBI_",
    "outputId": "d4cacb8b-6ffa-422a-8b30-89b3537e3081"
   },
   "outputs": [
    {
     "name": "stdout",
     "output_type": "stream",
     "text": [
      "cell: b1c47\n",
      "all cycles from batches 1, 2 and 3 were browsed\n"
     ]
    }
   ],
   "source": [
    "cycle_vector_features = (['Idlin', \n",
    "                          'Qdlin', \n",
    "                          'Tdlin', \n",
    "                          'dQdV'])\n",
    "Ic=[]\n",
    "Vc=[]\n",
    "Tc=[]\n",
    "Id=[]\n",
    "Vd=[]\n",
    "Td=[]\n",
    "charge_policy=[]\n",
    "\n",
    "cycle_scalar_features = (['IR', \n",
    "                          'Tavg', \n",
    "                          'Tmin', \n",
    "                          'Tmax', \n",
    "                          'QC', \n",
    "                          'QD', \n",
    "                          'SOH', \n",
    "                          'chargetime'])\n",
    "\n",
    "\n",
    "\n",
    " \n",
    "cycle_vector_dataset_arr = np.zeros((len(RUL), len(cycle_vector_features), 200)) \n",
    "\n",
    "cycle_scalar_dataset_arr = np.zeros((len(RUL), len(cycle_scalar_features))) \n",
    "\n",
    "cycle_dataset_arr = (np.empty((len(RUL), \n",
    "                               len(cycle_vector_features)+len(cycle_scalar_features), \n",
    "                               200))) \n",
    "cycle_dataset_arr[:] = np.NaN\n",
    "\n",
    "\n",
    "cycle_vector_dataset_dict = {} \n",
    "cycle_scalar_dataset_dict = {} \n",
    "global_dataset = {} \n",
    "\n",
    "s=0 \n",
    "for i in bat_dict_keys : \n",
    "    clear_output(wait=True)\n",
    "    cell = bat_dict[i]   \n",
    "    print('cell:', i) \n",
    "    cycle_life = len(cell['summary']['cycle'])\n",
    "    \n",
    "    for j in range(1,cycle_life):\n",
    "        \n",
    "       \n",
    "        \n",
    "        start_discharge = np.where(cell['cycles'][str(j)]['I'] < -0.05) \n",
    "        start_discharge = start_discharge[0][0]\n",
    "        \n",
    "        end_discharge = np.where(cell['cycles'][str(j)]['I'] < -3.9) \n",
    "        end_discharge = end_discharge[0][-1]\n",
    "        \n",
    "        start_charge = np.where(cell['cycles'][str(j)]['I'] > 0)\n",
    "        end_charge = start_charge[0][-1]\n",
    "       \n",
    "        start_charge = start_charge[0][0]\n",
    "        \n",
    "    \n",
    "        \n",
    "        \n",
    "        \n",
    "        Vmin = min(cell['cycles'][str(j)]['V'][start_discharge:end_discharge]) \n",
    "        Vmax = max(cell['cycles'][str(j)]['V'][start_discharge:end_discharge])\n",
    "        Id.append(cell['cycles'][str(j)]['I'][start_discharge:end_discharge])\n",
    "        Vd.append(cell['cycles'][str(j)]['V'][start_discharge:end_discharge])\n",
    "        Td.append(cell['cycles'][str(j)]['T'][start_discharge:end_discharge])\n",
    "        \n",
    "        Ic.append(cell['cycles'][str(j)]['I'][start_charge:end_charge])\n",
    "        Vc.append(cell['cycles'][str(j)]['V'][start_charge:end_charge])\n",
    "        Tc.append(cell['cycles'][str(j)]['T'][start_charge:end_charge])\n",
    "        charge_policy.append(cell['charge_policy'])\n",
    "        x_discharge = np.linspace(Vmax,Vmin,200) \n",
    "            \n",
    "          \n",
    "        Idlin = linear_interpolation(cell['cycles'][str(j)]['V'], cell['cycles'][str(j)]['I'], \\\n",
    "                                     start_discharge, end_discharge, x_discharge)\n",
    "        Qdlin = linear_interpolation(cell['cycles'][str(j)]['V'], cell['cycles'][str(j)]['Qd'], \\\n",
    "                                     start_discharge, end_discharge, x_discharge)\n",
    "        Tdlin = linear_interpolation(cell['cycles'][str(j)]['V'], cell['cycles'][str(j)]['T'], \\\n",
    "                                     start_discharge, end_discharge, x_discharge)\n",
    "        \n",
    "        \n",
    "        g = interp1d(np.linspace(Vmax,Vmin,1000), cell['cycles'][str(j)]['dQdV'])\n",
    "        dQdV = g(x_discharge)\n",
    "        \n",
    "        \n",
    "        cycle_vector_dataset_arr[s+j-1][0] = Idlin\n",
    "        cycle_vector_dataset_arr[s+j-1][1] = Qdlin\n",
    "        cycle_vector_dataset_arr[s+j-1][2] = Tdlin\n",
    "        cycle_vector_dataset_arr[s+j-1][3] = dQdV\n",
    "        \n",
    "        \n",
    "        cycle_dataset_arr[s+j-1][0] = Idlin\n",
    "        cycle_dataset_arr[s+j-1][1] = Qdlin\n",
    "        cycle_dataset_arr[s+j-1][2] = Tdlin\n",
    "        cycle_dataset_arr[s+j-1][3] = dQdV\n",
    "        \n",
    "        \n",
    "        vector_sample_dict = ({'Idlin' : Idlin, \n",
    "                               'Qdlin' : Qdlin, \n",
    "                               'Tdlin' : Tdlin,\n",
    "                               'dQdV'  : dQdV  }\n",
    "                             )\n",
    "        \n",
    "        \n",
    "        IR = cell['summary']['IR'][j]\n",
    "        Tavg = cell['summary']['Tavg'][j]\n",
    "        Tmin = cell['summary']['Tmin'][j]\n",
    "        Tmax = cell['summary']['Tmax'][j]\n",
    "        QC = cell['summary']['QC'][j]\n",
    "        QD = cell['summary']['QD'][j]\n",
    "        chargetime = cell['summary']['chargetime'][j]\n",
    "        SOH = (QD/cell['summary']['QD'][1])*100 \n",
    "        \n",
    "       \n",
    "        cycle_scalar_dataset_arr[s+j-1][0] = IR\n",
    "        cycle_scalar_dataset_arr[s+j-1][1] = Tavg\n",
    "        cycle_scalar_dataset_arr[s+j-1][2] = Tmin\n",
    "        cycle_scalar_dataset_arr[s+j-1][3] = Tmax\n",
    "        cycle_scalar_dataset_arr[s+j-1][4] = QC\n",
    "        cycle_scalar_dataset_arr[s+j-1][5] = QD\n",
    "        cycle_scalar_dataset_arr[s+j-1][6] = chargetime\n",
    "        cycle_scalar_dataset_arr[s+j-1][7] = SOH\n",
    "        \n",
    "        \n",
    "        cycle_dataset_arr[s+j-1][4][0] = IR\n",
    "        cycle_dataset_arr[s+j-1][5][0] = Tavg\n",
    "        cycle_dataset_arr[s+j-1][6][0] = Tmin\n",
    "        cycle_dataset_arr[s+j-1][7][0] = Tmax\n",
    "        cycle_dataset_arr[s+j-1][8][0] = QC\n",
    "        cycle_dataset_arr[s+j-1][9][0] = QD\n",
    "        cycle_dataset_arr[s+j-1][10][0] = chargetime\n",
    "        cycle_dataset_arr[s+j-1][11][0] = SOH\n",
    "                \n",
    "        # Un dictionnaire \"échantillon\" contenant uniquement \n",
    "        # les scalaires de ce cycle est créé\n",
    "        scalar_sample_dict = ({'IR': IR , \n",
    "                               'Tavg': Tavg , \n",
    "                               'Tmin' : Tmin , \n",
    "                               'Tmax' : Tmax , \n",
    "                               'QC': QC, \n",
    "                               'QD':QD, \n",
    "                               'chargetime':chargetime, \n",
    "                               'SOH':SOH}\n",
    "                             )\n",
    "        \n",
    "        # Les deux dictionnaires échantillons (vectoriel et scalaire) sont  \n",
    "        # regroupés dans un dictionnaire échantillon global contenant \n",
    "        # à la fois les vecteurs et les scalaires de ce cycle\n",
    "        global_sample_dict = {**vector_sample_dict, **scalar_sample_dict}\n",
    "    \n",
    "        # Attribution d'un intitulé à chaque échantillon\n",
    "        dict_key = \"{}_cycle_{}\".format(i,j) \n",
    "        \n",
    "        # Le dictionnaire échantillon vectoriel est ajouté au dictionnaire vectoriel\n",
    "        # contenant les vecteurs de tous les cycles\n",
    "        cycle_scalar_dataset_dict[dict_key] = scalar_sample_dict\n",
    "        \n",
    "        # Le dictionnaire échantillon scalaire est ajouté au dictionnaire scalaire\n",
    "        # contenant les scalaires de tous les cycles\n",
    "        cycle_vector_dataset_dict[dict_key] = vector_sample_dict\n",
    "        \n",
    "        # Le dictionnaire échantillon global est ajouté au dictionnaire global \n",
    "        # contenant les vecteurs et les scalaires de chaque cycle\n",
    "        global_dataset[dict_key] = global_sample_dict\n",
    "        \n",
    "    s+=j # s représente le numéro de l'échantillon créé \n",
    "print('all cycles from batches 1, 2 and 3 were browsed')"
   ]
  },
  {
   "cell_type": "code",
   "execution_count": 16,
   "metadata": {
    "id": "YdJYTwtlVyAz"
   },
   "outputs": [],
   "source": [
    "cycle_vector_dataset_df = pd.DataFrame(cycle_vector_dataset_dict)\n",
    "\n",
    "# Création d'un dataframe scalaire\n",
    "cycle_scalar_dataset_df = pd.DataFrame(cycle_scalar_dataset_dict)\n",
    "\n",
    "#Création d'un dataframe global\n",
    "cycle_dataset_df = pd.DataFrame(global_dataset)"
   ]
  },
  {
   "cell_type": "code",
   "execution_count": 17,
   "metadata": {
    "id": "J2Hkz-FeuKhW"
   },
   "outputs": [],
   "source": [
    "df=pd.DataFrame({\"Ic\":Ic,\"Id\":Id,\"Vc\":Vc,\"Vd\":Vd,\"Tc\":Tc,\"Td\":Td,\"charge_policy\":charge_policy,\"SOH\":cycle_dataset_df.T[\"SOH\"]})"
   ]
  },
  {
   "cell_type": "code",
   "execution_count": 19,
   "metadata": {},
   "outputs": [],
   "source": [
    "df.to_csv(\"dataset\")"
   ]
  },
  {
   "cell_type": "code",
   "execution_count": 20,
   "metadata": {
    "id": "p63lKDTzjoDq"
   },
   "outputs": [],
   "source": [
    "cycle_dataset_df=df.T"
   ]
  },
  {
   "cell_type": "code",
   "execution_count": 21,
   "metadata": {
    "colab": {
     "base_uri": "https://localhost:8080/",
     "height": 394
    },
    "id": "ZyB0pt7Djuan",
    "outputId": "72161caf-7367-463c-adbb-e7dad4a89acf"
   },
   "outputs": [
    {
     "data": {
      "text/html": [
       "<div>\n",
       "<style scoped>\n",
       "    .dataframe tbody tr th:only-of-type {\n",
       "        vertical-align: middle;\n",
       "    }\n",
       "\n",
       "    .dataframe tbody tr th {\n",
       "        vertical-align: top;\n",
       "    }\n",
       "\n",
       "    .dataframe thead th {\n",
       "        text-align: right;\n",
       "    }\n",
       "</style>\n",
       "<table border=\"1\" class=\"dataframe\">\n",
       "  <thead>\n",
       "    <tr style=\"text-align: right;\">\n",
       "      <th></th>\n",
       "      <th>b1c0_cycle_1</th>\n",
       "      <th>b1c0_cycle_2</th>\n",
       "      <th>b1c0_cycle_3</th>\n",
       "      <th>b1c0_cycle_4</th>\n",
       "      <th>b1c0_cycle_5</th>\n",
       "      <th>b1c0_cycle_6</th>\n",
       "      <th>b1c0_cycle_7</th>\n",
       "      <th>b1c0_cycle_8</th>\n",
       "      <th>b1c0_cycle_9</th>\n",
       "      <th>b1c0_cycle_10</th>\n",
       "      <th>...</th>\n",
       "      <th>b1c47_cycle_735</th>\n",
       "      <th>b1c47_cycle_736</th>\n",
       "      <th>b1c47_cycle_737</th>\n",
       "      <th>b1c47_cycle_738</th>\n",
       "      <th>b1c47_cycle_739</th>\n",
       "      <th>b1c47_cycle_740</th>\n",
       "      <th>b1c47_cycle_741</th>\n",
       "      <th>b1c47_cycle_742</th>\n",
       "      <th>b1c47_cycle_743</th>\n",
       "      <th>b1c47_cycle_744</th>\n",
       "    </tr>\n",
       "  </thead>\n",
       "  <tbody>\n",
       "    <tr>\n",
       "      <th>Ic</th>\n",
       "      <td>[0.39175900909090905, 0.7491510545454545, 1.04...</td>\n",
       "      <td>[0.5479257727272726, 0.7937517999999999, 1.098...</td>\n",
       "      <td>[0.39319471818181817, 0.648456918181818, 0.948...</td>\n",
       "      <td>[0.4450329909090909, 0.6991507818181818, 1.101...</td>\n",
       "      <td>[0.5985780181818181, 0.8996131181818181, 1.149...</td>\n",
       "      <td>[0.38626930909090906, 0.6996605636363636, 0.99...</td>\n",
       "      <td>[0.39174513636363634, 0.6990814181818181, 0.99...</td>\n",
       "      <td>[0.3926606636363636, 0.6980618545454544, 0.948...</td>\n",
       "      <td>[0.5982936545454545, 0.8970815454545453, 1.200...</td>\n",
       "      <td>[0.4987265818181818, 0.7999316090909091, 1.049...</td>\n",
       "      <td>...</td>\n",
       "      <td>[0.2996583454545454, 0.4787826545454545, 0.658...</td>\n",
       "      <td>[0.3628436, 0.5398247454545454, 0.718154909090...</td>\n",
       "      <td>[0.2951604636363636, 0.47273462727272725, 0.65...</td>\n",
       "      <td>[0.3585919454545454, 0.5399981454545455, 0.718...</td>\n",
       "      <td>[0.3595421545454545, 0.5395889272727272, 0.717...</td>\n",
       "      <td>[0.2995092181818182, 0.4784115909090909, 0.658...</td>\n",
       "      <td>[0.2390670818181818, 0.478279809090909, 0.6591...</td>\n",
       "      <td>[0.29942946363636364, 0.5394571454545454, 0.71...</td>\n",
       "      <td>[0.29693949999999997, 0.5387843727272726, 0.71...</td>\n",
       "      <td>[0.3006675, 0.4756545999999999, 0.658326581818...</td>\n",
       "    </tr>\n",
       "    <tr>\n",
       "      <th>Id</th>\n",
       "      <td>[-0.560043509090909, -1.000193727272727, -1.56...</td>\n",
       "      <td>[-0.5200932272727272, -0.9601922727272727, -1....</td>\n",
       "      <td>[-0.5199423727272726, -1.120471909090909, -1.5...</td>\n",
       "      <td>[-0.5999712545454545, -1.1203124545454544, -1....</td>\n",
       "      <td>[-0.5998438090909091, -1.160620818181818, -1.6...</td>\n",
       "      <td>[-0.6000995636363636, -1.1205031818181819, -1....</td>\n",
       "      <td>[-0.4799444, -0.9603309999999998, -1.440355090...</td>\n",
       "      <td>[-0.5996556727272727, -1.0802173636363637, -1....</td>\n",
       "      <td>[-0.5199475727272728, -1.000304636363636, -1.4...</td>\n",
       "      <td>[-0.5598857181818182, -1.0003063636363634, -1....</td>\n",
       "      <td>...</td>\n",
       "      <td>[-0.4394722, -0.8409872909090907, -1.200086454...</td>\n",
       "      <td>[-0.4399039545454545, -0.840464509090909, -1.1...</td>\n",
       "      <td>[-0.44002272727272723, -0.8397457818181817, -1...</td>\n",
       "      <td>[-0.4000932545454545, -0.800107609090909, -1.1...</td>\n",
       "      <td>[-0.3996883727272727, -0.8396972272727272, -1....</td>\n",
       "      <td>[-0.43852199090909083, -0.8398437545454545, -1...</td>\n",
       "      <td>[-0.43979210909090904, -0.8000321818181818, -1...</td>\n",
       "      <td>[-0.40040622727272723, -0.8000659909090909, -1...</td>\n",
       "      <td>[-0.40016608181818175, -0.8002662636363636, -1...</td>\n",
       "      <td>[-0.40032993636363634, -0.8001292818181818, -1...</td>\n",
       "    </tr>\n",
       "    <tr>\n",
       "      <th>Vc</th>\n",
       "      <td>[2.1120076, 2.1413512, 2.1740165, 2.2118678, 2...</td>\n",
       "      <td>[2.1213861, 2.1444716, 2.1782861, 2.2177253, 2...</td>\n",
       "      <td>[2.1124139, 2.1327176, 2.1629434, 2.1995873, 2...</td>\n",
       "      <td>[2.1151195, 2.1360803, 2.1796918, 2.2119021, 2...</td>\n",
       "      <td>[2.1280026, 2.1573977, 2.1868119, 2.2334542, 2...</td>\n",
       "      <td>[2.1117635, 2.1368032, 2.1684728, 2.2126164, 2...</td>\n",
       "      <td>[2.1137776, 2.1386704, 2.1700406, 2.2142739, 2...</td>\n",
       "      <td>[2.1115088, 2.1361632, 2.1619964, 2.1988816, 2...</td>\n",
       "      <td>[2.1297498, 2.1589379, 2.1943831, 2.2281985, 2...</td>\n",
       "      <td>[2.1219964, 2.148602, 2.1761966, 2.2079434, 2....</td>\n",
       "      <td>...</td>\n",
       "      <td>[2.4238153, 2.4350972, 2.4484458, 2.4584727, 2...</td>\n",
       "      <td>[2.4289632, 2.4412465, 2.4545608, 2.464891, 2....</td>\n",
       "      <td>[2.4331603, 2.4441943, 2.4573407, 2.4724774, 2...</td>\n",
       "      <td>[2.4422917, 2.45402, 2.4675279, 2.4825578, 2.4...</td>\n",
       "      <td>[2.4468093, 2.4585271, 2.4720521, 2.4872231, 2...</td>\n",
       "      <td>[2.4486165, 2.4607921, 2.4731212, 2.487597, 2....</td>\n",
       "      <td>[2.4552312, 2.4685254, 2.4812427, 2.4951262, 2...</td>\n",
       "      <td>[2.4650865, 2.47963, 2.4921498, 2.5066867, 2.5...</td>\n",
       "      <td>[2.4697738, 2.4833999, 2.4961963, 2.5100741, 2...</td>\n",
       "      <td>[2.4767127, 2.4872279, 2.4993186, 2.5126433, 2...</td>\n",
       "    </tr>\n",
       "    <tr>\n",
       "      <th>Vd</th>\n",
       "      <td>[3.5845513, 3.5743518, 3.5607057, 3.5493274, 3...</td>\n",
       "      <td>[3.5854506, 3.5754504, 3.5649362, 3.5548377, 3...</td>\n",
       "      <td>[3.5854306, 3.5716157, 3.5611844, 3.5496726, 3...</td>\n",
       "      <td>[3.5837426, 3.5717235, 3.5610003, 3.5496764, 3...</td>\n",
       "      <td>[3.583715, 3.5707316, 3.5578036, 3.547502, 3.5...</td>\n",
       "      <td>[3.5836082, 3.5718141, 3.5589709, 3.5451369, 3...</td>\n",
       "      <td>[3.5861659, 3.5756202, 3.5640254, 3.5529981, 3...</td>\n",
       "      <td>[3.5837512, 3.5728097, 3.5610442, 3.5498939, 3...</td>\n",
       "      <td>[3.5855403, 3.5746427, 3.5629497, 3.5518737, 3...</td>\n",
       "      <td>[3.5846877, 3.5746665, 3.563992, 3.551044, 3.5...</td>\n",
       "      <td>...</td>\n",
       "      <td>[3.5892701, 3.5786386, 3.5684619, 3.5577168, 3...</td>\n",
       "      <td>[3.5889678, 3.5784516, 3.5681643, 3.5576406, 3...</td>\n",
       "      <td>[3.5891042, 3.5785737, 3.5683112, 3.5576482, 3...</td>\n",
       "      <td>[3.5901933, 3.5798116, 3.5695434, 3.5587211, 3...</td>\n",
       "      <td>[3.5949149, 3.5834603, 3.5732074, 3.5626836, 3...</td>\n",
       "      <td>[3.5890193, 3.5782332, 3.5670533, 3.5562253, 3...</td>\n",
       "      <td>[3.5891089, 3.5788808, 3.5686917, 3.5585675, 3...</td>\n",
       "      <td>[3.5901837, 3.5795293, 3.5675693, 3.5573487, 3...</td>\n",
       "      <td>[3.5899825, 3.5792766, 3.5689578, 3.5580268, 3...</td>\n",
       "      <td>[3.5944829, 3.5840716, 3.5734191, 3.5629086, 3...</td>\n",
       "    </tr>\n",
       "    <tr>\n",
       "      <th>Tc</th>\n",
       "      <td>[32.095115420451435, 32.09553350772601, 32.095...</td>\n",
       "      <td>[32.100925, 32.100489412344736, 32.10002811787...</td>\n",
       "      <td>[32.213660487082265, 32.21347621404638, 32.213...</td>\n",
       "      <td>[32.13458411412274, 32.134207367490596, 32.133...</td>\n",
       "      <td>[32.0781864326378, 32.07801845032766, 32.07785...</td>\n",
       "      <td>[32.16671265551257, 32.166497023404254, 32.166...</td>\n",
       "      <td>[32.2562792769949, 32.25600961148094, 32.25579...</td>\n",
       "      <td>[32.22666074610109, 32.22783662607169, 32.2290...</td>\n",
       "      <td>[32.18690692183239, 32.186304016406105, 32.186...</td>\n",
       "      <td>[32.28926228464103, 32.288820118178364, 32.288...</td>\n",
       "      <td>...</td>\n",
       "      <td>[30.820396, 30.820396, 30.820396, 30.820396, 3...</td>\n",
       "      <td>[30.906128, 30.906128, 30.906128, 30.906128, 3...</td>\n",
       "      <td>[31.090843, 31.090843, 31.090843, 31.090843, 3...</td>\n",
       "      <td>[31.08473, 31.08473, 31.08473, 31.08473, 31.08...</td>\n",
       "      <td>[31.14735, 31.14735, 31.14735, 31.14735, 31.14...</td>\n",
       "      <td>[30.858965, 30.858965, 30.858965, 30.858965, 3...</td>\n",
       "      <td>[30.924057, 30.924057, 30.924057, 30.924057, 3...</td>\n",
       "      <td>[31.010826, 31.010826, 31.010826, 31.010826, 3...</td>\n",
       "      <td>[31.052486, 31.052486, 31.052486, 31.052486, 3...</td>\n",
       "      <td>[31.028942, 31.028942, 31.028942, 31.028942, 3...</td>\n",
       "    </tr>\n",
       "    <tr>\n",
       "      <th>Td</th>\n",
       "      <td>[30.820534457644424, 30.81876845992224, 30.816...</td>\n",
       "      <td>[30.852327120486237, 30.852779711119055, 30.85...</td>\n",
       "      <td>[30.832358788433, 30.83202948066347, 30.831783...</td>\n",
       "      <td>[30.830612178178495, 30.829819989236206, 30.82...</td>\n",
       "      <td>[30.71032588378695, 30.711019094673716, 30.711...</td>\n",
       "      <td>[30.74225472322275, 30.742758398104264, 30.743...</td>\n",
       "      <td>[30.773305896811685, 30.774102936783414, 30.77...</td>\n",
       "      <td>[30.777844409037773, 30.77764193007964, 30.777...</td>\n",
       "      <td>[30.90306218005518, 30.902956152145226, 30.902...</td>\n",
       "      <td>[30.995105817599928, 30.995159, 30.99482361523...</td>\n",
       "      <td>...</td>\n",
       "      <td>[29.878868, 29.895336, 29.895336, 29.895336, 2...</td>\n",
       "      <td>[30.035067, 30.035067, 30.035067, 30.035067, 3...</td>\n",
       "      <td>[29.984766, 29.984766, 29.984766, 29.984766, 2...</td>\n",
       "      <td>[29.948359, 29.948359, 29.948359, 29.948359, 2...</td>\n",
       "      <td>[29.859871, 29.859871, 29.859871, 29.859871, 2...</td>\n",
       "      <td>[29.94058, 29.94058, 29.94058, 29.94058, 29.94...</td>\n",
       "      <td>[29.941271, 29.941271, 29.941271, 29.941271, 2...</td>\n",
       "      <td>[29.837681, 29.837681, 29.837681, 29.837681, 2...</td>\n",
       "      <td>[29.817024, 29.817024, 29.817024, 29.817024, 2...</td>\n",
       "      <td>[29.84683, 29.84683, 29.84683, 29.84683, 29.84...</td>\n",
       "    </tr>\n",
       "    <tr>\n",
       "      <th>charge_policy</th>\n",
       "      <td>5C(67%)-4C-newstructure</td>\n",
       "      <td>5C(67%)-4C-newstructure</td>\n",
       "      <td>5C(67%)-4C-newstructure</td>\n",
       "      <td>5C(67%)-4C-newstructure</td>\n",
       "      <td>5C(67%)-4C-newstructure</td>\n",
       "      <td>5C(67%)-4C-newstructure</td>\n",
       "      <td>5C(67%)-4C-newstructure</td>\n",
       "      <td>5C(67%)-4C-newstructure</td>\n",
       "      <td>5C(67%)-4C-newstructure</td>\n",
       "      <td>5C(67%)-4C-newstructure</td>\n",
       "      <td>...</td>\n",
       "      <td>6C(60%)-3C</td>\n",
       "      <td>6C(60%)-3C</td>\n",
       "      <td>6C(60%)-3C</td>\n",
       "      <td>6C(60%)-3C</td>\n",
       "      <td>6C(60%)-3C</td>\n",
       "      <td>6C(60%)-3C</td>\n",
       "      <td>6C(60%)-3C</td>\n",
       "      <td>6C(60%)-3C</td>\n",
       "      <td>6C(60%)-3C</td>\n",
       "      <td>6C(60%)-3C</td>\n",
       "    </tr>\n",
       "    <tr>\n",
       "      <th>SOH</th>\n",
       "      <td>100.0</td>\n",
       "      <td>100.077736</td>\n",
       "      <td>100.11741</td>\n",
       "      <td>100.153496</td>\n",
       "      <td>100.183605</td>\n",
       "      <td>100.213161</td>\n",
       "      <td>100.237218</td>\n",
       "      <td>100.260601</td>\n",
       "      <td>100.27767</td>\n",
       "      <td>100.279853</td>\n",
       "      <td>...</td>\n",
       "      <td>81.004648</td>\n",
       "      <td>80.790431</td>\n",
       "      <td>80.63767</td>\n",
       "      <td>80.456586</td>\n",
       "      <td>80.259196</td>\n",
       "      <td>80.074365</td>\n",
       "      <td>79.849397</td>\n",
       "      <td>79.691859</td>\n",
       "      <td>79.485376</td>\n",
       "      <td>79.279647</td>\n",
       "    </tr>\n",
       "  </tbody>\n",
       "</table>\n",
       "<p>8 rows × 52153 columns</p>\n",
       "</div>"
      ],
      "text/plain": [
       "                                                    b1c0_cycle_1  \\\n",
       "Ic             [0.39175900909090905, 0.7491510545454545, 1.04...   \n",
       "Id             [-0.560043509090909, -1.000193727272727, -1.56...   \n",
       "Vc             [2.1120076, 2.1413512, 2.1740165, 2.2118678, 2...   \n",
       "Vd             [3.5845513, 3.5743518, 3.5607057, 3.5493274, 3...   \n",
       "Tc             [32.095115420451435, 32.09553350772601, 32.095...   \n",
       "Td             [30.820534457644424, 30.81876845992224, 30.816...   \n",
       "charge_policy                            5C(67%)-4C-newstructure   \n",
       "SOH                                                        100.0   \n",
       "\n",
       "                                                    b1c0_cycle_2  \\\n",
       "Ic             [0.5479257727272726, 0.7937517999999999, 1.098...   \n",
       "Id             [-0.5200932272727272, -0.9601922727272727, -1....   \n",
       "Vc             [2.1213861, 2.1444716, 2.1782861, 2.2177253, 2...   \n",
       "Vd             [3.5854506, 3.5754504, 3.5649362, 3.5548377, 3...   \n",
       "Tc             [32.100925, 32.100489412344736, 32.10002811787...   \n",
       "Td             [30.852327120486237, 30.852779711119055, 30.85...   \n",
       "charge_policy                            5C(67%)-4C-newstructure   \n",
       "SOH                                                   100.077736   \n",
       "\n",
       "                                                    b1c0_cycle_3  \\\n",
       "Ic             [0.39319471818181817, 0.648456918181818, 0.948...   \n",
       "Id             [-0.5199423727272726, -1.120471909090909, -1.5...   \n",
       "Vc             [2.1124139, 2.1327176, 2.1629434, 2.1995873, 2...   \n",
       "Vd             [3.5854306, 3.5716157, 3.5611844, 3.5496726, 3...   \n",
       "Tc             [32.213660487082265, 32.21347621404638, 32.213...   \n",
       "Td             [30.832358788433, 30.83202948066347, 30.831783...   \n",
       "charge_policy                            5C(67%)-4C-newstructure   \n",
       "SOH                                                    100.11741   \n",
       "\n",
       "                                                    b1c0_cycle_4  \\\n",
       "Ic             [0.4450329909090909, 0.6991507818181818, 1.101...   \n",
       "Id             [-0.5999712545454545, -1.1203124545454544, -1....   \n",
       "Vc             [2.1151195, 2.1360803, 2.1796918, 2.2119021, 2...   \n",
       "Vd             [3.5837426, 3.5717235, 3.5610003, 3.5496764, 3...   \n",
       "Tc             [32.13458411412274, 32.134207367490596, 32.133...   \n",
       "Td             [30.830612178178495, 30.829819989236206, 30.82...   \n",
       "charge_policy                            5C(67%)-4C-newstructure   \n",
       "SOH                                                   100.153496   \n",
       "\n",
       "                                                    b1c0_cycle_5  \\\n",
       "Ic             [0.5985780181818181, 0.8996131181818181, 1.149...   \n",
       "Id             [-0.5998438090909091, -1.160620818181818, -1.6...   \n",
       "Vc             [2.1280026, 2.1573977, 2.1868119, 2.2334542, 2...   \n",
       "Vd             [3.583715, 3.5707316, 3.5578036, 3.547502, 3.5...   \n",
       "Tc             [32.0781864326378, 32.07801845032766, 32.07785...   \n",
       "Td             [30.71032588378695, 30.711019094673716, 30.711...   \n",
       "charge_policy                            5C(67%)-4C-newstructure   \n",
       "SOH                                                   100.183605   \n",
       "\n",
       "                                                    b1c0_cycle_6  \\\n",
       "Ic             [0.38626930909090906, 0.6996605636363636, 0.99...   \n",
       "Id             [-0.6000995636363636, -1.1205031818181819, -1....   \n",
       "Vc             [2.1117635, 2.1368032, 2.1684728, 2.2126164, 2...   \n",
       "Vd             [3.5836082, 3.5718141, 3.5589709, 3.5451369, 3...   \n",
       "Tc             [32.16671265551257, 32.166497023404254, 32.166...   \n",
       "Td             [30.74225472322275, 30.742758398104264, 30.743...   \n",
       "charge_policy                            5C(67%)-4C-newstructure   \n",
       "SOH                                                   100.213161   \n",
       "\n",
       "                                                    b1c0_cycle_7  \\\n",
       "Ic             [0.39174513636363634, 0.6990814181818181, 0.99...   \n",
       "Id             [-0.4799444, -0.9603309999999998, -1.440355090...   \n",
       "Vc             [2.1137776, 2.1386704, 2.1700406, 2.2142739, 2...   \n",
       "Vd             [3.5861659, 3.5756202, 3.5640254, 3.5529981, 3...   \n",
       "Tc             [32.2562792769949, 32.25600961148094, 32.25579...   \n",
       "Td             [30.773305896811685, 30.774102936783414, 30.77...   \n",
       "charge_policy                            5C(67%)-4C-newstructure   \n",
       "SOH                                                   100.237218   \n",
       "\n",
       "                                                    b1c0_cycle_8  \\\n",
       "Ic             [0.3926606636363636, 0.6980618545454544, 0.948...   \n",
       "Id             [-0.5996556727272727, -1.0802173636363637, -1....   \n",
       "Vc             [2.1115088, 2.1361632, 2.1619964, 2.1988816, 2...   \n",
       "Vd             [3.5837512, 3.5728097, 3.5610442, 3.5498939, 3...   \n",
       "Tc             [32.22666074610109, 32.22783662607169, 32.2290...   \n",
       "Td             [30.777844409037773, 30.77764193007964, 30.777...   \n",
       "charge_policy                            5C(67%)-4C-newstructure   \n",
       "SOH                                                   100.260601   \n",
       "\n",
       "                                                    b1c0_cycle_9  \\\n",
       "Ic             [0.5982936545454545, 0.8970815454545453, 1.200...   \n",
       "Id             [-0.5199475727272728, -1.000304636363636, -1.4...   \n",
       "Vc             [2.1297498, 2.1589379, 2.1943831, 2.2281985, 2...   \n",
       "Vd             [3.5855403, 3.5746427, 3.5629497, 3.5518737, 3...   \n",
       "Tc             [32.18690692183239, 32.186304016406105, 32.186...   \n",
       "Td             [30.90306218005518, 30.902956152145226, 30.902...   \n",
       "charge_policy                            5C(67%)-4C-newstructure   \n",
       "SOH                                                    100.27767   \n",
       "\n",
       "                                                   b1c0_cycle_10  ...  \\\n",
       "Ic             [0.4987265818181818, 0.7999316090909091, 1.049...  ...   \n",
       "Id             [-0.5598857181818182, -1.0003063636363634, -1....  ...   \n",
       "Vc             [2.1219964, 2.148602, 2.1761966, 2.2079434, 2....  ...   \n",
       "Vd             [3.5846877, 3.5746665, 3.563992, 3.551044, 3.5...  ...   \n",
       "Tc             [32.28926228464103, 32.288820118178364, 32.288...  ...   \n",
       "Td             [30.995105817599928, 30.995159, 30.99482361523...  ...   \n",
       "charge_policy                            5C(67%)-4C-newstructure  ...   \n",
       "SOH                                                   100.279853  ...   \n",
       "\n",
       "                                                 b1c47_cycle_735  \\\n",
       "Ic             [0.2996583454545454, 0.4787826545454545, 0.658...   \n",
       "Id             [-0.4394722, -0.8409872909090907, -1.200086454...   \n",
       "Vc             [2.4238153, 2.4350972, 2.4484458, 2.4584727, 2...   \n",
       "Vd             [3.5892701, 3.5786386, 3.5684619, 3.5577168, 3...   \n",
       "Tc             [30.820396, 30.820396, 30.820396, 30.820396, 3...   \n",
       "Td             [29.878868, 29.895336, 29.895336, 29.895336, 2...   \n",
       "charge_policy                                         6C(60%)-3C   \n",
       "SOH                                                    81.004648   \n",
       "\n",
       "                                                 b1c47_cycle_736  \\\n",
       "Ic             [0.3628436, 0.5398247454545454, 0.718154909090...   \n",
       "Id             [-0.4399039545454545, -0.840464509090909, -1.1...   \n",
       "Vc             [2.4289632, 2.4412465, 2.4545608, 2.464891, 2....   \n",
       "Vd             [3.5889678, 3.5784516, 3.5681643, 3.5576406, 3...   \n",
       "Tc             [30.906128, 30.906128, 30.906128, 30.906128, 3...   \n",
       "Td             [30.035067, 30.035067, 30.035067, 30.035067, 3...   \n",
       "charge_policy                                         6C(60%)-3C   \n",
       "SOH                                                    80.790431   \n",
       "\n",
       "                                                 b1c47_cycle_737  \\\n",
       "Ic             [0.2951604636363636, 0.47273462727272725, 0.65...   \n",
       "Id             [-0.44002272727272723, -0.8397457818181817, -1...   \n",
       "Vc             [2.4331603, 2.4441943, 2.4573407, 2.4724774, 2...   \n",
       "Vd             [3.5891042, 3.5785737, 3.5683112, 3.5576482, 3...   \n",
       "Tc             [31.090843, 31.090843, 31.090843, 31.090843, 3...   \n",
       "Td             [29.984766, 29.984766, 29.984766, 29.984766, 2...   \n",
       "charge_policy                                         6C(60%)-3C   \n",
       "SOH                                                     80.63767   \n",
       "\n",
       "                                                 b1c47_cycle_738  \\\n",
       "Ic             [0.3585919454545454, 0.5399981454545455, 0.718...   \n",
       "Id             [-0.4000932545454545, -0.800107609090909, -1.1...   \n",
       "Vc             [2.4422917, 2.45402, 2.4675279, 2.4825578, 2.4...   \n",
       "Vd             [3.5901933, 3.5798116, 3.5695434, 3.5587211, 3...   \n",
       "Tc             [31.08473, 31.08473, 31.08473, 31.08473, 31.08...   \n",
       "Td             [29.948359, 29.948359, 29.948359, 29.948359, 2...   \n",
       "charge_policy                                         6C(60%)-3C   \n",
       "SOH                                                    80.456586   \n",
       "\n",
       "                                                 b1c47_cycle_739  \\\n",
       "Ic             [0.3595421545454545, 0.5395889272727272, 0.717...   \n",
       "Id             [-0.3996883727272727, -0.8396972272727272, -1....   \n",
       "Vc             [2.4468093, 2.4585271, 2.4720521, 2.4872231, 2...   \n",
       "Vd             [3.5949149, 3.5834603, 3.5732074, 3.5626836, 3...   \n",
       "Tc             [31.14735, 31.14735, 31.14735, 31.14735, 31.14...   \n",
       "Td             [29.859871, 29.859871, 29.859871, 29.859871, 2...   \n",
       "charge_policy                                         6C(60%)-3C   \n",
       "SOH                                                    80.259196   \n",
       "\n",
       "                                                 b1c47_cycle_740  \\\n",
       "Ic             [0.2995092181818182, 0.4784115909090909, 0.658...   \n",
       "Id             [-0.43852199090909083, -0.8398437545454545, -1...   \n",
       "Vc             [2.4486165, 2.4607921, 2.4731212, 2.487597, 2....   \n",
       "Vd             [3.5890193, 3.5782332, 3.5670533, 3.5562253, 3...   \n",
       "Tc             [30.858965, 30.858965, 30.858965, 30.858965, 3...   \n",
       "Td             [29.94058, 29.94058, 29.94058, 29.94058, 29.94...   \n",
       "charge_policy                                         6C(60%)-3C   \n",
       "SOH                                                    80.074365   \n",
       "\n",
       "                                                 b1c47_cycle_741  \\\n",
       "Ic             [0.2390670818181818, 0.478279809090909, 0.6591...   \n",
       "Id             [-0.43979210909090904, -0.8000321818181818, -1...   \n",
       "Vc             [2.4552312, 2.4685254, 2.4812427, 2.4951262, 2...   \n",
       "Vd             [3.5891089, 3.5788808, 3.5686917, 3.5585675, 3...   \n",
       "Tc             [30.924057, 30.924057, 30.924057, 30.924057, 3...   \n",
       "Td             [29.941271, 29.941271, 29.941271, 29.941271, 2...   \n",
       "charge_policy                                         6C(60%)-3C   \n",
       "SOH                                                    79.849397   \n",
       "\n",
       "                                                 b1c47_cycle_742  \\\n",
       "Ic             [0.29942946363636364, 0.5394571454545454, 0.71...   \n",
       "Id             [-0.40040622727272723, -0.8000659909090909, -1...   \n",
       "Vc             [2.4650865, 2.47963, 2.4921498, 2.5066867, 2.5...   \n",
       "Vd             [3.5901837, 3.5795293, 3.5675693, 3.5573487, 3...   \n",
       "Tc             [31.010826, 31.010826, 31.010826, 31.010826, 3...   \n",
       "Td             [29.837681, 29.837681, 29.837681, 29.837681, 2...   \n",
       "charge_policy                                         6C(60%)-3C   \n",
       "SOH                                                    79.691859   \n",
       "\n",
       "                                                 b1c47_cycle_743  \\\n",
       "Ic             [0.29693949999999997, 0.5387843727272726, 0.71...   \n",
       "Id             [-0.40016608181818175, -0.8002662636363636, -1...   \n",
       "Vc             [2.4697738, 2.4833999, 2.4961963, 2.5100741, 2...   \n",
       "Vd             [3.5899825, 3.5792766, 3.5689578, 3.5580268, 3...   \n",
       "Tc             [31.052486, 31.052486, 31.052486, 31.052486, 3...   \n",
       "Td             [29.817024, 29.817024, 29.817024, 29.817024, 2...   \n",
       "charge_policy                                         6C(60%)-3C   \n",
       "SOH                                                    79.485376   \n",
       "\n",
       "                                                 b1c47_cycle_744  \n",
       "Ic             [0.3006675, 0.4756545999999999, 0.658326581818...  \n",
       "Id             [-0.40032993636363634, -0.8001292818181818, -1...  \n",
       "Vc             [2.4767127, 2.4872279, 2.4993186, 2.5126433, 2...  \n",
       "Vd             [3.5944829, 3.5840716, 3.5734191, 3.5629086, 3...  \n",
       "Tc             [31.028942, 31.028942, 31.028942, 31.028942, 3...  \n",
       "Td             [29.84683, 29.84683, 29.84683, 29.84683, 29.84...  \n",
       "charge_policy                                         6C(60%)-3C  \n",
       "SOH                                                    79.279647  \n",
       "\n",
       "[8 rows x 52153 columns]"
      ]
     },
     "execution_count": 21,
     "metadata": {},
     "output_type": "execute_result"
    }
   ],
   "source": [
    "cycle_dataset_df"
   ]
  },
  {
   "cell_type": "markdown",
   "metadata": {
    "id": "9TZ28_9UaBIe"
   },
   "source": [
    "**splitting the data by cell**"
   ]
  },
  {
   "cell_type": "code",
   "execution_count": 22,
   "metadata": {
    "id": "ZsFpDn383oUJ"
   },
   "outputs": [],
   "source": [
    "cells=[]\n",
    "\n",
    "for i in range(48):\n",
    "  filter_col=[]\n",
    "  data=[]\n",
    "  filter_col = [col for col in cycle_dataset_df if col.startswith('b1c'+str(i)+\"_cycle\")]\n",
    "  data=cycle_dataset_df[filter_col].T\n",
    "  data=data.reset_index(drop=True)\n",
    "  cells.append(data)"
   ]
  },
  {
   "cell_type": "code",
   "execution_count": 23,
   "metadata": {},
   "outputs": [
    {
     "name": "stderr",
     "output_type": "stream",
     "text": [
      "C:\\Users\\sarbaoui01\\Anaconda3\\lib\\site-packages\\numpy\\lib\\npyio.py:528: VisibleDeprecationWarning: Creating an ndarray from ragged nested sequences (which is a list-or-tuple of lists-or-tuples-or ndarrays with different lengths or shapes) is deprecated. If you meant to do this, you must specify 'dtype=object' when creating the ndarray.\n",
      "  arr = np.asanyarray(arr)\n"
     ]
    }
   ],
   "source": [
    "np.save(\"celles\",cells)"
   ]
  },
  {
   "cell_type": "code",
   "execution_count": 24,
   "metadata": {
    "id": "1hMleIecKGtx"
   },
   "outputs": [],
   "source": [
    "train_size=int(0.6*48)\n",
    "train_data=cells[0:train_size]\n",
    "test_data=cells[train_size:48]"
   ]
  },
  {
   "cell_type": "code",
   "execution_count": 25,
   "metadata": {},
   "outputs": [],
   "source": [
    "np.save(\"test_data\",test_data)"
   ]
  },
  {
   "cell_type": "code",
   "execution_count": 26,
   "metadata": {},
   "outputs": [
    {
     "data": {
      "text/plain": [
       "[<matplotlib.lines.Line2D at 0x2314e54fa00>]"
      ]
     },
     "execution_count": 26,
     "metadata": {},
     "output_type": "execute_result"
    },
    {
     "data": {
      "image/png": "[encoded data removed]",
      "text/plain": [
       "<Figure size 640x480 with 1 Axes>"
      ]
     },
     "metadata": {},
     "output_type": "display_data"
    }
   ],
   "source": [
    "plt.plot(test_data[0][\"Ic\"][0])"
   ]
  },
  {
   "cell_type": "markdown",
   "metadata": {
    "id": "wBpwcodEZtEf"
   },
   "source": [
    "\n",
    "**Normalization of the data (min max )**"
   ]
  },
  {
   "cell_type": "code",
   "execution_count": 27,
   "metadata": {
    "id": "30jTTZtX3oUH"
   },
   "outputs": [],
   "source": [
    "cycle_dataset_df=train_data\n",
    "minic=min(cycle_dataset_df[0][\"Ic\"][0])\n",
    "maxic=max(cycle_dataset_df[0][\"Ic\"][0])\n",
    "minid=min(cycle_dataset_df[0][\"Id\"][0])\n",
    "maxid=max(cycle_dataset_df[0][\"Id\"][0])\n",
    "minvc=min(cycle_dataset_df[0][\"Vc\"][0])\n",
    "maxvc=max(cycle_dataset_df[0][\"Vc\"][0])\n",
    "minvd=min(cycle_dataset_df[0][\"Vd\"][0])\n",
    "maxvd=max(cycle_dataset_df[0][\"Vd\"][0])\n",
    "mintc=min(cycle_dataset_df[0][\"Tc\"][0])\n",
    "maxtc=max(cycle_dataset_df[0][\"Tc\"][0])\n",
    "mintd=min(cycle_dataset_df[0][\"Td\"][0])\n",
    "maxtd=max(cycle_dataset_df[0][\"Td\"][0])\n",
    "\n",
    "for i in range(len(cycle_dataset_df)):\n",
    "    for j in range(len(train_data[i])):\n",
    "        if(min(cycle_dataset_df[i][\"Ic\"][j])<minic):\n",
    "            minic=min(cycle_dataset_df[i][\"Ic\"][j])\n",
    "        if(min(cycle_dataset_df[i][\"Id\"][j])<minid):\n",
    "            minid=min(cycle_dataset_df[i][\"Id\"][j])\n",
    "\n",
    "        if(max(cycle_dataset_df[i][\"Ic\"][j])>maxic):\n",
    "            maxic=max(cycle_dataset_df[i][\"Ic\"][j])\n",
    "        if(min(cycle_dataset_df[i][\"Id\"][j])>maxid):\n",
    "            maxid=max(cycle_dataset_df[i][\"Id\"][j])\n",
    "\n",
    "\n",
    "        if(min(cycle_dataset_df[i][\"Vc\"][j])<minvc):\n",
    "            minvc=min(cycle_dataset_df[i][\"Vc\"][j])\n",
    "        if(min(cycle_dataset_df[i][\"Vd\"][j])<minvd):\n",
    "            minvd=min(cycle_dataset_df[i][\"Vd\"][j])\n",
    "        if(max(cycle_dataset_df[i][\"Vc\"][j])>maxvc):\n",
    "            maxvc=max(cycle_dataset_df[i][\"Vc\"][j])\n",
    "        if(min(cycle_dataset_df[i][\"Id\"][j])>maxid):\n",
    "            maxvd=max(cycle_dataset_df[i][\"Vd\"][j])\n",
    "\n",
    "\n",
    "        if(min(cycle_dataset_df[i][\"Tc\"][j])<mintc):\n",
    "            mintc=min(cycle_dataset_df[i][\"Tc\"][j])\n",
    "        if(min(cycle_dataset_df[i][\"Td\"][j])<mintd):\n",
    "            mintd=min(cycle_dataset_df[i][\"Td\"][j])\n",
    "        if(max(cycle_dataset_df[i][\"Vc\"][j])>maxtc):\n",
    "            maxtc=max(cycle_dataset_df[i][\"Tc\"][j])\n",
    "        if(min(cycle_dataset_df[i][\"Td\"][j])>maxtd):\n",
    "            maxtd=max(cycle_dataset_df[i][\"Td\"][j])"
   ]
  },
  {
   "cell_type": "code",
   "execution_count": 28,
   "metadata": {
    "id": "o6YM4Fhu3oUI"
   },
   "outputs": [],
   "source": [
    "for i in range(len(cycle_dataset_df)):\n",
    "    for j in range(len(cycle_dataset_df[i])):\n",
    "        cycle_dataset_df[i][\"Ic\"][j]=(cycle_dataset_df[i][\"Ic\"][j]-minic)/(maxic-minic)\n",
    "        cycle_dataset_df[i][\"Id\"][j]=(cycle_dataset_df[i][\"Id\"][j]-minid)/(maxid-minid)\n",
    "\n",
    "        cycle_dataset_df[i][\"Vc\"][j]=(cycle_dataset_df[i][\"Vc\"][j]-minvc)/(maxvc-minvc)\n",
    "        cycle_dataset_df[i][\"Vd\"][j]=(cycle_dataset_df[i][\"Vd\"][j]-minvd)/(maxvd-minvd)\n",
    "\n",
    "        cycle_dataset_df[i][\"Tc\"][j]=(cycle_dataset_df[i][\"Tc\"][j]-mintc)/(maxtc-mintc)\n",
    "        cycle_dataset_df[i][\"Td\"][j]=(cycle_dataset_df[i][\"Td\"][j]-mintd)/(maxtd-mintd)\n",
    "    "
   ]
  },
  {
   "cell_type": "code",
   "execution_count": 29,
   "metadata": {
    "id": "BT4OT3it3oUI",
    "outputId": "021b34e2-dfb8-4092-f06a-a2deb7aa42a9",
    "scrolled": true
   },
   "outputs": [],
   "source": [
    "train_data=cycle_dataset_df"
   ]
  },
  {
   "cell_type": "code",
   "execution_count": 30,
   "metadata": {},
   "outputs": [],
   "source": [
    "cycle_dataset_df=test_data\n",
    "for i in range(len(cycle_dataset_df)):\n",
    "    for j in range(len(cycle_dataset_df[i])):\n",
    "        cycle_dataset_df[i][\"Ic\"][j]=(cycle_dataset_df[i][\"Ic\"][j]-minic)/(maxic-minic)\n",
    "        cycle_dataset_df[i][\"Id\"][j]=(cycle_dataset_df[i][\"Id\"][j]-minid)/(maxid-minid)\n",
    "\n",
    "        cycle_dataset_df[i][\"Vc\"][j]=(cycle_dataset_df[i][\"Vc\"][j]-minvc)/(maxvc-minvc)\n",
    "        cycle_dataset_df[i][\"Vd\"][j]=(cycle_dataset_df[i][\"Vd\"][j]-minvd)/(maxvd-minvd)\n",
    "\n",
    "        cycle_dataset_df[i][\"Tc\"][j]=(cycle_dataset_df[i][\"Tc\"][j]-mintc)/(maxtc-mintc)\n",
    "        cycle_dataset_df[i][\"Td\"][j]=(cycle_dataset_df[i][\"Td\"][j]-mintd)/(maxtd-mintd)"
   ]
  },
  {
   "cell_type": "code",
   "execution_count": 31,
   "metadata": {},
   "outputs": [],
   "source": [
    "test_data=cycle_dataset_df"
   ]
  },
  {
   "cell_type": "code",
   "execution_count": 32,
   "metadata": {},
   "outputs": [],
   "source": [
    "min_max=np.array([minic,maxic,minid,maxid,minvc,maxvc,minvd,maxvd,mintc,maxtc,mintd,maxtd])"
   ]
  },
  {
   "cell_type": "code",
   "execution_count": 33,
   "metadata": {},
   "outputs": [
    {
     "data": {
      "text/plain": [
       "array([-12.16763636,   7.123479  , -12.16763636,  -0.56004351,\n",
       "         2.0079174 ,   3.6014471 ,   1.9464617 ,   3.5845513 ,\n",
       "        28.138685  ,  33.28050532,  28.03226953,  39.77749875])"
      ]
     },
     "execution_count": 33,
     "metadata": {},
     "output_type": "execute_result"
    }
   ],
   "source": [
    "min_max"
   ]
  },
  {
   "cell_type": "code",
   "execution_count": 52,
   "metadata": {},
   "outputs": [
    {
     "data": {
      "text/plain": [
       "[<matplotlib.lines.Line2D at 0x23181fc7970>]"
      ]
     },
     "execution_count": 52,
     "metadata": {},
     "output_type": "execute_result"
    },
    {
     "data": {
      "image/png": "[encoded data removed]",
      "text/plain": [
       "<Figure size 640x480 with 1 Axes>"
      ]
     },
     "metadata": {},
     "output_type": "display_data"
    }
   ],
   "source": [
    "plt.plot(test_data[0][\"Ic\"][0])"
   ]
  },
  {
   "cell_type": "code",
   "execution_count": 35,
   "metadata": {},
   "outputs": [],
   "source": [
    "np.save(\"min_max\",min_max)"
   ]
  },
  {
   "cell_type": "markdown",
   "metadata": {
    "id": "2ad-R9AdaMTM"
   },
   "source": [
    "**For each cell we will get The inputs and the outputs for our model **"
   ]
  },
  {
   "cell_type": "code",
   "execution_count": 36,
   "metadata": {
    "id": "UQ994QQTLOET"
   },
   "outputs": [],
   "source": [
    "# split a univariate sequence into samples\n",
    "def split_sequence(X,y,sequence, n_steps_in, n_steps_out):\n",
    " \n",
    "   for i in range(len(sequence)):\n",
    "       # find the end of this pattern\n",
    "       end_ix = i + n_steps_in\n",
    "       out_end_ix = end_ix + n_steps_out\n",
    " # check if we are beyond the sequence\n",
    "       if out_end_ix > len(sequence):\n",
    "              break\n",
    " # gather input and output parts of the pattern\n",
    "       seq_x, seq_y = sequence[i:end_ix], sequence[end_ix:out_end_ix]\n",
    "       X.append(seq_x.drop([\"SOH\",\"charge_policy\"],axis=1))\n",
    "       y.append(seq_y[\"SOH\"])\n",
    "   return X, y"
   ]
  },
  {
   "cell_type": "markdown",
   "metadata": {
    "id": "YDS98hUTaek2"
   },
   "source": [
    "Split the data into train and test"
   ]
  },
  {
   "cell_type": "code",
   "execution_count": 37,
   "metadata": {
    "id": "68crmCEfYwg9"
   },
   "outputs": [],
   "source": [
    "X_train=[]\n",
    "Y_train=[]\n",
    "X_test=[]\n",
    "Y_test=[]\n",
    "for i in range(len(train_data)):\n",
    "  X_train,Y_train=split_sequence(X_train,Y_train,train_data[i],10,10)\n",
    "for i in range(len(test_data)):\n",
    "  X_test,Y_test=split_sequence(X_test,Y_test,test_data[i],10,10)\n",
    "  \n",
    "\n"
   ]
  },
  {
   "cell_type": "code",
   "execution_count": 38,
   "metadata": {
    "colab": {
     "base_uri": "https://localhost:8080/"
    },
    "id": "zqg7C8VcIkcI",
    "outputId": "10abd14e-b8b4-4124-e6f9-da29c414e8fa"
   },
   "outputs": [
    {
     "data": {
      "text/plain": [
       "(10, 6)"
      ]
     },
     "execution_count": 38,
     "metadata": {},
     "output_type": "execute_result"
    }
   ],
   "source": [
    "np.shape(np.array(X_train[0]))"
   ]
  },
  {
   "cell_type": "code",
   "execution_count": 61,
   "metadata": {
    "id": "roHCXnTfq7-_",
    "scrolled": false
   },
   "outputs": [],
   "source": [
    "\n",
    "\n",
    "X1=np.array(X_train)\n",
    "Y1=np.array(Y_train)\n",
    "X2=np.array(X_test)\n",
    "Y2=np.array(Y_test)\n",
    "\n"
   ]
  },
  {
   "cell_type": "code",
   "execution_count": 40,
   "metadata": {
    "id": "xSyO5oLa3oUO"
   },
   "outputs": [],
   "source": [
    "r=425\n",
    "for k in range(len(X1)):\n",
    "    for i in range(10):\n",
    "        for x in range(6):\n",
    "             if(len(X1[k][i][x])>r):\n",
    "                    r=len(X1[k][i][x])\n",
    "\n"
   ]
  },
  {
   "cell_type": "code",
   "execution_count": 41,
   "metadata": {
    "id": "8_ZjENwW3oUO",
    "outputId": "123fc997-fe85-47fa-fb6f-09a66966e939",
    "scrolled": true
   },
   "outputs": [
    {
     "data": {
      "text/plain": [
       "848"
      ]
     },
     "execution_count": 41,
     "metadata": {},
     "output_type": "execute_result"
    }
   ],
   "source": [
    "r"
   ]
  },
  {
   "cell_type": "code",
   "execution_count": null,
   "metadata": {},
   "outputs": [],
   "source": [
    "t=np.zeros((len(X1),10,6,848))\n",
    "for k in range(len(X1)):\n",
    "    for i in range(25):\n",
    "        for x in range(6):\n",
    "             for j in range(len(X1[k][i][x])):\n",
    "                    if(j>=848):\n",
    "                        break\n",
    "                    else :\n",
    "                            t[k][i][x][j]=X1[k][i][x][j]"
   ]
  },
  {
   "cell_type": "code",
   "execution_count": 59,
   "metadata": {
    "id": "zOrV5Ukptj22"
   },
   "outputs": [],
   "source": [
    "X1=t"
   ]
  },
  {
   "cell_type": "code",
   "execution_count": 44,
   "metadata": {
    "id": "Vttsp1-63oUQ",
    "outputId": "c2f377a8-c24d-42d0-c56d-812e3881882c"
   },
   "outputs": [
    {
     "data": {
      "text/plain": [
       "(29212, 10, 6, 848)"
      ]
     },
     "execution_count": 44,
     "metadata": {},
     "output_type": "execute_result"
    }
   ],
   "source": [
    "np.shape(X1)"
   ]
  },
  {
   "cell_type": "code",
   "execution_count": 60,
   "metadata": {},
   "outputs": [
    {
     "data": {
      "text/plain": [
       "[<matplotlib.lines.Line2D at 0x231822ee070>]"
      ]
     },
     "execution_count": 60,
     "metadata": {},
     "output_type": "execute_result"
    },
    {
     "data": {
      "image/png": "[encoded data removed]",
      "text/plain": [
       "<Figure size 640x480 with 1 Axes>"
      ]
     },
     "metadata": {},
     "output_type": "display_data"
    }
   ],
   "source": [
    "plt.plot(X1[0][0][0])"
   ]
  },
  {
   "cell_type": "code",
   "execution_count": 45,
   "metadata": {},
   "outputs": [],
   "source": [
    "np.save(\"X1_10\",X1)"
   ]
  },
  {
   "cell_type": "code",
   "execution_count": 46,
   "metadata": {
    "id": "3XH4OiSm3oUQ"
   },
   "outputs": [],
   "source": [
    "t=np.zeros((len(X2),10,6,848))\n",
    "for k in range(len(X2)):\n",
    "    for i in range(10):\n",
    "        for x in range(6):\n",
    "             for j in range(len(X2[k][i][x])):\n",
    "                    if(j>=848):\n",
    "                        break\n",
    "                    else :\n",
    "                            t[k][i][x][j]=X2[k][i][x][j]"
   ]
  },
  {
   "cell_type": "code",
   "execution_count": 47,
   "metadata": {
    "id": "p4SIzo7A3oUQ"
   },
   "outputs": [],
   "source": [
    "X2=t"
   ]
  },
  {
   "cell_type": "code",
   "execution_count": 48,
   "metadata": {},
   "outputs": [
    {
     "data": {
      "text/plain": [
       "(20929, 25, 6, 848)"
      ]
     },
     "execution_count": 48,
     "metadata": {},
     "output_type": "execute_result"
    }
   ],
   "source": [
    "X2.shape"
   ]
  },
  {
   "cell_type": "code",
   "execution_count": 49,
   "metadata": {},
   "outputs": [],
   "source": [
    "np.save(\"X2_10\",X2)\n"
   ]
  },
  {
   "cell_type": "code",
   "execution_count": 50,
   "metadata": {
    "id": "1QisjGQ-3oUR"
   },
   "outputs": [],
   "source": [
    "\n",
    "np.save(\"Y2_10\",Y2)\n",
    "np.save(\"Y1_10\",Y1)\n"
   ]
  },
  {
   "cell_type": "code",
   "execution_count": null,
   "metadata": {},
   "outputs": [],
   "source": []
  }
 ],
 "metadata": {
  "accelerator": "GPU",
  "colab": {
   "provenance": []
  },
  "gpuClass": "standard",
  "kernelspec": {
   "display_name": "Python 3 (ipykernel)",
   "language": "python",
   "name": "python3"
  },
  "language_info": {
   "codemirror_mode": {
    "name": "ipython",
    "version": 3
   },
   "file_extension": ".py",
   "mimetype": "text/x-python",
   "name": "python",
   "nbconvert_exporter": "python",
   "pygments_lexer": "ipython3",
   "version": "3.9.13"
  }
 },
 "nbformat": 4,
 "nbformat_minor": 1
}
